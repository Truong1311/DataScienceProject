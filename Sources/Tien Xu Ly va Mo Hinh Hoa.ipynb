{
 "cells": [
  {
   "cell_type": "code",
   "execution_count": 1,
   "metadata": {},
   "outputs": [],
   "source": [
    "%matplotlib inline\n",
    "import matplotlib.pyplot as plt\n",
    "import seaborn as sns\n",
    "import pandas as pd\n",
    "import numpy as np\n",
    "\n",
    "from sklearn.model_selection import train_test_split\n",
    "from sklearn.preprocessing import OneHotEncoder, StandardScaler\n",
    "from sklearn.impute import SimpleImputer, KNNImputer\n",
    "from sklearn.base import BaseEstimator, TransformerMixin\n",
    "from sklearn.pipeline import Pipeline, make_pipeline\n",
    "from sklearn.compose import ColumnTransformer, make_column_transformer\n",
    "from sklearn.neural_network import MLPRegressor,MLPClassifier\n",
    "from sklearn.linear_model import LogisticRegression\n",
    "from sklearn import set_config\n",
    "set_config(display='diagram')"
   ]
  },
  {
   "cell_type": "code",
   "execution_count": 2,
   "metadata": {
    "scrolled": true
   },
   "outputs": [
    {
     "data": {
      "text/html": [
       "<div>\n",
       "<style scoped>\n",
       "    .dataframe tbody tr th:only-of-type {\n",
       "        vertical-align: middle;\n",
       "    }\n",
       "\n",
       "    .dataframe tbody tr th {\n",
       "        vertical-align: top;\n",
       "    }\n",
       "\n",
       "    .dataframe thead th {\n",
       "        text-align: right;\n",
       "    }\n",
       "</style>\n",
       "<table border=\"1\" class=\"dataframe\">\n",
       "  <thead>\n",
       "    <tr style=\"text-align: right;\">\n",
       "      <th></th>\n",
       "      <th>Name</th>\n",
       "      <th>Screen</th>\n",
       "      <th>Cpu</th>\n",
       "      <th>MainCamera</th>\n",
       "      <th>SelfieCamera</th>\n",
       "      <th>Rom</th>\n",
       "      <th>Ram</th>\n",
       "      <th>Pin</th>\n",
       "      <th>Price</th>\n",
       "    </tr>\n",
       "  </thead>\n",
       "  <tbody>\n",
       "    <tr>\n",
       "      <th>0</th>\n",
       "      <td>Realme Q2 4G/128G - Hàng nhập khẩu</td>\n",
       "      <td>IPS LCD 6.5 inch, 120Hz</td>\n",
       "      <td>MediaTek 800U 5G (7 nm)</td>\n",
       "      <td>Chính 48MP &amp; Phụ 8MP, 2MP</td>\n",
       "      <td>16 MP</td>\n",
       "      <td>128 GB</td>\n",
       "      <td>4GB</td>\n",
       "      <td>5000mAh, sạc nhanh 30w</td>\n",
       "      <td>1</td>\n",
       "    </tr>\n",
       "    <tr>\n",
       "      <th>1</th>\n",
       "      <td>Xiaomi POCO M3 - Chính hãng</td>\n",
       "      <td>IPS LCD, 6.53\", Full HD+</td>\n",
       "      <td>Snapdragon 662 8 nhân</td>\n",
       "      <td>Chính 48 MP &amp; Phụ 2 MP, 2 MP</td>\n",
       "      <td>8MP</td>\n",
       "      <td>128/64 GB</td>\n",
       "      <td>4GB</td>\n",
       "      <td>6000mAh</td>\n",
       "      <td>1</td>\n",
       "    </tr>\n",
       "    <tr>\n",
       "      <th>2</th>\n",
       "      <td>Oppo Reno5 8GB/128GB chính hãng</td>\n",
       "      <td>6,43 inch, OLED</td>\n",
       "      <td>Qualcomm SM7125 Snapdragon 720G (8 nm)</td>\n",
       "      <td>Chính 64 MP &amp; Phụ 8 MP, 2 MP, 2 MP</td>\n",
       "      <td>44MP</td>\n",
       "      <td>128 GB</td>\n",
       "      <td>8 GB</td>\n",
       "      <td>4.310 mAh + Sạc nhanh 50W</td>\n",
       "      <td>2</td>\n",
       "    </tr>\n",
       "    <tr>\n",
       "      <th>3</th>\n",
       "      <td>Redmi Note 9 Pro 5G 6Gb/128Gb</td>\n",
       "      <td></td>\n",
       "      <td>Octa-core (2x2.2 GHz Kryo 570 &amp; 6x1.8 GHz Kryo...</td>\n",
       "      <td>Chính 108MP+8MP+2MP+2MP</td>\n",
       "      <td>16MP</td>\n",
       "      <td>128 GB</td>\n",
       "      <td>6GB</td>\n",
       "      <td>Li-Po 4820 mAh</td>\n",
       "      <td>2</td>\n",
       "    </tr>\n",
       "    <tr>\n",
       "      <th>4</th>\n",
       "      <td>iPhone SE Cũ 16Gb Nguyên Bản</td>\n",
       "      <td>IPS LCD, 4.0\", DVGA</td>\n",
       "      <td>Apple A9</td>\n",
       "      <td>12 MP</td>\n",
       "      <td>1.2 MP</td>\n",
       "      <td>16 GB</td>\n",
       "      <td>2 GB</td>\n",
       "      <td>Li-Po 1624 mAh</td>\n",
       "      <td>1</td>\n",
       "    </tr>\n",
       "    <tr>\n",
       "      <th>...</th>\n",
       "      <td>...</td>\n",
       "      <td>...</td>\n",
       "      <td>...</td>\n",
       "      <td>...</td>\n",
       "      <td>...</td>\n",
       "      <td>...</td>\n",
       "      <td>...</td>\n",
       "      <td>...</td>\n",
       "      <td>...</td>\n",
       "    </tr>\n",
       "    <tr>\n",
       "      <th>1416</th>\n",
       "      <td>Masstel HAPI 10 Fami</td>\n",
       "      <td>IPS LCD, 5\", HD</td>\n",
       "      <td>MediaTek MT6739 4 nhân</td>\n",
       "      <td>5 MP</td>\n",
       "      <td>5 MP</td>\n",
       "      <td>16 GB</td>\n",
       "      <td>2 GB</td>\n",
       "      <td>2000 mAh</td>\n",
       "      <td>1</td>\n",
       "    </tr>\n",
       "    <tr>\n",
       "      <th>1417</th>\n",
       "      <td>Itel Alpha Lite</td>\n",
       "      <td>TFT LCD, 5\", FWVGA</td>\n",
       "      <td>Spreadtrum SC7731E 4 nhân</td>\n",
       "      <td>5 MP</td>\n",
       "      <td>2 MP</td>\n",
       "      <td>8 GB</td>\n",
       "      <td>1 GB</td>\n",
       "      <td>2050 mAh</td>\n",
       "      <td>1</td>\n",
       "    </tr>\n",
       "    <tr>\n",
       "      <th>1418</th>\n",
       "      <td>Mobell P41</td>\n",
       "      <td>IPS LCD, 5.5\", FWVGA+</td>\n",
       "      <td>MediaTek MT6580A 4 nhân</td>\n",
       "      <td>5 MP</td>\n",
       "      <td>2 MP</td>\n",
       "      <td>8 GB</td>\n",
       "      <td>1 GB</td>\n",
       "      <td>3500 mAh</td>\n",
       "      <td>1</td>\n",
       "    </tr>\n",
       "    <tr>\n",
       "      <th>1419</th>\n",
       "      <td>Masstel X5 Fami</td>\n",
       "      <td>IPS LCD, 5.45\", HD+</td>\n",
       "      <td>Spreadtrum SC7731E 4 nhân</td>\n",
       "      <td>8 MP</td>\n",
       "      <td>5 MP</td>\n",
       "      <td>8 GB</td>\n",
       "      <td>1 GB</td>\n",
       "      <td>3200 mAh</td>\n",
       "      <td>1</td>\n",
       "    </tr>\n",
       "    <tr>\n",
       "      <th>1420</th>\n",
       "      <td>Mobell S41</td>\n",
       "      <td>LCD, 5\", FWVGA</td>\n",
       "      <td>MediaTek MT6580M 4 nhân</td>\n",
       "      <td>5 MP</td>\n",
       "      <td>2 MP</td>\n",
       "      <td>8 GB</td>\n",
       "      <td>1 GB</td>\n",
       "      <td>2200 mAh</td>\n",
       "      <td>1</td>\n",
       "    </tr>\n",
       "  </tbody>\n",
       "</table>\n",
       "<p>1421 rows × 9 columns</p>\n",
       "</div>"
      ],
      "text/plain": [
       "                                    Name                     Screen  \\\n",
       "0     Realme Q2 4G/128G - Hàng nhập khẩu    IPS LCD 6.5 inch, 120Hz   \n",
       "1            Xiaomi POCO M3 - Chính hãng   IPS LCD, 6.53\", Full HD+   \n",
       "2        Oppo Reno5 8GB/128GB chính hãng            6,43 inch, OLED   \n",
       "3          Redmi Note 9 Pro 5G 6Gb/128Gb                              \n",
       "4           iPhone SE Cũ 16Gb Nguyên Bản        IPS LCD, 4.0\", DVGA   \n",
       "...                                  ...                        ...   \n",
       "1416                Masstel HAPI 10 Fami            IPS LCD, 5\", HD   \n",
       "1417                     Itel Alpha Lite         TFT LCD, 5\", FWVGA   \n",
       "1418                          Mobell P41      IPS LCD, 5.5\", FWVGA+   \n",
       "1419                     Masstel X5 Fami        IPS LCD, 5.45\", HD+   \n",
       "1420                          Mobell S41             LCD, 5\", FWVGA   \n",
       "\n",
       "                                                    Cpu  \\\n",
       "0                               MediaTek 800U 5G (7 nm)   \n",
       "1                                 Snapdragon 662 8 nhân   \n",
       "2                Qualcomm SM7125 Snapdragon 720G (8 nm)   \n",
       "3     Octa-core (2x2.2 GHz Kryo 570 & 6x1.8 GHz Kryo...   \n",
       "4                                              Apple A9   \n",
       "...                                                 ...   \n",
       "1416                             MediaTek MT6739 4 nhân   \n",
       "1417                          Spreadtrum SC7731E 4 nhân   \n",
       "1418                            MediaTek MT6580A 4 nhân   \n",
       "1419                          Spreadtrum SC7731E 4 nhân   \n",
       "1420                            MediaTek MT6580M 4 nhân   \n",
       "\n",
       "                              MainCamera SelfieCamera         Rom    Ram  \\\n",
       "0              Chính 48MP & Phụ 8MP, 2MP        16 MP      128 GB    4GB   \n",
       "1           Chính 48 MP & Phụ 2 MP, 2 MP          8MP   128/64 GB    4GB   \n",
       "2     Chính 64 MP & Phụ 8 MP, 2 MP, 2 MP         44MP      128 GB   8 GB   \n",
       "3                Chính 108MP+8MP+2MP+2MP         16MP      128 GB    6GB   \n",
       "4                                  12 MP       1.2 MP       16 GB   2 GB   \n",
       "...                                  ...          ...         ...    ...   \n",
       "1416                                5 MP         5 MP       16 GB   2 GB   \n",
       "1417                                5 MP         2 MP        8 GB   1 GB   \n",
       "1418                                5 MP         2 MP        8 GB   1 GB   \n",
       "1419                                8 MP         5 MP        8 GB   1 GB   \n",
       "1420                                5 MP         2 MP        8 GB   1 GB   \n",
       "\n",
       "                            Pin  Price  \n",
       "0        5000mAh, sạc nhanh 30w      1  \n",
       "1                       6000mAh      1  \n",
       "2     4.310 mAh + Sạc nhanh 50W      2  \n",
       "3                Li-Po 4820 mAh      2  \n",
       "4                Li-Po 1624 mAh      1  \n",
       "...                         ...    ...  \n",
       "1416                   2000 mAh      1  \n",
       "1417                   2050 mAh      1  \n",
       "1418                   3500 mAh      1  \n",
       "1419                   3200 mAh      1  \n",
       "1420                   2200 mAh      1  \n",
       "\n",
       "[1421 rows x 9 columns]"
      ]
     },
     "execution_count": 2,
     "metadata": {},
     "output_type": "execute_result"
    }
   ],
   "source": [
    "data_df = pd.read_csv('data02.csv')\n",
    "data_df"
   ]
  },
  {
   "cell_type": "code",
   "execution_count": 3,
   "metadata": {},
   "outputs": [
    {
     "data": {
      "text/plain": [
       "Name             0\n",
       "Screen           0\n",
       "Cpu             52\n",
       "MainCamera      26\n",
       "SelfieCamera     7\n",
       "Rom              7\n",
       "Ram              7\n",
       "Pin             45\n",
       "Price            0\n",
       "dtype: int64"
      ]
     },
     "execution_count": 3,
     "metadata": {},
     "output_type": "execute_result"
    }
   ],
   "source": [
    "data_df.isna().sum()"
   ]
  },
  {
   "cell_type": "code",
   "execution_count": 4,
   "metadata": {},
   "outputs": [
    {
     "data": {
      "text/plain": [
       "(1421, 9)"
      ]
     },
     "execution_count": 4,
     "metadata": {},
     "output_type": "execute_result"
    }
   ],
   "source": [
    "data_df.shape"
   ]
  },
  {
   "cell_type": "markdown",
   "metadata": {},
   "source": [
    "### Tách các tập."
   ]
  },
  {
   "cell_type": "code",
   "execution_count": 5,
   "metadata": {},
   "outputs": [],
   "source": [
    "# Tách X và y\n",
    "y = data_df[\"Price\"]\n",
    "X = data_df.drop(\"Price\", axis=1)"
   ]
  },
  {
   "cell_type": "code",
   "execution_count": 6,
   "metadata": {
    "scrolled": true
   },
   "outputs": [
    {
     "data": {
      "text/plain": [
       "0       1\n",
       "1       1\n",
       "2       2\n",
       "3       2\n",
       "4       1\n",
       "       ..\n",
       "1416    1\n",
       "1417    1\n",
       "1418    1\n",
       "1419    1\n",
       "1420    1\n",
       "Name: Price, Length: 1421, dtype: int64"
      ]
     },
     "execution_count": 6,
     "metadata": {},
     "output_type": "execute_result"
    }
   ],
   "source": [
    "y"
   ]
  },
  {
   "cell_type": "code",
   "execution_count": 7,
   "metadata": {
    "scrolled": true
   },
   "outputs": [
    {
     "data": {
      "text/html": [
       "<div>\n",
       "<style scoped>\n",
       "    .dataframe tbody tr th:only-of-type {\n",
       "        vertical-align: middle;\n",
       "    }\n",
       "\n",
       "    .dataframe tbody tr th {\n",
       "        vertical-align: top;\n",
       "    }\n",
       "\n",
       "    .dataframe thead th {\n",
       "        text-align: right;\n",
       "    }\n",
       "</style>\n",
       "<table border=\"1\" class=\"dataframe\">\n",
       "  <thead>\n",
       "    <tr style=\"text-align: right;\">\n",
       "      <th></th>\n",
       "      <th>Name</th>\n",
       "      <th>Screen</th>\n",
       "      <th>Cpu</th>\n",
       "      <th>MainCamera</th>\n",
       "      <th>SelfieCamera</th>\n",
       "      <th>Rom</th>\n",
       "      <th>Ram</th>\n",
       "      <th>Pin</th>\n",
       "    </tr>\n",
       "  </thead>\n",
       "  <tbody>\n",
       "    <tr>\n",
       "      <th>0</th>\n",
       "      <td>Realme Q2 4G/128G - Hàng nhập khẩu</td>\n",
       "      <td>IPS LCD 6.5 inch, 120Hz</td>\n",
       "      <td>MediaTek 800U 5G (7 nm)</td>\n",
       "      <td>Chính 48MP &amp; Phụ 8MP, 2MP</td>\n",
       "      <td>16 MP</td>\n",
       "      <td>128 GB</td>\n",
       "      <td>4GB</td>\n",
       "      <td>5000mAh, sạc nhanh 30w</td>\n",
       "    </tr>\n",
       "    <tr>\n",
       "      <th>1</th>\n",
       "      <td>Xiaomi POCO M3 - Chính hãng</td>\n",
       "      <td>IPS LCD, 6.53\", Full HD+</td>\n",
       "      <td>Snapdragon 662 8 nhân</td>\n",
       "      <td>Chính 48 MP &amp; Phụ 2 MP, 2 MP</td>\n",
       "      <td>8MP</td>\n",
       "      <td>128/64 GB</td>\n",
       "      <td>4GB</td>\n",
       "      <td>6000mAh</td>\n",
       "    </tr>\n",
       "    <tr>\n",
       "      <th>2</th>\n",
       "      <td>Oppo Reno5 8GB/128GB chính hãng</td>\n",
       "      <td>6,43 inch, OLED</td>\n",
       "      <td>Qualcomm SM7125 Snapdragon 720G (8 nm)</td>\n",
       "      <td>Chính 64 MP &amp; Phụ 8 MP, 2 MP, 2 MP</td>\n",
       "      <td>44MP</td>\n",
       "      <td>128 GB</td>\n",
       "      <td>8 GB</td>\n",
       "      <td>4.310 mAh + Sạc nhanh 50W</td>\n",
       "    </tr>\n",
       "    <tr>\n",
       "      <th>3</th>\n",
       "      <td>Redmi Note 9 Pro 5G 6Gb/128Gb</td>\n",
       "      <td></td>\n",
       "      <td>Octa-core (2x2.2 GHz Kryo 570 &amp; 6x1.8 GHz Kryo...</td>\n",
       "      <td>Chính 108MP+8MP+2MP+2MP</td>\n",
       "      <td>16MP</td>\n",
       "      <td>128 GB</td>\n",
       "      <td>6GB</td>\n",
       "      <td>Li-Po 4820 mAh</td>\n",
       "    </tr>\n",
       "    <tr>\n",
       "      <th>4</th>\n",
       "      <td>iPhone SE Cũ 16Gb Nguyên Bản</td>\n",
       "      <td>IPS LCD, 4.0\", DVGA</td>\n",
       "      <td>Apple A9</td>\n",
       "      <td>12 MP</td>\n",
       "      <td>1.2 MP</td>\n",
       "      <td>16 GB</td>\n",
       "      <td>2 GB</td>\n",
       "      <td>Li-Po 1624 mAh</td>\n",
       "    </tr>\n",
       "    <tr>\n",
       "      <th>...</th>\n",
       "      <td>...</td>\n",
       "      <td>...</td>\n",
       "      <td>...</td>\n",
       "      <td>...</td>\n",
       "      <td>...</td>\n",
       "      <td>...</td>\n",
       "      <td>...</td>\n",
       "      <td>...</td>\n",
       "    </tr>\n",
       "    <tr>\n",
       "      <th>1416</th>\n",
       "      <td>Masstel HAPI 10 Fami</td>\n",
       "      <td>IPS LCD, 5\", HD</td>\n",
       "      <td>MediaTek MT6739 4 nhân</td>\n",
       "      <td>5 MP</td>\n",
       "      <td>5 MP</td>\n",
       "      <td>16 GB</td>\n",
       "      <td>2 GB</td>\n",
       "      <td>2000 mAh</td>\n",
       "    </tr>\n",
       "    <tr>\n",
       "      <th>1417</th>\n",
       "      <td>Itel Alpha Lite</td>\n",
       "      <td>TFT LCD, 5\", FWVGA</td>\n",
       "      <td>Spreadtrum SC7731E 4 nhân</td>\n",
       "      <td>5 MP</td>\n",
       "      <td>2 MP</td>\n",
       "      <td>8 GB</td>\n",
       "      <td>1 GB</td>\n",
       "      <td>2050 mAh</td>\n",
       "    </tr>\n",
       "    <tr>\n",
       "      <th>1418</th>\n",
       "      <td>Mobell P41</td>\n",
       "      <td>IPS LCD, 5.5\", FWVGA+</td>\n",
       "      <td>MediaTek MT6580A 4 nhân</td>\n",
       "      <td>5 MP</td>\n",
       "      <td>2 MP</td>\n",
       "      <td>8 GB</td>\n",
       "      <td>1 GB</td>\n",
       "      <td>3500 mAh</td>\n",
       "    </tr>\n",
       "    <tr>\n",
       "      <th>1419</th>\n",
       "      <td>Masstel X5 Fami</td>\n",
       "      <td>IPS LCD, 5.45\", HD+</td>\n",
       "      <td>Spreadtrum SC7731E 4 nhân</td>\n",
       "      <td>8 MP</td>\n",
       "      <td>5 MP</td>\n",
       "      <td>8 GB</td>\n",
       "      <td>1 GB</td>\n",
       "      <td>3200 mAh</td>\n",
       "    </tr>\n",
       "    <tr>\n",
       "      <th>1420</th>\n",
       "      <td>Mobell S41</td>\n",
       "      <td>LCD, 5\", FWVGA</td>\n",
       "      <td>MediaTek MT6580M 4 nhân</td>\n",
       "      <td>5 MP</td>\n",
       "      <td>2 MP</td>\n",
       "      <td>8 GB</td>\n",
       "      <td>1 GB</td>\n",
       "      <td>2200 mAh</td>\n",
       "    </tr>\n",
       "  </tbody>\n",
       "</table>\n",
       "<p>1421 rows × 8 columns</p>\n",
       "</div>"
      ],
      "text/plain": [
       "                                    Name                     Screen  \\\n",
       "0     Realme Q2 4G/128G - Hàng nhập khẩu    IPS LCD 6.5 inch, 120Hz   \n",
       "1            Xiaomi POCO M3 - Chính hãng   IPS LCD, 6.53\", Full HD+   \n",
       "2        Oppo Reno5 8GB/128GB chính hãng            6,43 inch, OLED   \n",
       "3          Redmi Note 9 Pro 5G 6Gb/128Gb                              \n",
       "4           iPhone SE Cũ 16Gb Nguyên Bản        IPS LCD, 4.0\", DVGA   \n",
       "...                                  ...                        ...   \n",
       "1416                Masstel HAPI 10 Fami            IPS LCD, 5\", HD   \n",
       "1417                     Itel Alpha Lite         TFT LCD, 5\", FWVGA   \n",
       "1418                          Mobell P41      IPS LCD, 5.5\", FWVGA+   \n",
       "1419                     Masstel X5 Fami        IPS LCD, 5.45\", HD+   \n",
       "1420                          Mobell S41             LCD, 5\", FWVGA   \n",
       "\n",
       "                                                    Cpu  \\\n",
       "0                               MediaTek 800U 5G (7 nm)   \n",
       "1                                 Snapdragon 662 8 nhân   \n",
       "2                Qualcomm SM7125 Snapdragon 720G (8 nm)   \n",
       "3     Octa-core (2x2.2 GHz Kryo 570 & 6x1.8 GHz Kryo...   \n",
       "4                                              Apple A9   \n",
       "...                                                 ...   \n",
       "1416                             MediaTek MT6739 4 nhân   \n",
       "1417                          Spreadtrum SC7731E 4 nhân   \n",
       "1418                            MediaTek MT6580A 4 nhân   \n",
       "1419                          Spreadtrum SC7731E 4 nhân   \n",
       "1420                            MediaTek MT6580M 4 nhân   \n",
       "\n",
       "                              MainCamera SelfieCamera         Rom    Ram  \\\n",
       "0              Chính 48MP & Phụ 8MP, 2MP        16 MP      128 GB    4GB   \n",
       "1           Chính 48 MP & Phụ 2 MP, 2 MP          8MP   128/64 GB    4GB   \n",
       "2     Chính 64 MP & Phụ 8 MP, 2 MP, 2 MP         44MP      128 GB   8 GB   \n",
       "3                Chính 108MP+8MP+2MP+2MP         16MP      128 GB    6GB   \n",
       "4                                  12 MP       1.2 MP       16 GB   2 GB   \n",
       "...                                  ...          ...         ...    ...   \n",
       "1416                                5 MP         5 MP       16 GB   2 GB   \n",
       "1417                                5 MP         2 MP        8 GB   1 GB   \n",
       "1418                                5 MP         2 MP        8 GB   1 GB   \n",
       "1419                                8 MP         5 MP        8 GB   1 GB   \n",
       "1420                                5 MP         2 MP        8 GB   1 GB   \n",
       "\n",
       "                            Pin  \n",
       "0        5000mAh, sạc nhanh 30w  \n",
       "1                       6000mAh  \n",
       "2     4.310 mAh + Sạc nhanh 50W  \n",
       "3                Li-Po 4820 mAh  \n",
       "4                Li-Po 1624 mAh  \n",
       "...                         ...  \n",
       "1416                   2000 mAh  \n",
       "1417                   2050 mAh  \n",
       "1418                   3500 mAh  \n",
       "1419                   3200 mAh  \n",
       "1420                   2200 mAh  \n",
       "\n",
       "[1421 rows x 8 columns]"
      ]
     },
     "execution_count": 7,
     "metadata": {},
     "output_type": "execute_result"
    }
   ],
   "source": [
    "X"
   ]
  },
  {
   "cell_type": "markdown",
   "metadata": {},
   "source": [
    "- Tách tập Train, Validation và Test với tỉ lệ 60:20:20"
   ]
  },
  {
   "cell_type": "code",
   "execution_count": 8,
   "metadata": {},
   "outputs": [],
   "source": [
    "# tách tập train(train và val) và tập test với tỉ lệ 80:20\n",
    "train_X, test_X, train_y, test_y = train_test_split(X, y, test_size=0.2, random_state=0)"
   ]
  },
  {
   "cell_type": "code",
   "execution_count": 9,
   "metadata": {},
   "outputs": [],
   "source": [
    "# từ tập train tách ra tập train và tập validation với tỉ lệ 75:25 để ứng với 60:20 ở tập dữ liệu ban đâu.\n",
    "tr_X, val_X, tr_y, val_y = train_test_split(train_X, train_y, test_size=0.25, random_state=0)"
   ]
  },
  {
   "cell_type": "code",
   "execution_count": 10,
   "metadata": {},
   "outputs": [
    {
     "data": {
      "text/plain": [
       "(852, 8)"
      ]
     },
     "execution_count": 10,
     "metadata": {},
     "output_type": "execute_result"
    }
   ],
   "source": [
    "# tập train( dùng để huấn luyện)\n",
    "tr_X.shape"
   ]
  },
  {
   "cell_type": "code",
   "execution_count": 11,
   "metadata": {},
   "outputs": [
    {
     "data": {
      "text/plain": [
       "(284, 8)"
      ]
     },
     "execution_count": 11,
     "metadata": {},
     "output_type": "execute_result"
    }
   ],
   "source": [
    "val_X.shape"
   ]
  },
  {
   "cell_type": "code",
   "execution_count": 12,
   "metadata": {},
   "outputs": [
    {
     "data": {
      "text/plain": [
       "(285, 8)"
      ]
     },
     "execution_count": 12,
     "metadata": {},
     "output_type": "execute_result"
    }
   ],
   "source": [
    "test_X.shape"
   ]
  },
  {
   "cell_type": "code",
   "execution_count": 13,
   "metadata": {
    "scrolled": true
   },
   "outputs": [
    {
     "name": "stdout",
     "output_type": "stream",
     "text": [
      "<class 'pandas.core.frame.DataFrame'>\n",
      "Int64Index: 852 entries, 1414 to 745\n",
      "Data columns (total 8 columns):\n",
      " #   Column        Non-Null Count  Dtype \n",
      "---  ------        --------------  ----- \n",
      " 0   Name          852 non-null    object\n",
      " 1   Screen        852 non-null    object\n",
      " 2   Cpu           822 non-null    object\n",
      " 3   MainCamera    846 non-null    object\n",
      " 4   SelfieCamera  847 non-null    object\n",
      " 5   Rom           846 non-null    object\n",
      " 6   Ram           846 non-null    object\n",
      " 7   Pin           830 non-null    object\n",
      "dtypes: object(8)\n",
      "memory usage: 59.9+ KB\n"
     ]
    }
   ],
   "source": [
    "tr_X.info()"
   ]
  },
  {
   "cell_type": "code",
   "execution_count": 14,
   "metadata": {},
   "outputs": [
    {
     "data": {
      "text/plain": [
       "1414    1\n",
       "1379    1\n",
       "112     2\n",
       "636     2\n",
       "1312    4\n",
       "       ..\n",
       "201     1\n",
       "990     1\n",
       "595     1\n",
       "229     1\n",
       "745     1\n",
       "Name: Price, Length: 852, dtype: int64"
      ]
     },
     "execution_count": 14,
     "metadata": {},
     "output_type": "execute_result"
    }
   ],
   "source": [
    "tr_y"
   ]
  },
  {
   "cell_type": "markdown",
   "metadata": {},
   "source": [
    "### Quan sát dữ liệu từ tập tr_X( tập huấn luyện) nhân thấy:\n",
    " - Ở thuôc tính Name có thể tách ra hãng sản xuất, do thực tế có thể thấy rằng, mỗi hãng khác nhau sẽ có giá bán khác nhau.\n",
    " - Các thuộc tính Screen, Main Camera, Selfie Camera, Ram, Rom và Pin có thể tách lấy các giá trị dạng số bằng với :\n",
    "     + Screen: lấy kích thước màn hình( đơn vị inchs).\n",
    "     + Main Camera, Selfie Camera: lấy giá trị độ phân giải của camera chính.( đối với giá trị có nhiều giá trị, ví dụ:Chính 48 MP & Phụ 8 MP, 2 MP, 2 MP, thì chỉ lấy giá trị camera chính.\n",
    "     + Đối với Ram và Rom xử lí chuỗi bình thường.\n",
    " - Thuộc tính CPU có thể tách ra loại chip: ví dụ: Qualcomm Snapdragon, MediaTek, Exynos, ... Nhưng trên thị trường có quá nhiều phiên bản khác nhau của chip nên sẽ bỏ qua cột dữ liệu này :(("
   ]
  },
  {
   "cell_type": "markdown",
   "metadata": {},
   "source": [
    "- Class ColAdderDropper sẽ xử lý thuộc tính Name của dữ liệu, thay thế thuộc tính Name bằng thuốc tính Phone Maker, chỉ ra rằng giá trị của thuộc tính này là hãng điện thoại."
   ]
  },
  {
   "cell_type": "code",
   "execution_count": 15,
   "metadata": {},
   "outputs": [],
   "source": [
    "# xóa cột Name và thêm cột Phone Maker, xóa cột Cpu\n",
    "class ColAdderDropper(BaseEstimator, TransformerMixin):\n",
    "    def __init__(self, num_top_pmakers=1):\n",
    "        self.num_top_pmakers = num_top_pmakers\n",
    "    def fit(self, tr_X, y=None):\n",
    "        pmakers_col = pd.Series([name.split()[0].upper() for name in tr_X.Name])\n",
    "        self.pmaker_counts_ = pmakers_col.value_counts()\n",
    "        pmakers = list(self.pmaker_counts_.index)\n",
    "        self.top_pmakers_ = pmakers[:max(1, min(self.num_top_pmakers, len(pmakers)))]\n",
    "        return self\n",
    "    def transform(self, X_df, y=None):\n",
    "        name = X_df.Name\n",
    "        df = X_df.drop([\"Cpu\",\"Name\"], axis = 1)\n",
    "        Pmakers = []\n",
    "        for val in name:\n",
    "            pmaker = 'OTHERS'\n",
    "            for p in self.top_pmakers_:\n",
    "                if p in val.upper():\n",
    "                    pmaker = p\n",
    "                    break\n",
    "            Pmakers.append(pmaker)\n",
    "        df['PhoneMaker'] = pd.Series(Pmakers, index = df.index)\n",
    "        return df"
   ]
  },
  {
   "cell_type": "code",
   "execution_count": 16,
   "metadata": {
    "scrolled": true
   },
   "outputs": [
    {
     "name": "stdout",
     "output_type": "stream",
     "text": [
      "XIAOMI        143\n",
      "SAMSUNG       124\n",
      "IPHONE        116\n",
      "OPPO           78\n",
      "REALME         42\n",
      "VIVO           42\n",
      "VSMART         34\n",
      "BLACKBERRY     28\n",
      "ASUS           28\n",
      "SONY           27\n",
      "HTC            23\n",
      "LENOVO         16\n",
      "NOKIA          15\n",
      "SKY            13\n",
      "PHILIPS        13\n",
      "MOTOROLA       12\n",
      "LG             12\n",
      "GIONEE         11\n",
      "SHARP          10\n",
      "HUAWEI          9\n",
      "MASSGO          7\n",
      "KYOCERA         7\n",
      "WIKO            6\n",
      "NOMI            4\n",
      "GOOGLE          4\n",
      "TECNO           3\n",
      "ĐIỆN            3\n",
      "PANTECH         2\n",
      "INFINIX         2\n",
      "NUBIA           2\n",
      "MASSTEL         2\n",
      "ITEL            2\n",
      "ONEPLUS         2\n",
      "INFOCUS         2\n",
      "MEIZU           2\n",
      "BPHONE          1\n",
      "KASHI           1\n",
      "ANOKA           1\n",
      "MÁY             1\n",
      "OBI             1\n",
      "REDMI           1\n",
      "dtype: int64\n",
      "\n",
      "['XIAOMI', 'SAMSUNG', 'IPHONE', 'OPPO', 'REALME', 'VIVO', 'VSMART', 'BLACKBERRY', 'ASUS', 'SONY']\n"
     ]
    }
   ],
   "source": [
    "col_adderdropper = ColAdderDropper(num_top_pmakers=10)\n",
    "col_adderdropper.fit(tr_X)\n",
    "print(col_adderdropper.pmaker_counts_)\n",
    "print()\n",
    "print(col_adderdropper.top_pmakers_)"
   ]
  },
  {
   "cell_type": "code",
   "execution_count": 17,
   "metadata": {
    "scrolled": true
   },
   "outputs": [
    {
     "data": {
      "text/html": [
       "<div>\n",
       "<style scoped>\n",
       "    .dataframe tbody tr th:only-of-type {\n",
       "        vertical-align: middle;\n",
       "    }\n",
       "\n",
       "    .dataframe tbody tr th {\n",
       "        vertical-align: top;\n",
       "    }\n",
       "\n",
       "    .dataframe thead th {\n",
       "        text-align: right;\n",
       "    }\n",
       "</style>\n",
       "<table border=\"1\" class=\"dataframe\">\n",
       "  <thead>\n",
       "    <tr style=\"text-align: right;\">\n",
       "      <th></th>\n",
       "      <th>Screen</th>\n",
       "      <th>MainCamera</th>\n",
       "      <th>SelfieCamera</th>\n",
       "      <th>Rom</th>\n",
       "      <th>Ram</th>\n",
       "      <th>Pin</th>\n",
       "      <th>PhoneMaker</th>\n",
       "    </tr>\n",
       "  </thead>\n",
       "  <tbody>\n",
       "    <tr>\n",
       "      <th>1414</th>\n",
       "      <td>IPS LCD, 5.7\", HD+</td>\n",
       "      <td>5 MP</td>\n",
       "      <td>5 MP</td>\n",
       "      <td>16 GB</td>\n",
       "      <td>1 GB</td>\n",
       "      <td>2800 mAh</td>\n",
       "      <td>OTHERS</td>\n",
       "    </tr>\n",
       "    <tr>\n",
       "      <th>1379</th>\n",
       "      <td>IPS LCD, 6.5\", HD+</td>\n",
       "      <td>Chính 12 MP &amp; Phụ 2 MP, 2 MP</td>\n",
       "      <td>8 MP</td>\n",
       "      <td>128 GB</td>\n",
       "      <td>4 GB</td>\n",
       "      <td>4230 mAh</td>\n",
       "      <td>OPPO</td>\n",
       "    </tr>\n",
       "    <tr>\n",
       "      <th>112</th>\n",
       "      <td>6.4 inches</td>\n",
       "      <td>Triple: 12 MP, f/1.5-2.4, 26mm (wide), 1/2.55\"...</td>\n",
       "      <td>8.0 MP</td>\n",
       "      <td>128 GB</td>\n",
       "      <td>8 GB</td>\n",
       "      <td>Li-Ion 4100 mAh</td>\n",
       "      <td>SAMSUNG</td>\n",
       "    </tr>\n",
       "    <tr>\n",
       "      <th>636</th>\n",
       "      <td></td>\n",
       "      <td>64MP f1.8 (main) 13MP f2.4(wide) 8MP f/2.4 (te...</td>\n",
       "      <td>Dual 20 MP + 2 MP</td>\n",
       "      <td>64 GB</td>\n",
       "      <td>6 GB</td>\n",
       "      <td>4500mAh</td>\n",
       "      <td>XIAOMI</td>\n",
       "    </tr>\n",
       "    <tr>\n",
       "      <th>1312</th>\n",
       "      <td>OLED, 6.1\", Super Retina XDR</td>\n",
       "      <td>3 camera 12 MP</td>\n",
       "      <td>12 MP</td>\n",
       "      <td>256 GB</td>\n",
       "      <td>6 GB</td>\n",
       "      <td>2815 mAh, có sạc nhanh</td>\n",
       "      <td>IPHONE</td>\n",
       "    </tr>\n",
       "    <tr>\n",
       "      <th>...</th>\n",
       "      <td>...</td>\n",
       "      <td>...</td>\n",
       "      <td>...</td>\n",
       "      <td>...</td>\n",
       "      <td>...</td>\n",
       "      <td>...</td>\n",
       "      <td>...</td>\n",
       "    </tr>\n",
       "    <tr>\n",
       "      <th>201</th>\n",
       "      <td>TFT LCD, 6.5\", HD+</td>\n",
       "      <td>Chính 13 MP &amp; Phụ 2 MP, 2 MP</td>\n",
       "      <td>5MP</td>\n",
       "      <td>32 GB</td>\n",
       "      <td>3GB</td>\n",
       "      <td>Li-Po 5000 mAh</td>\n",
       "      <td>SAMSUNG</td>\n",
       "    </tr>\n",
       "    <tr>\n",
       "      <th>990</th>\n",
       "      <td>Super LCD 3, 5.2\", QuadHD (2K)</td>\n",
       "      <td>20 MP</td>\n",
       "      <td>4.0 MP</td>\n",
       "      <td>32 GB</td>\n",
       "      <td>3 GB</td>\n",
       "      <td>Li-Po 2840 mAh</td>\n",
       "      <td>OTHERS</td>\n",
       "    </tr>\n",
       "    <tr>\n",
       "      <th>595</th>\n",
       "      <td>5.5 inches, S-CG Silicon LCDFull HD 1080 x 19...</td>\n",
       "      <td>13.1 MP</td>\n",
       "      <td>1.2 CMOS</td>\n",
       "      <td>16 GB</td>\n",
       "      <td>2 GB</td>\n",
       "      <td>Li-Ion 2610 mAh</td>\n",
       "      <td>OTHERS</td>\n",
       "    </tr>\n",
       "    <tr>\n",
       "      <th>229</th>\n",
       "      <td>IPS LCD, 4.7\", HD</td>\n",
       "      <td>8.0 MP</td>\n",
       "      <td>1.2 MP</td>\n",
       "      <td>16 GB</td>\n",
       "      <td>1 GB</td>\n",
       "      <td>Li-Po 1810 mAh</td>\n",
       "      <td>IPHONE</td>\n",
       "    </tr>\n",
       "    <tr>\n",
       "      <th>745</th>\n",
       "      <td>TFT, 4.8\", VGA</td>\n",
       "      <td>5.0 MP</td>\n",
       "      <td>Không</td>\n",
       "      <td>8 GB</td>\n",
       "      <td>768 MB</td>\n",
       "      <td>Li-Ion 1230 mAh</td>\n",
       "      <td>BLACKBERRY</td>\n",
       "    </tr>\n",
       "  </tbody>\n",
       "</table>\n",
       "<p>852 rows × 7 columns</p>\n",
       "</div>"
      ],
      "text/plain": [
       "                                                 Screen  \\\n",
       "1414                                 IPS LCD, 5.7\", HD+   \n",
       "1379                                 IPS LCD, 6.5\", HD+   \n",
       "112                                          6.4 inches   \n",
       "636                                                       \n",
       "1312                       OLED, 6.1\", Super Retina XDR   \n",
       "...                                                 ...   \n",
       "201                                  TFT LCD, 6.5\", HD+   \n",
       "990                      Super LCD 3, 5.2\", QuadHD (2K)   \n",
       "595    5.5 inches, S-CG Silicon LCDFull HD 1080 x 19...   \n",
       "229                                   IPS LCD, 4.7\", HD   \n",
       "745                                      TFT, 4.8\", VGA   \n",
       "\n",
       "                                             MainCamera       SelfieCamera  \\\n",
       "1414                                               5 MP               5 MP   \n",
       "1379                       Chính 12 MP & Phụ 2 MP, 2 MP               8 MP   \n",
       "112   Triple: 12 MP, f/1.5-2.4, 26mm (wide), 1/2.55\"...             8.0 MP   \n",
       "636   64MP f1.8 (main) 13MP f2.4(wide) 8MP f/2.4 (te...  Dual 20 MP + 2 MP   \n",
       "1312                                     3 camera 12 MP              12 MP   \n",
       "...                                                 ...                ...   \n",
       "201                        Chính 13 MP & Phụ 2 MP, 2 MP                5MP   \n",
       "990                                               20 MP             4.0 MP   \n",
       "595                                             13.1 MP           1.2 CMOS   \n",
       "229                                              8.0 MP             1.2 MP   \n",
       "745                                              5.0 MP              Không   \n",
       "\n",
       "          Rom      Ram                     Pin  PhoneMaker  \n",
       "1414    16 GB     1 GB                2800 mAh      OTHERS  \n",
       "1379   128 GB     4 GB                4230 mAh        OPPO  \n",
       "112    128 GB     8 GB         Li-Ion 4100 mAh     SAMSUNG  \n",
       "636     64 GB     6 GB                 4500mAh      XIAOMI  \n",
       "1312   256 GB     6 GB  2815 mAh, có sạc nhanh      IPHONE  \n",
       "...       ...      ...                     ...         ...  \n",
       "201     32 GB      3GB          Li-Po 5000 mAh     SAMSUNG  \n",
       "990     32 GB     3 GB          Li-Po 2840 mAh      OTHERS  \n",
       "595     16 GB     2 GB         Li-Ion 2610 mAh      OTHERS  \n",
       "229     16 GB     1 GB          Li-Po 1810 mAh      IPHONE  \n",
       "745      8 GB   768 MB         Li-Ion 1230 mAh  BLACKBERRY  \n",
       "\n",
       "[852 rows x 7 columns]"
      ]
     },
     "execution_count": 17,
     "metadata": {},
     "output_type": "execute_result"
    }
   ],
   "source": [
    "col_adderdropper.transform(tr_X)"
   ]
  },
  {
   "cell_type": "code",
   "execution_count": 18,
   "metadata": {
    "scrolled": true
   },
   "outputs": [],
   "source": [
    "# chuyển giá trị màn hình từ chuỗi sang số theo kích thước màn hình lọc được từ thông số màn hình.\n",
    "# Camera trước và Selfie camera lấy theo giá trị camera chính.\n",
    "### vì dữ liệu thu thập từ nhiều trang web khác nhau nên định dạng khác nhau ví dụ: 12 MP và 12MP ... Nên sẽ có \n",
    "##  một vài sai số. Nhưng tạm chấp nhận được :(((\n",
    "class EncodingString(BaseEstimator, TransformerMixin):\n",
    "    def __init__(self, cols = None):\n",
    "        self. cols = cols\n",
    "    def fit(self,X_df,y =None):\n",
    "        encode = []\n",
    "        for col in self.cols:\n",
    "            encode.append((col,X_df[col].str.extract(r'([0-9][0-9][0-9][0-9]|[0-9][0-9][0-9]|[0-9][0-9]|[0-9][.,][0-9]|[0-9])', expand=False).str.replace(',','.')))\n",
    "        self.encode = dict(encode)\n",
    "        return self\n",
    "    def transform(self, X_df, y=None):\n",
    "        df = X_df.drop(self.cols, axis = 1)\n",
    "        for col in self.cols:\n",
    "            if col == 'Pin':\n",
    "                df[col] = pd.Series(pd.to_numeric(self.encode[col]), index = df.index)/1000\n",
    "            else:\n",
    "                df[col] = pd.Series(pd.to_numeric(self.encode[col]), index = df.index)\n",
    "\n",
    "        return df"
   ]
  },
  {
   "cell_type": "code",
   "execution_count": 19,
   "metadata": {
    "scrolled": true
   },
   "outputs": [],
   "source": [
    "cols = [\"Screen\",\"MainCamera\",\"SelfieCamera\",\"Rom\",\"Ram\",\"Pin\"]\n",
    "col_encoding = EncodingString(cols = cols)\n",
    "col_encoding.fit(tr_X)\n",
    "a =col_encoding.transform(tr_X)"
   ]
  },
  {
   "cell_type": "code",
   "execution_count": 20,
   "metadata": {},
   "outputs": [],
   "source": [
    "df = col_encoding.fit_transform(ColAdderDropper(num_top_pmakers=7).fit_transform(tr_X))"
   ]
  },
  {
   "cell_type": "code",
   "execution_count": 21,
   "metadata": {},
   "outputs": [
    {
     "data": {
      "text/html": [
       "<div>\n",
       "<style scoped>\n",
       "    .dataframe tbody tr th:only-of-type {\n",
       "        vertical-align: middle;\n",
       "    }\n",
       "\n",
       "    .dataframe tbody tr th {\n",
       "        vertical-align: top;\n",
       "    }\n",
       "\n",
       "    .dataframe thead th {\n",
       "        text-align: right;\n",
       "    }\n",
       "</style>\n",
       "<table border=\"1\" class=\"dataframe\">\n",
       "  <thead>\n",
       "    <tr style=\"text-align: right;\">\n",
       "      <th></th>\n",
       "      <th>PhoneMaker</th>\n",
       "      <th>Screen</th>\n",
       "      <th>MainCamera</th>\n",
       "      <th>SelfieCamera</th>\n",
       "      <th>Rom</th>\n",
       "      <th>Ram</th>\n",
       "      <th>Pin</th>\n",
       "    </tr>\n",
       "  </thead>\n",
       "  <tbody>\n",
       "    <tr>\n",
       "      <th>1414</th>\n",
       "      <td>OTHERS</td>\n",
       "      <td>5.7</td>\n",
       "      <td>5.0</td>\n",
       "      <td>5.0</td>\n",
       "      <td>16.0</td>\n",
       "      <td>1.0</td>\n",
       "      <td>2.800</td>\n",
       "    </tr>\n",
       "    <tr>\n",
       "      <th>1379</th>\n",
       "      <td>OPPO</td>\n",
       "      <td>6.5</td>\n",
       "      <td>12.0</td>\n",
       "      <td>8.0</td>\n",
       "      <td>128.0</td>\n",
       "      <td>4.0</td>\n",
       "      <td>4.230</td>\n",
       "    </tr>\n",
       "    <tr>\n",
       "      <th>112</th>\n",
       "      <td>SAMSUNG</td>\n",
       "      <td>6.4</td>\n",
       "      <td>12.0</td>\n",
       "      <td>8.0</td>\n",
       "      <td>128.0</td>\n",
       "      <td>8.0</td>\n",
       "      <td>4.100</td>\n",
       "    </tr>\n",
       "    <tr>\n",
       "      <th>636</th>\n",
       "      <td>XIAOMI</td>\n",
       "      <td>NaN</td>\n",
       "      <td>64.0</td>\n",
       "      <td>20.0</td>\n",
       "      <td>64.0</td>\n",
       "      <td>6.0</td>\n",
       "      <td>4.500</td>\n",
       "    </tr>\n",
       "    <tr>\n",
       "      <th>1312</th>\n",
       "      <td>IPHONE</td>\n",
       "      <td>6.1</td>\n",
       "      <td>3.0</td>\n",
       "      <td>12.0</td>\n",
       "      <td>256.0</td>\n",
       "      <td>6.0</td>\n",
       "      <td>2.815</td>\n",
       "    </tr>\n",
       "    <tr>\n",
       "      <th>...</th>\n",
       "      <td>...</td>\n",
       "      <td>...</td>\n",
       "      <td>...</td>\n",
       "      <td>...</td>\n",
       "      <td>...</td>\n",
       "      <td>...</td>\n",
       "      <td>...</td>\n",
       "    </tr>\n",
       "    <tr>\n",
       "      <th>201</th>\n",
       "      <td>SAMSUNG</td>\n",
       "      <td>6.5</td>\n",
       "      <td>13.0</td>\n",
       "      <td>5.0</td>\n",
       "      <td>32.0</td>\n",
       "      <td>3.0</td>\n",
       "      <td>5.000</td>\n",
       "    </tr>\n",
       "    <tr>\n",
       "      <th>990</th>\n",
       "      <td>OTHERS</td>\n",
       "      <td>3.0</td>\n",
       "      <td>20.0</td>\n",
       "      <td>4.0</td>\n",
       "      <td>32.0</td>\n",
       "      <td>3.0</td>\n",
       "      <td>2.840</td>\n",
       "    </tr>\n",
       "    <tr>\n",
       "      <th>595</th>\n",
       "      <td>OTHERS</td>\n",
       "      <td>5.5</td>\n",
       "      <td>13.0</td>\n",
       "      <td>1.2</td>\n",
       "      <td>16.0</td>\n",
       "      <td>2.0</td>\n",
       "      <td>2.610</td>\n",
       "    </tr>\n",
       "    <tr>\n",
       "      <th>229</th>\n",
       "      <td>IPHONE</td>\n",
       "      <td>4.7</td>\n",
       "      <td>8.0</td>\n",
       "      <td>1.2</td>\n",
       "      <td>16.0</td>\n",
       "      <td>1.0</td>\n",
       "      <td>1.810</td>\n",
       "    </tr>\n",
       "    <tr>\n",
       "      <th>745</th>\n",
       "      <td>OTHERS</td>\n",
       "      <td>4.8</td>\n",
       "      <td>5.0</td>\n",
       "      <td>NaN</td>\n",
       "      <td>8.0</td>\n",
       "      <td>768.0</td>\n",
       "      <td>1.230</td>\n",
       "    </tr>\n",
       "  </tbody>\n",
       "</table>\n",
       "<p>852 rows × 7 columns</p>\n",
       "</div>"
      ],
      "text/plain": [
       "     PhoneMaker  Screen  MainCamera  SelfieCamera    Rom    Ram    Pin\n",
       "1414     OTHERS     5.7         5.0           5.0   16.0    1.0  2.800\n",
       "1379       OPPO     6.5        12.0           8.0  128.0    4.0  4.230\n",
       "112     SAMSUNG     6.4        12.0           8.0  128.0    8.0  4.100\n",
       "636      XIAOMI     NaN        64.0          20.0   64.0    6.0  4.500\n",
       "1312     IPHONE     6.1         3.0          12.0  256.0    6.0  2.815\n",
       "...         ...     ...         ...           ...    ...    ...    ...\n",
       "201     SAMSUNG     6.5        13.0           5.0   32.0    3.0  5.000\n",
       "990      OTHERS     3.0        20.0           4.0   32.0    3.0  2.840\n",
       "595      OTHERS     5.5        13.0           1.2   16.0    2.0  2.610\n",
       "229      IPHONE     4.7         8.0           1.2   16.0    1.0  1.810\n",
       "745      OTHERS     4.8         5.0           NaN    8.0  768.0  1.230\n",
       "\n",
       "[852 rows x 7 columns]"
      ]
     },
     "execution_count": 21,
     "metadata": {},
     "output_type": "execute_result"
    }
   ],
   "source": [
    "df"
   ]
  },
  {
   "cell_type": "code",
   "execution_count": 22,
   "metadata": {},
   "outputs": [],
   "source": [
    "num_cols = [\"Screen\",\"MainCamera\",\"SelfieCamera\",\"Rom\",\"Ram\",\"Pin\"]\n",
    "unorder_cate_cols=[\"PhoneMaker\"]\n",
    "\n",
    "preprocess=ColumnTransformer(\n",
    "    transformers=[\n",
    "        ('nume_cols',SimpleImputer(strategy='mean'),num_cols),\n",
    "        ('unorder_cate_col',make_pipeline(\n",
    "            (SimpleImputer(strategy='most_frequent')),\n",
    "             (OneHotEncoder(handle_unknown='ignore',sparse=False))\n",
    "        )\n",
    "         ,unorder_cate_cols)]\n",
    ")\n",
    "\n",
    "preprocess_pipeline=Pipeline(steps=[\n",
    "    ('coladderdropper',ColAdderDropper(num_top_pmakers=7)),\n",
    "    ('encodingstring',EncodingString(cols = num_cols)),\n",
    "    ('preprocess',preprocess),\n",
    "    ('standardscaler',StandardScaler())\n",
    "\n",
    "]\n",
    ")"
   ]
  },
  {
   "cell_type": "code",
   "execution_count": 23,
   "metadata": {},
   "outputs": [
    {
     "data": {
      "text/html": [
       "<style>div.sk-top-container {color: black;background-color: white;}div.sk-toggleable {background-color: white;}label.sk-toggleable__label {cursor: pointer;display: block;width: 100%;margin-bottom: 0;padding: 0.2em 0.3em;box-sizing: border-box;text-align: center;}div.sk-toggleable__content {max-height: 0;max-width: 0;overflow: hidden;text-align: left;background-color: #f0f8ff;}div.sk-toggleable__content pre {margin: 0.2em;color: black;border-radius: 0.25em;background-color: #f0f8ff;}input.sk-toggleable__control:checked~div.sk-toggleable__content {max-height: 200px;max-width: 100%;overflow: auto;}div.sk-estimator input.sk-toggleable__control:checked~label.sk-toggleable__label {background-color: #d4ebff;}div.sk-label input.sk-toggleable__control:checked~label.sk-toggleable__label {background-color: #d4ebff;}input.sk-hidden--visually {border: 0;clip: rect(1px 1px 1px 1px);clip: rect(1px, 1px, 1px, 1px);height: 1px;margin: -1px;overflow: hidden;padding: 0;position: absolute;width: 1px;}div.sk-estimator {font-family: monospace;background-color: #f0f8ff;margin: 0.25em 0.25em;border: 1px dotted black;border-radius: 0.25em;box-sizing: border-box;}div.sk-estimator:hover {background-color: #d4ebff;}div.sk-parallel-item::after {content: \"\";width: 100%;border-bottom: 1px solid gray;flex-grow: 1;}div.sk-label:hover label.sk-toggleable__label {background-color: #d4ebff;}div.sk-serial::before {content: \"\";position: absolute;border-left: 1px solid gray;box-sizing: border-box;top: 2em;bottom: 0;left: 50%;}div.sk-serial {display: flex;flex-direction: column;align-items: center;background-color: white;}div.sk-item {z-index: 1;}div.sk-parallel {display: flex;align-items: stretch;justify-content: center;background-color: white;}div.sk-parallel-item {display: flex;flex-direction: column;position: relative;background-color: white;}div.sk-parallel-item:first-child::after {align-self: flex-end;width: 50%;}div.sk-parallel-item:last-child::after {align-self: flex-start;width: 50%;}div.sk-parallel-item:only-child::after {width: 0;}div.sk-dashed-wrapped {border: 1px dashed gray;margin: 0.2em;box-sizing: border-box;padding-bottom: 0.1em;background-color: white;position: relative;}div.sk-label label {font-family: monospace;font-weight: bold;background-color: white;display: inline-block;line-height: 1.2em;}div.sk-label-container {position: relative;z-index: 2;text-align: center;}div.sk-container {display: inline-block;position: relative;}</style><div class=\"sk-top-container\"><div class=\"sk-container\"><div class=\"sk-item sk-dashed-wrapped\"><div class=\"sk-label-container\"><div class=\"sk-label sk-toggleable\"><input class=\"sk-toggleable__control sk-hidden--visually\" id=\"e2b7692a-5ed9-4c55-9430-e464615cabb2\" type=\"checkbox\" ><label class=\"sk-toggleable__label\" for=\"e2b7692a-5ed9-4c55-9430-e464615cabb2\">Pipeline</label><div class=\"sk-toggleable__content\"><pre>Pipeline(steps=[('coladderdropper', ColAdderDropper(num_top_pmakers=7)),\n",
       "                ('encodingstring',\n",
       "                 EncodingString(cols=['Screen', 'MainCamera', 'SelfieCamera',\n",
       "                                      'Rom', 'Ram', 'Pin'])),\n",
       "                ('preprocess',\n",
       "                 ColumnTransformer(transformers=[('nume_cols', SimpleImputer(),\n",
       "                                                  ['Screen', 'MainCamera',\n",
       "                                                   'SelfieCamera', 'Rom', 'Ram',\n",
       "                                                   'Pin']),\n",
       "                                                 ('unorder_cate_col',\n",
       "                                                  Pipeline(steps=[('simpleimputer',\n",
       "                                                                   SimpleImputer(strategy='most_frequent')),\n",
       "                                                                  ('onehotencoder',\n",
       "                                                                   OneHotEncoder(handle_unknown='ignore',\n",
       "                                                                                 sparse=False))]),\n",
       "                                                  ['PhoneMaker'])])),\n",
       "                ('standardscaler', StandardScaler())])</pre></div></div></div><div class=\"sk-serial\"><div class=\"sk-item\"><div class=\"sk-estimator sk-toggleable\"><input class=\"sk-toggleable__control sk-hidden--visually\" id=\"24809e3b-3b6b-41d6-86e6-538a4b050fe2\" type=\"checkbox\" ><label class=\"sk-toggleable__label\" for=\"24809e3b-3b6b-41d6-86e6-538a4b050fe2\">ColAdderDropper</label><div class=\"sk-toggleable__content\"><pre>ColAdderDropper(num_top_pmakers=7)</pre></div></div></div><div class=\"sk-item\"><div class=\"sk-estimator sk-toggleable\"><input class=\"sk-toggleable__control sk-hidden--visually\" id=\"acf2f30f-fc16-4cfb-ad8e-16f690540ec9\" type=\"checkbox\" ><label class=\"sk-toggleable__label\" for=\"acf2f30f-fc16-4cfb-ad8e-16f690540ec9\">EncodingString</label><div class=\"sk-toggleable__content\"><pre>EncodingString(cols=['Screen', 'MainCamera', 'SelfieCamera', 'Rom', 'Ram',\n",
       "                     'Pin'])</pre></div></div></div><div class=\"sk-item sk-dashed-wrapped\"><div class=\"sk-label-container\"><div class=\"sk-label sk-toggleable\"><input class=\"sk-toggleable__control sk-hidden--visually\" id=\"582954d1-beab-4f53-8a55-b90aaafd5727\" type=\"checkbox\" ><label class=\"sk-toggleable__label\" for=\"582954d1-beab-4f53-8a55-b90aaafd5727\">preprocess: ColumnTransformer</label><div class=\"sk-toggleable__content\"><pre>ColumnTransformer(transformers=[('nume_cols', SimpleImputer(),\n",
       "                                 ['Screen', 'MainCamera', 'SelfieCamera', 'Rom',\n",
       "                                  'Ram', 'Pin']),\n",
       "                                ('unorder_cate_col',\n",
       "                                 Pipeline(steps=[('simpleimputer',\n",
       "                                                  SimpleImputer(strategy='most_frequent')),\n",
       "                                                 ('onehotencoder',\n",
       "                                                  OneHotEncoder(handle_unknown='ignore',\n",
       "                                                                sparse=False))]),\n",
       "                                 ['PhoneMaker'])])</pre></div></div></div><div class=\"sk-parallel\"><div class=\"sk-parallel-item\"><div class=\"sk-item\"><div class=\"sk-label-container\"><div class=\"sk-label sk-toggleable\"><input class=\"sk-toggleable__control sk-hidden--visually\" id=\"37557ecd-9d80-43e6-8898-f66d29313d6c\" type=\"checkbox\" ><label class=\"sk-toggleable__label\" for=\"37557ecd-9d80-43e6-8898-f66d29313d6c\">nume_cols</label><div class=\"sk-toggleable__content\"><pre>['Screen', 'MainCamera', 'SelfieCamera', 'Rom', 'Ram', 'Pin']</pre></div></div></div><div class=\"sk-serial\"><div class=\"sk-item\"><div class=\"sk-estimator sk-toggleable\"><input class=\"sk-toggleable__control sk-hidden--visually\" id=\"ac87798a-f706-4653-84b9-268150c0a4c2\" type=\"checkbox\" ><label class=\"sk-toggleable__label\" for=\"ac87798a-f706-4653-84b9-268150c0a4c2\">SimpleImputer</label><div class=\"sk-toggleable__content\"><pre>SimpleImputer()</pre></div></div></div></div></div></div><div class=\"sk-parallel-item\"><div class=\"sk-item\"><div class=\"sk-label-container\"><div class=\"sk-label sk-toggleable\"><input class=\"sk-toggleable__control sk-hidden--visually\" id=\"d2f35c2d-74c0-4dc6-bf23-2ec4268a002c\" type=\"checkbox\" ><label class=\"sk-toggleable__label\" for=\"d2f35c2d-74c0-4dc6-bf23-2ec4268a002c\">unorder_cate_col</label><div class=\"sk-toggleable__content\"><pre>['PhoneMaker']</pre></div></div></div><div class=\"sk-serial\"><div class=\"sk-item\"><div class=\"sk-serial\"><div class=\"sk-item\"><div class=\"sk-estimator sk-toggleable\"><input class=\"sk-toggleable__control sk-hidden--visually\" id=\"13e87cb3-da88-4566-bb40-9bdf57859c4d\" type=\"checkbox\" ><label class=\"sk-toggleable__label\" for=\"13e87cb3-da88-4566-bb40-9bdf57859c4d\">SimpleImputer</label><div class=\"sk-toggleable__content\"><pre>SimpleImputer(strategy='most_frequent')</pre></div></div></div><div class=\"sk-item\"><div class=\"sk-estimator sk-toggleable\"><input class=\"sk-toggleable__control sk-hidden--visually\" id=\"6c934613-0785-47ee-aa60-2c2e4ed02bd3\" type=\"checkbox\" ><label class=\"sk-toggleable__label\" for=\"6c934613-0785-47ee-aa60-2c2e4ed02bd3\">OneHotEncoder</label><div class=\"sk-toggleable__content\"><pre>OneHotEncoder(handle_unknown='ignore', sparse=False)</pre></div></div></div></div></div></div></div></div></div></div><div class=\"sk-item\"><div class=\"sk-estimator sk-toggleable\"><input class=\"sk-toggleable__control sk-hidden--visually\" id=\"db6c65dc-8677-4a23-85cf-4ebe9039e70b\" type=\"checkbox\" ><label class=\"sk-toggleable__label\" for=\"db6c65dc-8677-4a23-85cf-4ebe9039e70b\">StandardScaler</label><div class=\"sk-toggleable__content\"><pre>StandardScaler()</pre></div></div></div></div></div></div></div>"
      ],
      "text/plain": [
       "Pipeline(steps=[('coladderdropper', ColAdderDropper(num_top_pmakers=7)),\n",
       "                ('encodingstring',\n",
       "                 EncodingString(cols=['Screen', 'MainCamera', 'SelfieCamera',\n",
       "                                      'Rom', 'Ram', 'Pin'])),\n",
       "                ('preprocess',\n",
       "                 ColumnTransformer(transformers=[('nume_cols', SimpleImputer(),\n",
       "                                                  ['Screen', 'MainCamera',\n",
       "                                                   'SelfieCamera', 'Rom', 'Ram',\n",
       "                                                   'Pin']),\n",
       "                                                 ('unorder_cate_col',\n",
       "                                                  Pipeline(steps=[('simpleimputer',\n",
       "                                                                   SimpleImputer(strategy='most_frequent')),\n",
       "                                                                  ('onehotencoder',\n",
       "                                                                   OneHotEncoder(handle_unknown='ignore',\n",
       "                                                                                 sparse=False))]),\n",
       "                                                  ['PhoneMaker'])])),\n",
       "                ('standardscaler', StandardScaler())])"
      ]
     },
     "execution_count": 23,
     "metadata": {},
     "output_type": "execute_result"
    }
   ],
   "source": [
    "preprocess_pipeline"
   ]
  },
  {
   "cell_type": "code",
   "execution_count": 24,
   "metadata": {
    "scrolled": false
   },
   "outputs": [
    {
     "data": {
      "text/plain": [
       "array([[-1.93197218e-01, -8.14324446e-01, -1.95305140e-01, ...,\n",
       "        -2.27710017e-01, -2.03874452e-01, -4.49101909e-01],\n",
       "       [-1.89257975e-01, -4.49156251e-01, -1.15444018e-01, ...,\n",
       "        -2.27710017e-01, -2.03874452e-01, -4.49101909e-01],\n",
       "       [-1.89750380e-01, -4.49156251e-01, -1.15444018e-01, ...,\n",
       "        -2.27710017e-01, -2.03874452e-01, -4.49101909e-01],\n",
       "       ...,\n",
       "       [-1.94182029e-01, -3.96989367e-01, -2.96462561e-01, ...,\n",
       "        -2.27710017e-01, -2.03874452e-01, -4.49101909e-01],\n",
       "       [-1.98121272e-01, -6.57823791e-01, -2.96462561e-01, ...,\n",
       "        -2.27710017e-01, -2.03874452e-01, -4.49101909e-01],\n",
       "       [-1.97628867e-01, -8.14324446e-01, -1.41861850e-16, ...,\n",
       "        -2.27710017e-01, -2.03874452e-01, -4.49101909e-01]])"
      ]
     },
     "execution_count": 24,
     "metadata": {},
     "output_type": "execute_result"
    }
   ],
   "source": [
    "preprocess_pipeline.fit_transform(tr_X)"
   ]
  },
  {
   "cell_type": "code",
   "execution_count": 25,
   "metadata": {},
   "outputs": [],
   "source": [
    "full_pipeline_mlpclassifier = make_pipeline(\n",
    "    (preprocess_pipeline),\n",
    "    (MLPClassifier(hidden_layer_sizes=(64,64),activation= 'tanh', solver='lbfgs', random_state=0, max_iter=15000))\n",
    "\n",
    ")"
   ]
  },
  {
   "cell_type": "code",
   "execution_count": 26,
   "metadata": {},
   "outputs": [],
   "source": [
    "full_pipeline_logisticregression = make_pipeline(\n",
    "    (preprocess_pipeline),\n",
    "    (LogisticRegression(multi_class='multinomial')))"
   ]
  },
  {
   "cell_type": "code",
   "execution_count": 27,
   "metadata": {},
   "outputs": [
    {
     "name": "stdout",
     "output_type": "stream",
     "text": [
      "1 1\n",
      "1 3\n",
      "1 5\n",
      "1 6\n",
      "1 8\n",
      "1 10\n",
      "1 12\n",
      "2 1\n",
      "2 3\n",
      "2 5\n",
      "2 6\n",
      "2 8\n",
      "2 10\n",
      "2 12\n",
      "5 1\n",
      "5 3\n",
      "5 5\n",
      "5 6\n",
      "5 8\n",
      "5 10\n",
      "5 12\n",
      "10 1\n",
      "10 3\n",
      "10 5\n",
      "10 6\n",
      "10 8\n",
      "10 10\n",
      "10 12\n",
      "100 1\n",
      "100 3\n",
      "100 5\n",
      "100 6\n",
      "100 8\n",
      "100 10\n",
      "100 12\n",
      "500 1\n",
      "500 3\n",
      "500 5\n",
      "500 6\n",
      "500 8\n",
      "500 10\n",
      "500 12\n",
      "1000 1\n",
      "1000 3\n",
      "1000 5\n",
      "1000 6\n",
      "1000 8\n",
      "1000 10\n",
      "1000 12\n"
     ]
    },
    {
     "data": {
      "text/plain": [
       "'Finish!'"
      ]
     },
     "execution_count": 27,
     "metadata": {},
     "output_type": "execute_result"
    }
   ],
   "source": [
    "train_errs = []\n",
    "val_errs = []\n",
    "\n",
    "alphas = [1, 2, 5, 10, 100, 500, 1000]\n",
    "num_top_pmakers_s = [1, 3, 5, 6, 8,10,12]\n",
    "\n",
    "best_val_err = float('inf')\n",
    "best_alpha = None\n",
    "best_num_top_pmakers = None\n",
    "\n",
    "for alpha in alphas:\n",
    "    for num_top_pmakers in num_top_pmakers_s:\n",
    "        # YOUR CODE HERE\n",
    "        full_pipeline_mlpclassifier.set_params(pipeline__coladderdropper__num_top_pmakers=num_top_pmakers,mlpclassifier__alpha = alpha)\n",
    "        print(alpha,num_top_pmakers)\n",
    "        s = full_pipeline_mlpclassifier.fit(tr_X,tr_y)\n",
    "\n",
    "        train_err = (1-s.score(tr_X,tr_y))*100\n",
    "        val_err = (1-s.score(val_X,val_y))*100\n",
    "\n",
    "        train_errs.append(train_err)\n",
    "        val_errs.append(val_err)\n",
    "        if val_err <= min(val_errs):\n",
    "            best_alpha = alpha\n",
    "            best_num_top_pmakers = num_top_pmakers\n",
    "best_val_err = min(val_errs)\n",
    "\n",
    "'Finish!'"
   ]
  },
  {
   "cell_type": "code",
   "execution_count": 28,
   "metadata": {},
   "outputs": [
    {
     "data": {
      "text/plain": [
       "3"
      ]
     },
     "execution_count": 28,
     "metadata": {},
     "output_type": "execute_result"
    }
   ],
   "source": [
    "best_num_top_pmakers"
   ]
  },
  {
   "cell_type": "code",
   "execution_count": 29,
   "metadata": {},
   "outputs": [
    {
     "data": {
      "text/plain": [
       "10"
      ]
     },
     "execution_count": 29,
     "metadata": {},
     "output_type": "execute_result"
    }
   ],
   "source": [
    "best_alpha"
   ]
  },
  {
   "cell_type": "code",
   "execution_count": 30,
   "metadata": {},
   "outputs": [
    {
     "data": {
      "text/plain": [
       "32.3943661971831"
      ]
     },
     "execution_count": 30,
     "metadata": {},
     "output_type": "execute_result"
    }
   ],
   "source": [
    "best_val_err"
   ]
  },
  {
   "cell_type": "code",
   "execution_count": 31,
   "metadata": {},
   "outputs": [
    {
     "data": {
      "text/plain": [
       "[85.2112676056338,\n",
       " 78.87323943661973,\n",
       " 76.05633802816901,\n",
       " 76.05633802816901,\n",
       " 75.70422535211267,\n",
       " 71.83098591549295,\n",
       " 76.40845070422534,\n",
       " 85.2112676056338,\n",
       " 78.87323943661973,\n",
       " 50.70422535211267,\n",
       " 76.05633802816901,\n",
       " 73.23943661971832,\n",
       " 71.83098591549295,\n",
       " 72.88732394366197,\n",
       " 71.83098591549295,\n",
       " 35.91549295774647,\n",
       " 58.80281690140845,\n",
       " 58.098591549295776,\n",
       " 52.816901408450704,\n",
       " 54.92957746478873,\n",
       " 52.816901408450704,\n",
       " 34.50704225352113,\n",
       " 32.3943661971831,\n",
       " 34.859154929577464,\n",
       " 34.859154929577464,\n",
       " 54.22535211267605,\n",
       " 52.816901408450704,\n",
       " 36.61971830985915,\n",
       " 34.50704225352113,\n",
       " 34.50704225352113,\n",
       " 34.50704225352113,\n",
       " 34.50704225352113,\n",
       " 34.50704225352113,\n",
       " 34.50704225352113,\n",
       " 34.50704225352113,\n",
       " 34.50704225352113,\n",
       " 34.50704225352113,\n",
       " 34.50704225352113,\n",
       " 34.50704225352113,\n",
       " 34.50704225352113,\n",
       " 34.50704225352113,\n",
       " 34.50704225352113,\n",
       " 34.50704225352113,\n",
       " 34.50704225352113,\n",
       " 34.50704225352113,\n",
       " 34.50704225352113,\n",
       " 34.50704225352113,\n",
       " 34.50704225352113,\n",
       " 34.50704225352113]"
      ]
     },
     "execution_count": 31,
     "metadata": {},
     "output_type": "execute_result"
    }
   ],
   "source": [
    "val_errs"
   ]
  },
  {
   "cell_type": "code",
   "execution_count": 32,
   "metadata": {},
   "outputs": [
    {
     "data": {
      "text/plain": [
       "<matplotlib.axes._subplots.AxesSubplot at 0x2bc53ac5a60>"
      ]
     },
     "execution_count": 32,
     "metadata": {},
     "output_type": "execute_result"
    },
    {
     "data": {
      "image/png": "[encoded data removed]",
      "text/plain": [
       "<Figure size 432x288 with 1 Axes>"
      ]
     },
     "metadata": {
      "needs_background": "light"
     },
     "output_type": "display_data"
    }
   ],
   "source": [
    "# Visualized hai đồ thị của train_y ban đầu và train_y dự đoán.\n",
    "tr_y.plot.hist(bins=range(0, 10, 1), edgecolor='black', color ='red')\n",
    "tr_y_pre = pd.Series(s.predict(tr_X))\n",
    "tr_y_pre.hist(bins=range(0, 10, 1), edgecolor='black', color = 'green')"
   ]
  },
  {
   "cell_type": "code",
   "execution_count": 34,
   "metadata": {},
   "outputs": [
    {
     "data": {
      "text/html": [
       "<style>div.sk-top-container {color: black;background-color: white;}div.sk-toggleable {background-color: white;}label.sk-toggleable__label {cursor: pointer;display: block;width: 100%;margin-bottom: 0;padding: 0.2em 0.3em;box-sizing: border-box;text-align: center;}div.sk-toggleable__content {max-height: 0;max-width: 0;overflow: hidden;text-align: left;background-color: #f0f8ff;}div.sk-toggleable__content pre {margin: 0.2em;color: black;border-radius: 0.25em;background-color: #f0f8ff;}input.sk-toggleable__control:checked~div.sk-toggleable__content {max-height: 200px;max-width: 100%;overflow: auto;}div.sk-estimator input.sk-toggleable__control:checked~label.sk-toggleable__label {background-color: #d4ebff;}div.sk-label input.sk-toggleable__control:checked~label.sk-toggleable__label {background-color: #d4ebff;}input.sk-hidden--visually {border: 0;clip: rect(1px 1px 1px 1px);clip: rect(1px, 1px, 1px, 1px);height: 1px;margin: -1px;overflow: hidden;padding: 0;position: absolute;width: 1px;}div.sk-estimator {font-family: monospace;background-color: #f0f8ff;margin: 0.25em 0.25em;border: 1px dotted black;border-radius: 0.25em;box-sizing: border-box;}div.sk-estimator:hover {background-color: #d4ebff;}div.sk-parallel-item::after {content: \"\";width: 100%;border-bottom: 1px solid gray;flex-grow: 1;}div.sk-label:hover label.sk-toggleable__label {background-color: #d4ebff;}div.sk-serial::before {content: \"\";position: absolute;border-left: 1px solid gray;box-sizing: border-box;top: 2em;bottom: 0;left: 50%;}div.sk-serial {display: flex;flex-direction: column;align-items: center;background-color: white;}div.sk-item {z-index: 1;}div.sk-parallel {display: flex;align-items: stretch;justify-content: center;background-color: white;}div.sk-parallel-item {display: flex;flex-direction: column;position: relative;background-color: white;}div.sk-parallel-item:first-child::after {align-self: flex-end;width: 50%;}div.sk-parallel-item:last-child::after {align-self: flex-start;width: 50%;}div.sk-parallel-item:only-child::after {width: 0;}div.sk-dashed-wrapped {border: 1px dashed gray;margin: 0.2em;box-sizing: border-box;padding-bottom: 0.1em;background-color: white;position: relative;}div.sk-label label {font-family: monospace;font-weight: bold;background-color: white;display: inline-block;line-height: 1.2em;}div.sk-label-container {position: relative;z-index: 2;text-align: center;}div.sk-container {display: inline-block;position: relative;}</style><div class=\"sk-top-container\"><div class=\"sk-container\"><div class=\"sk-item sk-dashed-wrapped\"><div class=\"sk-label-container\"><div class=\"sk-label sk-toggleable\"><input class=\"sk-toggleable__control sk-hidden--visually\" id=\"fe379a9b-160b-43e3-bfc4-ae4669e8f064\" type=\"checkbox\" ><label class=\"sk-toggleable__label\" for=\"fe379a9b-160b-43e3-bfc4-ae4669e8f064\">Pipeline</label><div class=\"sk-toggleable__content\"><pre>Pipeline(steps=[('pipeline',\n",
       "                 Pipeline(steps=[('coladderdropper',\n",
       "                                  ColAdderDropper(num_top_pmakers=3)),\n",
       "                                 ('encodingstring',\n",
       "                                  EncodingString(cols=['Screen', 'MainCamera',\n",
       "                                                       'SelfieCamera', 'Rom',\n",
       "                                                       'Ram', 'Pin'])),\n",
       "                                 ('preprocess',\n",
       "                                  ColumnTransformer(transformers=[('nume_cols',\n",
       "                                                                   SimpleImputer(),\n",
       "                                                                   ['Screen',\n",
       "                                                                    'MainCamera',\n",
       "                                                                    'SelfieCamera',\n",
       "                                                                    'Rom',\n",
       "                                                                    'Ram',\n",
       "                                                                    'Pin']),\n",
       "                                                                  ('unorder_cate_col',\n",
       "                                                                   Pipeline(steps=[('simpleimputer',\n",
       "                                                                                    SimpleImputer(strategy='most_frequent')),\n",
       "                                                                                   ('onehotencoder',\n",
       "                                                                                    OneHotEncoder(handle_unknown='ignore',\n",
       "                                                                                                  sparse=False))]),\n",
       "                                                                   ['PhoneMaker'])])),\n",
       "                                 ('standardscaler', StandardScaler())])),\n",
       "                ('mlpclassifier',\n",
       "                 MLPClassifier(activation='tanh', alpha=10,\n",
       "                               hidden_layer_sizes=(64, 64), max_iter=15000,\n",
       "                               random_state=0, solver='lbfgs', verbose=True))])</pre></div></div></div><div class=\"sk-serial\"><div class=\"sk-item\"><div class=\"sk-label-container\"><div class=\"sk-label sk-toggleable\"><input class=\"sk-toggleable__control sk-hidden--visually\" id=\"016fea7b-6801-441b-952e-f0cbb3bcea11\" type=\"checkbox\" ><label class=\"sk-toggleable__label\" for=\"016fea7b-6801-441b-952e-f0cbb3bcea11\">pipeline: Pipeline</label><div class=\"sk-toggleable__content\"><pre>Pipeline(steps=[('coladderdropper', ColAdderDropper(num_top_pmakers=3)),\n",
       "                ('encodingstring',\n",
       "                 EncodingString(cols=['Screen', 'MainCamera', 'SelfieCamera',\n",
       "                                      'Rom', 'Ram', 'Pin'])),\n",
       "                ('preprocess',\n",
       "                 ColumnTransformer(transformers=[('nume_cols', SimpleImputer(),\n",
       "                                                  ['Screen', 'MainCamera',\n",
       "                                                   'SelfieCamera', 'Rom', 'Ram',\n",
       "                                                   'Pin']),\n",
       "                                                 ('unorder_cate_col',\n",
       "                                                  Pipeline(steps=[('simpleimputer',\n",
       "                                                                   SimpleImputer(strategy='most_frequent')),\n",
       "                                                                  ('onehotencoder',\n",
       "                                                                   OneHotEncoder(handle_unknown='ignore',\n",
       "                                                                                 sparse=False))]),\n",
       "                                                  ['PhoneMaker'])])),\n",
       "                ('standardscaler', StandardScaler())])</pre></div></div></div><div class=\"sk-serial\"><div class=\"sk-item\"><div class=\"sk-estimator sk-toggleable\"><input class=\"sk-toggleable__control sk-hidden--visually\" id=\"c892e521-a313-487d-9259-2387c62f08be\" type=\"checkbox\" ><label class=\"sk-toggleable__label\" for=\"c892e521-a313-487d-9259-2387c62f08be\">ColAdderDropper</label><div class=\"sk-toggleable__content\"><pre>ColAdderDropper(num_top_pmakers=3)</pre></div></div></div><div class=\"sk-item\"><div class=\"sk-estimator sk-toggleable\"><input class=\"sk-toggleable__control sk-hidden--visually\" id=\"074331a9-4990-4c81-9470-4e9f0a45244d\" type=\"checkbox\" ><label class=\"sk-toggleable__label\" for=\"074331a9-4990-4c81-9470-4e9f0a45244d\">EncodingString</label><div class=\"sk-toggleable__content\"><pre>EncodingString(cols=['Screen', 'MainCamera', 'SelfieCamera', 'Rom', 'Ram',\n",
       "                     'Pin'])</pre></div></div></div><div class=\"sk-item sk-dashed-wrapped\"><div class=\"sk-label-container\"><div class=\"sk-label sk-toggleable\"><input class=\"sk-toggleable__control sk-hidden--visually\" id=\"fd532b76-dd9e-48a0-9a58-17428ac1c502\" type=\"checkbox\" ><label class=\"sk-toggleable__label\" for=\"fd532b76-dd9e-48a0-9a58-17428ac1c502\">preprocess: ColumnTransformer</label><div class=\"sk-toggleable__content\"><pre>ColumnTransformer(transformers=[('nume_cols', SimpleImputer(),\n",
       "                                 ['Screen', 'MainCamera', 'SelfieCamera', 'Rom',\n",
       "                                  'Ram', 'Pin']),\n",
       "                                ('unorder_cate_col',\n",
       "                                 Pipeline(steps=[('simpleimputer',\n",
       "                                                  SimpleImputer(strategy='most_frequent')),\n",
       "                                                 ('onehotencoder',\n",
       "                                                  OneHotEncoder(handle_unknown='ignore',\n",
       "                                                                sparse=False))]),\n",
       "                                 ['PhoneMaker'])])</pre></div></div></div><div class=\"sk-parallel\"><div class=\"sk-parallel-item\"><div class=\"sk-item\"><div class=\"sk-label-container\"><div class=\"sk-label sk-toggleable\"><input class=\"sk-toggleable__control sk-hidden--visually\" id=\"ac003338-dbc0-4f7d-add6-3b3c6f1c38e8\" type=\"checkbox\" ><label class=\"sk-toggleable__label\" for=\"ac003338-dbc0-4f7d-add6-3b3c6f1c38e8\">nume_cols</label><div class=\"sk-toggleable__content\"><pre>['Screen', 'MainCamera', 'SelfieCamera', 'Rom', 'Ram', 'Pin']</pre></div></div></div><div class=\"sk-serial\"><div class=\"sk-item\"><div class=\"sk-estimator sk-toggleable\"><input class=\"sk-toggleable__control sk-hidden--visually\" id=\"167d5b57-df9d-4528-87bf-3a1c85e876aa\" type=\"checkbox\" ><label class=\"sk-toggleable__label\" for=\"167d5b57-df9d-4528-87bf-3a1c85e876aa\">SimpleImputer</label><div class=\"sk-toggleable__content\"><pre>SimpleImputer()</pre></div></div></div></div></div></div><div class=\"sk-parallel-item\"><div class=\"sk-item\"><div class=\"sk-label-container\"><div class=\"sk-label sk-toggleable\"><input class=\"sk-toggleable__control sk-hidden--visually\" id=\"6177b347-f02e-4919-a826-39febc4611cc\" type=\"checkbox\" ><label class=\"sk-toggleable__label\" for=\"6177b347-f02e-4919-a826-39febc4611cc\">unorder_cate_col</label><div class=\"sk-toggleable__content\"><pre>['PhoneMaker']</pre></div></div></div><div class=\"sk-serial\"><div class=\"sk-item\"><div class=\"sk-serial\"><div class=\"sk-item\"><div class=\"sk-estimator sk-toggleable\"><input class=\"sk-toggleable__control sk-hidden--visually\" id=\"a00eb62e-b320-4361-9488-ae306fd7dfe1\" type=\"checkbox\" ><label class=\"sk-toggleable__label\" for=\"a00eb62e-b320-4361-9488-ae306fd7dfe1\">SimpleImputer</label><div class=\"sk-toggleable__content\"><pre>SimpleImputer(strategy='most_frequent')</pre></div></div></div><div class=\"sk-item\"><div class=\"sk-estimator sk-toggleable\"><input class=\"sk-toggleable__control sk-hidden--visually\" id=\"2bdc753c-4eff-4291-94be-36829e1e029c\" type=\"checkbox\" ><label class=\"sk-toggleable__label\" for=\"2bdc753c-4eff-4291-94be-36829e1e029c\">OneHotEncoder</label><div class=\"sk-toggleable__content\"><pre>OneHotEncoder(handle_unknown='ignore', sparse=False)</pre></div></div></div></div></div></div></div></div></div></div><div class=\"sk-item\"><div class=\"sk-estimator sk-toggleable\"><input class=\"sk-toggleable__control sk-hidden--visually\" id=\"464525b7-a62e-4ac2-a09d-fd5eca320877\" type=\"checkbox\" ><label class=\"sk-toggleable__label\" for=\"464525b7-a62e-4ac2-a09d-fd5eca320877\">StandardScaler</label><div class=\"sk-toggleable__content\"><pre>StandardScaler()</pre></div></div></div></div></div><div class=\"sk-item\"><div class=\"sk-estimator sk-toggleable\"><input class=\"sk-toggleable__control sk-hidden--visually\" id=\"12d553f3-c06d-4eef-8f94-5186a6306a5d\" type=\"checkbox\" ><label class=\"sk-toggleable__label\" for=\"12d553f3-c06d-4eef-8f94-5186a6306a5d\">MLPClassifier</label><div class=\"sk-toggleable__content\"><pre>MLPClassifier(activation='tanh', alpha=10, hidden_layer_sizes=(64, 64),\n",
       "              max_iter=15000, random_state=0, solver='lbfgs', verbose=True)</pre></div></div></div></div></div></div></div>"
      ],
      "text/plain": [
       "Pipeline(steps=[('pipeline',\n",
       "                 Pipeline(steps=[('coladderdropper',\n",
       "                                  ColAdderDropper(num_top_pmakers=3)),\n",
       "                                 ('encodingstring',\n",
       "                                  EncodingString(cols=['Screen', 'MainCamera',\n",
       "                                                       'SelfieCamera', 'Rom',\n",
       "                                                       'Ram', 'Pin'])),\n",
       "                                 ('preprocess',\n",
       "                                  ColumnTransformer(transformers=[('nume_cols',\n",
       "                                                                   SimpleImputer(),\n",
       "                                                                   ['Screen',\n",
       "                                                                    'MainCamera',\n",
       "                                                                    'SelfieCamera',\n",
       "                                                                    'Rom',\n",
       "                                                                    'Ram',\n",
       "                                                                    'Pin']),\n",
       "                                                                  ('unorder_cate_col',\n",
       "                                                                   Pipeline(steps=[('simpleimputer',\n",
       "                                                                                    SimpleImputer(strategy='most_frequent')),\n",
       "                                                                                   ('onehotencoder',\n",
       "                                                                                    OneHotEncoder(handle_unknown='ignore',\n",
       "                                                                                                  sparse=False))]),\n",
       "                                                                   ['PhoneMaker'])])),\n",
       "                                 ('standardscaler', StandardScaler())])),\n",
       "                ('mlpclassifier',\n",
       "                 MLPClassifier(activation='tanh', alpha=10,\n",
       "                               hidden_layer_sizes=(64, 64), max_iter=15000,\n",
       "                               random_state=0, solver='lbfgs', verbose=True))])"
      ]
     },
     "execution_count": 34,
     "metadata": {},
     "output_type": "execute_result"
    }
   ],
   "source": [
    "full_pipeline_mlpclassifier.set_params(pipeline__coladderdropper__num_top_pmakers=best_num_top_pmakers,mlpclassifier__alpha = best_alpha,mlpclassifier__verbose=True)"
   ]
  },
  {
   "cell_type": "code",
   "execution_count": 36,
   "metadata": {},
   "outputs": [],
   "source": [
    "m_mlpclassifier=full_pipeline_mlpclassifier.fit(train_X,train_y)"
   ]
  },
  {
   "cell_type": "code",
   "execution_count": 37,
   "metadata": {},
   "outputs": [],
   "source": [
    "m_logisticregression=full_pipeline_logisticregression.fit(train_X,train_y)"
   ]
  },
  {
   "cell_type": "code",
   "execution_count": 38,
   "metadata": {},
   "outputs": [
    {
     "data": {
      "text/plain": [
       "array([4, 1, 1, 1, 1, 1, 1, 1, 1, 4, 1, 1, 1, 4, 1, 1, 4, 1, 1, 1, 4, 1,\n",
       "       4, 1, 1, 1, 1, 1, 1, 1, 1, 1, 1, 1, 1, 1, 1, 1, 4, 1, 1, 1, 1, 1,\n",
       "       1, 1, 1, 1, 1, 1, 1, 4, 1, 1, 4, 1, 1, 1, 1, 1, 1, 1, 1, 1, 1, 1,\n",
       "       1, 1, 1, 1, 1, 1, 1, 1, 1, 4, 1, 1, 1, 1, 1, 1, 1, 1, 1, 1, 1, 1,\n",
       "       1, 1, 1, 1, 1, 1, 1, 1, 1, 4, 1, 1, 1, 1, 1, 1, 1, 1, 1, 1, 1, 1,\n",
       "       1, 4, 4, 4, 1, 1, 1, 1, 1, 1, 4, 1, 1, 1, 1, 1, 1, 1, 1, 1, 1, 1,\n",
       "       1, 1, 1, 4, 1, 1, 1, 1, 1, 1, 4, 1, 1, 1, 1, 1, 1, 1, 4, 1, 1, 1,\n",
       "       1, 1, 1, 4, 4, 4, 4, 4, 1, 1, 1, 1, 1, 1, 4, 1, 1, 4, 1, 1, 1, 1,\n",
       "       1, 4, 1, 1, 1, 1, 1, 4, 1, 4, 1, 1, 1, 1, 1, 1, 1, 1, 1, 1, 1, 1,\n",
       "       1, 1, 1, 1, 1, 1, 1, 4, 1, 4, 1, 1, 1, 1, 1, 1, 1, 1, 1, 1, 4, 1,\n",
       "       1, 1, 1, 1, 1, 1, 1, 1, 1, 1, 1, 1, 1, 1, 1, 1, 1, 1, 1, 1, 1, 1,\n",
       "       1, 1, 1, 1, 1, 4, 1, 1, 1, 1, 4, 1, 1, 1, 4, 1, 4, 1, 1, 1, 4, 4,\n",
       "       1, 1, 1, 1, 1, 1, 1, 1, 1, 1, 1, 1, 1, 4, 1, 1, 1, 1, 1, 1, 1],\n",
       "      dtype=int64)"
      ]
     },
     "execution_count": 38,
     "metadata": {},
     "output_type": "execute_result"
    }
   ],
   "source": [
    "m_mlpclassifier.predict(test_X)"
   ]
  },
  {
   "cell_type": "code",
   "execution_count": 39,
   "metadata": {},
   "outputs": [
    {
     "data": {
      "text/plain": [
       "array([4, 1, 1, 1, 1, 1, 1, 1, 1, 4, 1, 1, 1, 4, 1, 1, 4, 1, 1, 1, 4, 1,\n",
       "       4, 1, 1, 1, 1, 1, 1, 1, 1, 1, 1, 1, 1, 1, 1, 1, 4, 1, 1, 1, 1, 1,\n",
       "       1, 1, 1, 1, 1, 1, 1, 4, 1, 1, 4, 1, 1, 1, 1, 1, 1, 1, 1, 1, 1, 1,\n",
       "       1, 1, 1, 1, 1, 1, 1, 1, 1, 4, 1, 1, 1, 1, 1, 1, 1, 1, 1, 1, 1, 1,\n",
       "       1, 1, 1, 1, 1, 1, 1, 1, 1, 4, 1, 1, 1, 1, 1, 1, 1, 1, 1, 1, 1, 1,\n",
       "       1, 4, 4, 4, 1, 1, 1, 1, 1, 1, 4, 1, 1, 1, 1, 1, 1, 1, 1, 1, 1, 1,\n",
       "       1, 1, 1, 4, 1, 1, 1, 1, 1, 1, 4, 1, 1, 1, 1, 1, 1, 1, 4, 1, 1, 1,\n",
       "       1, 1, 1, 4, 4, 4, 4, 4, 1, 1, 1, 1, 1, 1, 4, 1, 1, 4, 1, 1, 1, 1,\n",
       "       1, 4, 1, 1, 1, 1, 1, 4, 1, 4, 1, 1, 1, 1, 1, 1, 1, 1, 1, 1, 1, 1,\n",
       "       1, 1, 1, 1, 1, 1, 1, 4, 1, 4, 1, 1, 1, 1, 1, 1, 1, 1, 1, 1, 4, 1,\n",
       "       1, 1, 1, 1, 1, 1, 1, 1, 1, 1, 1, 1, 1, 1, 1, 1, 1, 1, 1, 1, 1, 1,\n",
       "       1, 1, 1, 1, 1, 4, 1, 1, 1, 1, 4, 1, 1, 1, 4, 1, 4, 1, 1, 1, 4, 4,\n",
       "       1, 1, 1, 1, 1, 1, 1, 1, 1, 1, 1, 1, 1, 4, 1, 1, 1, 1, 1, 1, 1],\n",
       "      dtype=int64)"
      ]
     },
     "execution_count": 39,
     "metadata": {},
     "output_type": "execute_result"
    }
   ],
   "source": [
    "m_logisticregression.predict(test_X)"
   ]
  },
  {
   "cell_type": "code",
   "execution_count": 40,
   "metadata": {},
   "outputs": [
    {
     "data": {
      "text/plain": [
       "0.6456140350877193"
      ]
     },
     "execution_count": 40,
     "metadata": {},
     "output_type": "execute_result"
    }
   ],
   "source": [
    "m_mlpclassifier.score(test_X,test_y)"
   ]
  },
  {
   "cell_type": "code",
   "execution_count": 41,
   "metadata": {},
   "outputs": [
    {
     "data": {
      "text/plain": [
       "0.6456140350877193"
      ]
     },
     "execution_count": 41,
     "metadata": {},
     "output_type": "execute_result"
    }
   ],
   "source": [
    "m_logisticregression.score(test_X,test_y)"
   ]
  },
  {
   "cell_type": "code",
   "execution_count": null,
   "metadata": {},
   "outputs": [],
   "source": []
  }
 ],
 "metadata": {
  "kernelspec": {
   "display_name": "Python 3",
   "language": "python",
   "name": "python3"
  },
  "language_info": {
   "codemirror_mode": {
    "name": "ipython",
    "version": 3
   },
   "file_extension": ".py",
   "mimetype": "text/x-python",
   "name": "python",
   "nbconvert_exporter": "python",
   "pygments_lexer": "ipython3",
   "version": "3.8.3"
  }
 },
 "nbformat": 4,
 "nbformat_minor": 4
}
