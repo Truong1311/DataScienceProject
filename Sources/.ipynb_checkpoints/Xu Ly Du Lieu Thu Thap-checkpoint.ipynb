{
 "cells": [
  {
   "cell_type": "code",
   "execution_count": 1,
   "metadata": {},
   "outputs": [],
   "source": [
    "import pandas as pd"
   ]
  },
  {
   "cell_type": "code",
   "execution_count": 2,
   "metadata": {},
   "outputs": [],
   "source": [
    "df = pd.read_csv('data_colection.csv')"
   ]
  },
  {
   "cell_type": "code",
   "execution_count": 3,
   "metadata": {
    "scrolled": false
   },
   "outputs": [
    {
     "data": {
      "text/html": [
       "<div>\n",
       "<style scoped>\n",
       "    .dataframe tbody tr th:only-of-type {\n",
       "        vertical-align: middle;\n",
       "    }\n",
       "\n",
       "    .dataframe tbody tr th {\n",
       "        vertical-align: top;\n",
       "    }\n",
       "\n",
       "    .dataframe thead th {\n",
       "        text-align: right;\n",
       "    }\n",
       "</style>\n",
       "<table border=\"1\" class=\"dataframe\">\n",
       "  <thead>\n",
       "    <tr style=\"text-align: right;\">\n",
       "      <th></th>\n",
       "      <th>Name</th>\n",
       "      <th>Screen</th>\n",
       "      <th>Cpu</th>\n",
       "      <th>MainCamera</th>\n",
       "      <th>SelfieCamera</th>\n",
       "      <th>Rom</th>\n",
       "      <th>Ram</th>\n",
       "      <th>Pin</th>\n",
       "      <th>Price</th>\n",
       "    </tr>\n",
       "  </thead>\n",
       "  <tbody>\n",
       "    <tr>\n",
       "      <th>0</th>\n",
       "      <td>Realme Q2 4G/128G - Hàng nhập khẩu</td>\n",
       "      <td>IPS LCD 6.5 inch, 120Hz</td>\n",
       "      <td>MediaTek 800U 5G (7 nm)</td>\n",
       "      <td>Chính 48MP &amp; Phụ 8MP, 2MP</td>\n",
       "      <td>16 MP</td>\n",
       "      <td>128 GB</td>\n",
       "      <td>4GB</td>\n",
       "      <td>5000mAh, sạc nhanh 30w</td>\n",
       "      <td>4.490.000 Đ</td>\n",
       "    </tr>\n",
       "    <tr>\n",
       "      <th>1</th>\n",
       "      <td>Xiaomi POCO M3 - Chính hãng</td>\n",
       "      <td>IPS LCD, 6.53\", Full HD+</td>\n",
       "      <td>Snapdragon 662 8 nhân</td>\n",
       "      <td>Chính 48 MP &amp; Phụ 2 MP, 2 MP</td>\n",
       "      <td>8MP</td>\n",
       "      <td>128/64 GB</td>\n",
       "      <td>4GB</td>\n",
       "      <td>6000mAh</td>\n",
       "      <td>3.490.000 Đ</td>\n",
       "    </tr>\n",
       "    <tr>\n",
       "      <th>2</th>\n",
       "      <td>Oppo Reno5 8GB/128GB chính hãng</td>\n",
       "      <td>6,43 inch, OLED</td>\n",
       "      <td>Qualcomm SM7125 Snapdragon 720G (8 nm)</td>\n",
       "      <td>Chính 64 MP &amp; Phụ 8 MP, 2 MP, 2 MP</td>\n",
       "      <td>44MP</td>\n",
       "      <td>128 GB</td>\n",
       "      <td>8 GB</td>\n",
       "      <td>4.310 mAh + Sạc nhanh 50W</td>\n",
       "      <td>7.990.000 Đ</td>\n",
       "    </tr>\n",
       "    <tr>\n",
       "      <th>3</th>\n",
       "      <td>Redmi Note 9 Pro 5G 6Gb/128Gb</td>\n",
       "      <td></td>\n",
       "      <td>Octa-core (2x2.2 GHz Kryo 570 &amp; 6x1.8 GHz Kryo...</td>\n",
       "      <td>Chính 108MP+8MP+2MP+2MP</td>\n",
       "      <td>16MP</td>\n",
       "      <td>128 GB</td>\n",
       "      <td>6GB</td>\n",
       "      <td>Li-Po 4820 mAh</td>\n",
       "      <td>6.390.000 Đ</td>\n",
       "    </tr>\n",
       "    <tr>\n",
       "      <th>4</th>\n",
       "      <td>iPhone SE Cũ 16Gb Nguyên Bản</td>\n",
       "      <td>IPS LCD, 4.0\", DVGA</td>\n",
       "      <td>Apple A9</td>\n",
       "      <td>12 MP</td>\n",
       "      <td>1.2 MP</td>\n",
       "      <td>16 GB</td>\n",
       "      <td>2 GB</td>\n",
       "      <td>Li-Po 1624 mAh</td>\n",
       "      <td>2.190.000 Đ</td>\n",
       "    </tr>\n",
       "    <tr>\n",
       "      <th>...</th>\n",
       "      <td>...</td>\n",
       "      <td>...</td>\n",
       "      <td>...</td>\n",
       "      <td>...</td>\n",
       "      <td>...</td>\n",
       "      <td>...</td>\n",
       "      <td>...</td>\n",
       "      <td>...</td>\n",
       "      <td>...</td>\n",
       "    </tr>\n",
       "    <tr>\n",
       "      <th>1723</th>\n",
       "      <td>Mobell C310</td>\n",
       "      <td>NaN</td>\n",
       "      <td>NaN</td>\n",
       "      <td>0.8 MP</td>\n",
       "      <td>NaN</td>\n",
       "      <td>NaN</td>\n",
       "      <td>NaN</td>\n",
       "      <td>NaN</td>\n",
       "      <td>200.000₫</td>\n",
       "    </tr>\n",
       "    <tr>\n",
       "      <th>1724</th>\n",
       "      <td>Masstel IZI 120</td>\n",
       "      <td>NaN</td>\n",
       "      <td>NaN</td>\n",
       "      <td>NaN</td>\n",
       "      <td>NaN</td>\n",
       "      <td>NaN</td>\n",
       "      <td>NaN</td>\n",
       "      <td>NaN</td>\n",
       "      <td>190.000₫</td>\n",
       "    </tr>\n",
       "    <tr>\n",
       "      <th>1725</th>\n",
       "      <td>Mobell M229 (2019)</td>\n",
       "      <td>NaN</td>\n",
       "      <td>NaN</td>\n",
       "      <td>0.8 MP</td>\n",
       "      <td>NaN</td>\n",
       "      <td>NaN</td>\n",
       "      <td>NaN</td>\n",
       "      <td>NaN</td>\n",
       "      <td>190.000₫</td>\n",
       "    </tr>\n",
       "    <tr>\n",
       "      <th>1726</th>\n",
       "      <td>Itel Value 100</td>\n",
       "      <td>NaN</td>\n",
       "      <td>NaN</td>\n",
       "      <td>NaN</td>\n",
       "      <td>NaN</td>\n",
       "      <td>NaN</td>\n",
       "      <td>NaN</td>\n",
       "      <td>NaN</td>\n",
       "      <td>170.000₫</td>\n",
       "    </tr>\n",
       "    <tr>\n",
       "      <th>1727</th>\n",
       "      <td>MOBELL M228</td>\n",
       "      <td>NaN</td>\n",
       "      <td>NaN</td>\n",
       "      <td>VGA (480 x 640 pixels)</td>\n",
       "      <td>NaN</td>\n",
       "      <td>NaN</td>\n",
       "      <td>NaN</td>\n",
       "      <td>NaN</td>\n",
       "      <td>160.000₫</td>\n",
       "    </tr>\n",
       "  </tbody>\n",
       "</table>\n",
       "<p>1728 rows × 9 columns</p>\n",
       "</div>"
      ],
      "text/plain": [
       "                                    Name                     Screen  \\\n",
       "0     Realme Q2 4G/128G - Hàng nhập khẩu    IPS LCD 6.5 inch, 120Hz   \n",
       "1            Xiaomi POCO M3 - Chính hãng   IPS LCD, 6.53\", Full HD+   \n",
       "2        Oppo Reno5 8GB/128GB chính hãng            6,43 inch, OLED   \n",
       "3          Redmi Note 9 Pro 5G 6Gb/128Gb                              \n",
       "4           iPhone SE Cũ 16Gb Nguyên Bản        IPS LCD, 4.0\", DVGA   \n",
       "...                                  ...                        ...   \n",
       "1723                         Mobell C310                        NaN   \n",
       "1724                     Masstel IZI 120                        NaN   \n",
       "1725                  Mobell M229 (2019)                        NaN   \n",
       "1726                      Itel Value 100                        NaN   \n",
       "1727                         MOBELL M228                        NaN   \n",
       "\n",
       "                                                    Cpu  \\\n",
       "0                               MediaTek 800U 5G (7 nm)   \n",
       "1                                 Snapdragon 662 8 nhân   \n",
       "2                Qualcomm SM7125 Snapdragon 720G (8 nm)   \n",
       "3     Octa-core (2x2.2 GHz Kryo 570 & 6x1.8 GHz Kryo...   \n",
       "4                                              Apple A9   \n",
       "...                                                 ...   \n",
       "1723                                                NaN   \n",
       "1724                                                NaN   \n",
       "1725                                                NaN   \n",
       "1726                                                NaN   \n",
       "1727                                                NaN   \n",
       "\n",
       "                              MainCamera SelfieCamera         Rom    Ram  \\\n",
       "0              Chính 48MP & Phụ 8MP, 2MP        16 MP      128 GB    4GB   \n",
       "1           Chính 48 MP & Phụ 2 MP, 2 MP          8MP   128/64 GB    4GB   \n",
       "2     Chính 64 MP & Phụ 8 MP, 2 MP, 2 MP         44MP      128 GB   8 GB   \n",
       "3                Chính 108MP+8MP+2MP+2MP         16MP      128 GB    6GB   \n",
       "4                                  12 MP       1.2 MP       16 GB   2 GB   \n",
       "...                                  ...          ...         ...    ...   \n",
       "1723                              0.8 MP          NaN         NaN    NaN   \n",
       "1724                                 NaN          NaN         NaN    NaN   \n",
       "1725                              0.8 MP          NaN         NaN    NaN   \n",
       "1726                                 NaN          NaN         NaN    NaN   \n",
       "1727              VGA (480 x 640 pixels)          NaN         NaN    NaN   \n",
       "\n",
       "                            Pin        Price  \n",
       "0        5000mAh, sạc nhanh 30w  4.490.000 Đ  \n",
       "1                       6000mAh  3.490.000 Đ  \n",
       "2     4.310 mAh + Sạc nhanh 50W  7.990.000 Đ  \n",
       "3                Li-Po 4820 mAh  6.390.000 Đ  \n",
       "4                Li-Po 1624 mAh  2.190.000 Đ  \n",
       "...                         ...          ...  \n",
       "1723                        NaN     200.000₫  \n",
       "1724                        NaN     190.000₫  \n",
       "1725                        NaN     190.000₫  \n",
       "1726                        NaN     170.000₫  \n",
       "1727                        NaN     160.000₫  \n",
       "\n",
       "[1728 rows x 9 columns]"
      ]
     },
     "execution_count": 3,
     "metadata": {},
     "output_type": "execute_result"
    }
   ],
   "source": [
    "df"
   ]
  },
  {
   "cell_type": "code",
   "execution_count": 4,
   "metadata": {},
   "outputs": [
    {
     "data": {
      "text/plain": [
       "Name              0\n",
       "Screen           48\n",
       "Cpu             104\n",
       "MainCamera       43\n",
       "SelfieCamera     57\n",
       "Rom              57\n",
       "Ram              57\n",
       "Pin              94\n",
       "Price            10\n",
       "dtype: int64"
      ]
     },
     "execution_count": 4,
     "metadata": {},
     "output_type": "execute_result"
    }
   ],
   "source": [
    "df.isna().sum()"
   ]
  },
  {
   "cell_type": "markdown",
   "metadata": {},
   "source": [
    "- Khám phá tập dữ liệu ta thấy các dòng cuối có quá nhiều thuộc tính bị thiếu, nếu để như vậy thì rất có thể dự đoán sẽ dễ bị sai lệch, do đó cần loại bỏ những dòng này.\n",
    "Xóa những điện thoại có những thuộc tính bị thiếu hơn 50% ( thiếu hơn 5 thuộc tính)"
   ]
  },
  {
   "cell_type": "code",
   "execution_count": 5,
   "metadata": {},
   "outputs": [],
   "source": [
    "for idx in df.index:\n",
    "    if df.loc[idx].isna().sum() >= 5:\n",
    "        df.drop(idx, inplace=True)"
   ]
  },
  {
   "cell_type": "markdown",
   "metadata": {},
   "source": [
    "- Vì mục đích là dự đoán giá điện thoại nên cần phải xóa những dữ liệu không có giá trị. Suy ra, phải xóa những dòng của thuộc tính Price ( giá cả) với các giá trị \"Liên hệ\", và các giá trị thiếu."
   ]
  },
  {
   "cell_type": "code",
   "execution_count": 6,
   "metadata": {},
   "outputs": [],
   "source": [
    "df.drop(df[df.Price == 'Liên hệ'].index, inplace=True)"
   ]
  },
  {
   "cell_type": "code",
   "execution_count": 7,
   "metadata": {},
   "outputs": [],
   "source": [
    "df.drop(df[df.Price.isna() == True].index, inplace=True)"
   ]
  },
  {
   "cell_type": "code",
   "execution_count": 8,
   "metadata": {
    "scrolled": true
   },
   "outputs": [
    {
     "data": {
      "text/plain": [
       "0       4.490.000 Đ\n",
       "1       3.490.000 Đ\n",
       "2       7.990.000 Đ\n",
       "3       6.390.000 Đ\n",
       "4       2.190.000 Đ\n",
       "           ...     \n",
       "1686     1.070.000₫\n",
       "1688       990.000₫\n",
       "1689       890.000₫\n",
       "1690       890.000₫\n",
       "1697       590.000₫\n",
       "Name: Price, Length: 1421, dtype: object"
      ]
     },
     "execution_count": 8,
     "metadata": {},
     "output_type": "execute_result"
    }
   ],
   "source": [
    "df.Price"
   ]
  },
  {
   "cell_type": "markdown",
   "metadata": {},
   "source": [
    "- Chuyển Price sang dạng số."
   ]
  },
  {
   "cell_type": "code",
   "execution_count": 9,
   "metadata": {},
   "outputs": [],
   "source": [
    "for idx in df.Price.index:\n",
    "    price = int(df.Price[idx].replace('.','').replace('Đ','').replace('đ','').replace('₫','').replace(' ',''))\n",
    "    if price < 6000000:\n",
    "        df['Price'][idx] = 1\n",
    "    elif price <10000000:\n",
    "        df['Price'][idx] = 2\n",
    "    elif price < 18000000:\n",
    "        df['Price'][idx] = 3\n",
    "    else:\n",
    "        df['Price'][idx] = 4"
   ]
  },
  {
   "cell_type": "markdown",
   "metadata": {},
   "source": [
    "- Tiếp theo lưu dataframe và 1 file csv có tên là data02.csv để làm tiếp giai đoạn mô hình hóa và dự đoán."
   ]
  },
  {
   "cell_type": "code",
   "execution_count": 11,
   "metadata": {},
   "outputs": [],
   "source": [
    "export_csv = df.to_csv ('data.csv', index = None, header=True)"
   ]
  }
 ],
 "metadata": {
  "kernelspec": {
   "display_name": "Python 3",
   "language": "python",
   "name": "python3"
  },
  "language_info": {
   "codemirror_mode": {
    "name": "ipython",
    "version": 3
   },
   "file_extension": ".py",
   "mimetype": "text/x-python",
   "name": "python",
   "nbconvert_exporter": "python",
   "pygments_lexer": "ipython3",
   "version": "3.8.3"
  }
 },
 "nbformat": 4,
 "nbformat_minor": 4
}
