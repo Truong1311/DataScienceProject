{
 "cells": [
  {
   "cell_type": "markdown",
   "metadata": {},
   "source": [
    "# Import các thư viện cần thiết"
   ]
  },
  {
   "cell_type": "code",
   "execution_count": 1,
   "metadata": {},
   "outputs": [],
   "source": [
    "%matplotlib inline\n",
    "import matplotlib.pyplot as plt\n",
    "import seaborn as sns\n",
    "import pandas as pd\n",
    "import numpy as np\n",
    "\n",
    "import requests\n",
    "from bs4 import BeautifulSoup\n",
    "import urllib.request\n",
    "from selenium import webdriver\n",
    "from selenium.webdriver.common.keys import Keys\n",
    "import time\n",
    "\n",
    "from urllib import parse\n",
    "from urllib import robotparser\n",
    "from sklearn.model_selection import train_test_split\n",
    "from sklearn.preprocessing import OneHotEncoder, StandardScaler\n",
    "from sklearn.impute import SimpleImputer, KNNImputer\n",
    "from sklearn.base import BaseEstimator, TransformerMixin\n",
    "from sklearn.pipeline import Pipeline, make_pipeline\n",
    "from sklearn.compose import ColumnTransformer, make_column_transformer\n",
    "from sklearn.neural_network import MLPRegressor,MLPClassifier\n",
    "from sklearn.linear_model import LogisticRegression\n",
    "from sklearn import set_config\n",
    "set_config(display='diagram')"
   ]
  },
  {
   "cell_type": "markdown",
   "metadata": {},
   "source": [
    "# Thu thập dữ liệu\n",
    " - Nhóm thực hiện việc thu thập dữ liệu từ 3 trang web bán điện thoại tại Việt Nam, bao gồm: https://didongthongminh.vn/dien-thoai,  https://www.nguyenkim.com/dien-thoai-di-dong,  https://www.thegioididong.com/dtdd .\n",
    " Viêc thu thập dẽ liệu từ 3 trang web này được check robotparser như sau: "
   ]
  },
  {
   "cell_type": "markdown",
   "metadata": {},
   "source": [
    "### Check robotparser"
   ]
  },
  {
   "cell_type": "code",
   "execution_count": 2,
   "metadata": {},
   "outputs": [
    {
     "name": "stdout",
     "output_type": "stream",
     "text": [
      "https://www.nguyenkim.com/dien-thoai-di-dong check =  True\n",
      "https://www.nguyenkim.com/dien-thoai-di-dong check =  True\n",
      "https://www.thegioididong.com/dtdd check =  True\n"
     ]
    }
   ],
   "source": [
    "urls = ['https://www.nguyenkim.com/dien-thoai-di-dong',\n",
    "       'https://www.nguyenkim.com/dien-thoai-di-dong',\n",
    "       'https://www.thegioididong.com/dtdd']\n",
    "for url in urls:\n",
    "    URL_BASE = url\n",
    "    parser = robotparser.RobotFileParser()\n",
    "    parser.set_url(parse.urljoin(URL_BASE, 'robots.txt'))\n",
    "    parser.read()\n",
    "    print(url,'check = ', parser.can_fetch('*', url))"
   ]
  },
  {
   "cell_type": "markdown",
   "metadata": {},
   "source": [
    "###  Thu thập dữ liệu từ trang web https://didongthongminh.vn/dien-thoai\n",
    " - Thực hiện bằng phương pháp parser html"
   ]
  },
  {
   "cell_type": "code",
   "execution_count": 3,
   "metadata": {},
   "outputs": [],
   "source": [
    "# Đây là các thuộc tính cơ bản của một điện thoại.\n",
    "# Nhóm sẽ tiến hành thu thập các thông tin bao gồm: tên, ram, rom, dung lượng pin, màn hình, cpu, camera chính\n",
    "# và camera selfie và giá thành.\n",
    "\n",
    "Name = []\n",
    "Ram = []\n",
    "Rom =[]\n",
    "Pin = []\n",
    "Screen = []\n",
    "Cpu = []\n",
    "Main_Camera = []\n",
    "Selfie_Camera = []\n",
    "Price =[]\n",
    "i = 1\n",
    "while True:\n",
    "    url = f'https://didongthongminh.vn/dien-thoai/page/{i}'\n",
    "    i +=1\n",
    "    html_text = requests.get(url).text\n",
    "    tree = BeautifulSoup(html_text, \"html.parser\")\n",
    "    phone_list = tree.find_all('div',{'class':'dst_hproduct_hidden'})\n",
    "    if len(phone_list) == 0:\n",
    "        break\n",
    "    for phone in phone_list:\n",
    "        # Tên điện thoại.\n",
    "        try:\n",
    "            name = phone.find('a',{'class':'dst_hproduct_title'}).text\n",
    "        except:\n",
    "            name = ''\n",
    "        Name.append(name)\n",
    "        configuration = phone.find_all('span',{'class':'dst_cauhinh'})\n",
    "        # Màn hình \n",
    "        try:\n",
    "            screen = configuration[0].text[configuration[0].text.find(\":\")+1:]\n",
    "        except:\n",
    "            screen = ''\n",
    "        Screen.append(screen)\n",
    "        # CPU\n",
    "        try:\n",
    "            cpu = configuration[1].text[configuration[1].text.find(\"CPU:\")+len(\"CPU: \"):]\n",
    "        except:\n",
    "            cpu = ''\n",
    "        Cpu.append(cpu)\n",
    "        # Camera\n",
    "        try:\n",
    "            main_c = configuration[3].text[configuration[3].text.find(\"Camera:\")+len(\"Camera:\")+1:configuration[3].text.find(\"Selfie:\")-2]\n",
    "            selfie_c = configuration[3].text[configuration[3].text.find(\"Selfie:\")+len(\"Selfie:\")+1:]\n",
    "        except:\n",
    "            main_c =''\n",
    "            selfie_c =''\n",
    "        Main_Camera.append(main_c)\n",
    "        Selfie_Camera.append(selfie_c)\n",
    "        # Ram\n",
    "        try:\n",
    "            ram = configuration[2].text[len('Ram:'):configuration[2].text.find(',')]\n",
    "        except:\n",
    "            ram = ''\n",
    "        Ram.append(ram)\n",
    "        # Rom\n",
    "        try:\n",
    "            rom = configuration[2].text[configuration[2].text.rfind(':')+1:]\n",
    "        except:\n",
    "            rom = ''\n",
    "        Rom.append(rom)\n",
    "        # dung lượng Pin\n",
    "        try:\n",
    "            pin = configuration[4].text[len(\"Pin: \"):]\n",
    "        except:\n",
    "            pin = ''\n",
    "        Pin.append(pin)\n",
    "        # giá điện thoại.\n",
    "        try:\n",
    "            price = phone.find('div',{'class':\"dst_hproduct_price\"}).text\n",
    "        except:\n",
    "            price = ''\n",
    "        Price.append(price)"
   ]
  },
  {
   "cell_type": "markdown",
   "metadata": {},
   "source": [
    "### Thu thập dữ liệu từ trang web: https://www.nguyenkim.com/dien-thoai-di-dong"
   ]
  },
  {
   "cell_type": "code",
   "execution_count": 4,
   "metadata": {},
   "outputs": [],
   "source": [
    "i = 1\n",
    "while True:\n",
    "    url = f'https://www.nguyenkim.com/dien-thoai-di-dong/page-{i}/'\n",
    "    i +=1\n",
    "    html_text = requests.get(url).text\n",
    "    tree = BeautifulSoup(html_text, \"html.parser\")\n",
    "    urls = tree.find_all('a', {'class': 'nk-link-product'})\n",
    "    if len(urls) == 0:\n",
    "        break\n",
    "    for u in urls:\n",
    "        phone_html_text = requests.get(u['href']).text\n",
    "        phone_tree = BeautifulSoup(phone_html_text, \"html.parser\")\n",
    "        \n",
    "        # Tên điện thoại\n",
    "        try:\n",
    "            name = phone_tree.find('h1',{'class':'product_info_name'}).text.replace(\"Điện thoại \",\"\")\n",
    "        except:\n",
    "            name = ''\n",
    "        Name.append(name)\n",
    "        \n",
    "        configurations = phone_tree.find('tbody',{'class':'popup'}).find_all('tr') # thông số kỹ thuật.\n",
    "        conf = []\n",
    "        for _conf in configurations:\n",
    "            s = _conf.text.split(\":\")\n",
    "            conf.append((s[0],s[1]))\n",
    "        conf = dict(conf)\n",
    "        \n",
    "        # Màn hình\n",
    "        try:\n",
    "            screen = conf[\"Kích thước màn hình\"]\n",
    "        except:\n",
    "            screen =''\n",
    "            \n",
    "        Screen.append(screen)\n",
    "            \n",
    "        # Cpu\n",
    "        try:\n",
    "            cpu = conf[\"Chipset\"]\n",
    "        except:\n",
    "            cpu = ''\n",
    "        Cpu.append(cpu)\n",
    "        \n",
    "        # Camera\n",
    "        try:\n",
    "            selfie_c = conf[\"Camera trước\"]\n",
    "        except:\n",
    "            selfie_c =''\n",
    "        Selfie_Camera.append(selfie_c)\n",
    "                             \n",
    "        try:\n",
    "            main_c = conf[\"Camera sau\"]\n",
    "        except:\n",
    "            main_c =''\n",
    "        Main_Camera.append(main_c)\n",
    "        \n",
    "        # Ram\n",
    "        try:\n",
    "            ram = conf[\"RAM\"]\n",
    "        except:\n",
    "            ram =''\n",
    "        Ram.append(ram)\n",
    "        \n",
    "        #Rom\n",
    "        try:\n",
    "            rom = conf[\"Bộ nhớ trong\"]\n",
    "        except:\n",
    "            rom = ''\n",
    "        Rom.append(ram)\n",
    "        \n",
    "        # dung lượng Pin\n",
    "        try:\n",
    "            pin = conf[\"Dung lượng Pin\"]\n",
    "        except:\n",
    "            pin =''\n",
    "        Pin.append(pin)\n",
    "        \n",
    "        # giá điện thoại\n",
    "        try:\n",
    "            price = phone_tree.find('div',{'class':'product_info_price_value-final'}).text\n",
    "        except:\n",
    "            price = ''\n",
    "        Price.append(price)\n"
   ]
  },
  {
   "cell_type": "markdown",
   "metadata": {},
   "source": [
    "### Thu thập dữ liệu từ web: https://www.thegioididong.com/dtdd\n",
    "- Việc tải nhiều trang cho các điện thoại khác nhau nên phải tương tác với trang web, do đó nhóm đã sử dụng phương pháp webdriver để tải các trang và thu thập dữ liệu."
   ]
  },
  {
   "cell_type": "code",
   "execution_count": 5,
   "metadata": {},
   "outputs": [],
   "source": [
    "# Mở Chrome\n",
    "browser = webdriver.Chrome(executable_path='./chromedriver.exe')\n",
    "# Mở trang chủ của thế giới di động\n",
    "browser.get('https://www.thegioididong.com/dtdd')\n",
    "while True:\n",
    "    time.sleep(1)\n",
    "    try:\n",
    "        browser.find_element_by_css_selector('a.viewmore').click()\n",
    "    except:\n",
    "        break\n",
    "        \n",
    "html_text = browser.page_source\n",
    "browser.quit()\n",
    "tree = BeautifulSoup(html_text, 'html.parser')\n",
    "phones = tree.find_all('li',{'class':'item'})\n",
    "for phone in phones:\n",
    "    url = phone.find('a')['href']\n",
    "    url='https://www.thegioididong.com'+url\n",
    "    phone_html_text = requests.get(url).text\n",
    "    tree = BeautifulSoup(phone_html_text, 'html.parser')\n",
    "    #tên\n",
    "    try:\n",
    "        name=tree.find('div',{'class':'rowtop'}).h1.text.replace('Điện thoại ','')\n",
    "    except:\n",
    "        name=''\n",
    "    parameter=tree.find('ul',{'class':'parameter'})\n",
    "    #màn hình\n",
    "    try:\n",
    "        screen=parameter.find('li',{'class':'g6459_79_77'}).div.text\n",
    "    except:\n",
    "        screen=''\n",
    "    #cpu\n",
    "    try:\n",
    "        cpu=parameter.find('li',{'class':'g6059'}).div.text\n",
    "    except:\n",
    "        cpu=''\n",
    "    #caera trước\n",
    "    try:\n",
    "        main_camera=parameter.find('li',{'class':'g27'}).div.text\n",
    "    except:\n",
    "        main_camera=''\n",
    "    #camera sau\n",
    "    try:\n",
    "        selfie_camera=parameter.find('li',{'class':'g29'}).div.text\n",
    "    except:\n",
    "        selfie_camera=''\n",
    "    #rom\n",
    "    try:\n",
    "        rom=parameter.find('li',{'class':'g49'}).div.text\n",
    "    except:\n",
    "        rom=''\n",
    "    #ram\n",
    "    try:\n",
    "        ram=parameter.find('li',{'class':'g50'}).div.text\n",
    "    except:\n",
    "        ram=''\n",
    "    #pin\n",
    "    try:\n",
    "        pin=parameter.find('li',{'class':'g84_10882'}).div.text\n",
    "    except:\n",
    "        pin=''\n",
    "    #giá\n",
    "    try:\n",
    "        price=tree.find('div',{'class':'area_price'}).strong.text\n",
    "    except:\n",
    "        price=''\n",
    "    Name.append(name)\n",
    "    Screen.append(screen)\n",
    "    Cpu.append(cpu)\n",
    "    Main_Camera.append(main_camera)\n",
    "    Selfie_Camera.append(selfie_camera)\n",
    "    Rom.append(rom)\n",
    "    Ram.append(ram)\n",
    "    Pin.append(pin)\n",
    "    Price.append(price)"
   ]
  },
  {
   "cell_type": "code",
   "execution_count": 6,
   "metadata": {},
   "outputs": [],
   "source": [
    "df = pd.DataFrame({'Name' : pd.Series(Name),\n",
    "                   'Screen' : pd.Series(Screen),\n",
    "                   'Cpu' : pd.Series(Cpu),\n",
    "                   'MainCamera' : pd.Series(Main_Camera),\n",
    "                   'SelfieCamera' : pd.Series(Selfie_Camera),\n",
    "                   'Rom' : pd.Series(Rom),\n",
    "                   'Ram' : pd.Series(Ram),\n",
    "                   'Pin' : pd.Series(Pin),\n",
    "                   'Price': pd.Series(Price)})"
   ]
  },
  {
   "cell_type": "markdown",
   "metadata": {},
   "source": [
    "- Ghi thông tin vào file data_colection.csv để dễ xử lý về sau."
   ]
  },
  {
   "cell_type": "code",
   "execution_count": 7,
   "metadata": {},
   "outputs": [],
   "source": [
    "export_csv = df.to_csv ('phone_data.csv', index = None, header=True)"
   ]
  },
  {
   "cell_type": "markdown",
   "metadata": {},
   "source": [
    "# Khám phá dữ liệu và nhận định câu hỏi"
   ]
  },
  {
   "cell_type": "markdown",
   "metadata": {},
   "source": [
    "### Khám phá dữ liệu:"
   ]
  },
  {
   "cell_type": "code",
   "execution_count": 5,
   "metadata": {
    "scrolled": false
   },
   "outputs": [],
   "source": [
    "df_pre = pd.read_csv('data_colection.csv')"
   ]
  },
  {
   "cell_type": "code",
   "execution_count": 6,
   "metadata": {},
   "outputs": [
    {
     "data": {
      "text/html": [
       "<div>\n",
       "<style scoped>\n",
       "    .dataframe tbody tr th:only-of-type {\n",
       "        vertical-align: middle;\n",
       "    }\n",
       "\n",
       "    .dataframe tbody tr th {\n",
       "        vertical-align: top;\n",
       "    }\n",
       "\n",
       "    .dataframe thead th {\n",
       "        text-align: right;\n",
       "    }\n",
       "</style>\n",
       "<table border=\"1\" class=\"dataframe\">\n",
       "  <thead>\n",
       "    <tr style=\"text-align: right;\">\n",
       "      <th></th>\n",
       "      <th>Name</th>\n",
       "      <th>Screen</th>\n",
       "      <th>Cpu</th>\n",
       "      <th>MainCamera</th>\n",
       "      <th>SelfieCamera</th>\n",
       "      <th>Rom</th>\n",
       "      <th>Ram</th>\n",
       "      <th>Pin</th>\n",
       "      <th>Price</th>\n",
       "    </tr>\n",
       "  </thead>\n",
       "  <tbody>\n",
       "    <tr>\n",
       "      <th>0</th>\n",
       "      <td>Xiaomi POCO M3 - Chính hãng</td>\n",
       "      <td>IPS LCD, 6.53\", Full HD+</td>\n",
       "      <td>Snapdragon 662 8 nhân</td>\n",
       "      <td>Chính 48 MP &amp; Phụ 2 MP, 2 MP</td>\n",
       "      <td>8MP</td>\n",
       "      <td>128/64 GB</td>\n",
       "      <td>4GB</td>\n",
       "      <td>6000mAh</td>\n",
       "      <td>3.490.000 Đ</td>\n",
       "    </tr>\n",
       "    <tr>\n",
       "      <th>1</th>\n",
       "      <td>Oppo Reno5 8GB/128GB chính hãng</td>\n",
       "      <td>6,43 inch, OLED</td>\n",
       "      <td>Qualcomm SM7125 Snapdragon 720G (8 nm)</td>\n",
       "      <td>Chính 64 MP &amp; Phụ 8 MP, 2 MP, 2 MP</td>\n",
       "      <td>44MP</td>\n",
       "      <td>128 GB</td>\n",
       "      <td>8 GB</td>\n",
       "      <td>4.310 mAh + Sạc nhanh 50W</td>\n",
       "      <td>7.990.000 Đ</td>\n",
       "    </tr>\n",
       "    <tr>\n",
       "      <th>2</th>\n",
       "      <td>Redmi Note 9 Pro 5G 6Gb/128Gb</td>\n",
       "      <td></td>\n",
       "      <td>Octa-core (2x2.2 GHz Kryo 570 &amp; 6x1.8 GHz Kryo...</td>\n",
       "      <td>Chính 108MP+8MP+2MP+2MP</td>\n",
       "      <td>16MP</td>\n",
       "      <td>128 GB</td>\n",
       "      <td>6GB</td>\n",
       "      <td>Li-Po 4820 mAh</td>\n",
       "      <td>6.390.000 Đ</td>\n",
       "    </tr>\n",
       "    <tr>\n",
       "      <th>3</th>\n",
       "      <td>iPhone SE Cũ 16Gb Nguyên Bản</td>\n",
       "      <td>IPS LCD, 4.0\", DVGA</td>\n",
       "      <td>Apple A9</td>\n",
       "      <td>12 MP</td>\n",
       "      <td>1.2 MP</td>\n",
       "      <td>16 GB</td>\n",
       "      <td>2 GB</td>\n",
       "      <td>Li-Po 1624 mAh</td>\n",
       "      <td>2.190.000 Đ</td>\n",
       "    </tr>\n",
       "    <tr>\n",
       "      <th>4</th>\n",
       "      <td>Oppo Reno5Pro 8GB/128GB Hàng chính hãng</td>\n",
       "      <td>OLED, 6.55\", Full HD+</td>\n",
       "      <td>8 nhân</td>\n",
       "      <td>Chính 64 MP &amp; Phụ 8 MP, 2 MP, 2 MP</td>\n",
       "      <td>32MP</td>\n",
       "      <td>256GB</td>\n",
       "      <td>8 GB</td>\n",
       "      <td>Có sạc ngược</td>\n",
       "      <td>Liên hệ</td>\n",
       "    </tr>\n",
       "    <tr>\n",
       "      <th>...</th>\n",
       "      <td>...</td>\n",
       "      <td>...</td>\n",
       "      <td>...</td>\n",
       "      <td>...</td>\n",
       "      <td>...</td>\n",
       "      <td>...</td>\n",
       "      <td>...</td>\n",
       "      <td>...</td>\n",
       "      <td>...</td>\n",
       "    </tr>\n",
       "    <tr>\n",
       "      <th>1823</th>\n",
       "      <td>Mobell C310</td>\n",
       "      <td>NaN</td>\n",
       "      <td>NaN</td>\n",
       "      <td>0.8 MP</td>\n",
       "      <td>NaN</td>\n",
       "      <td>NaN</td>\n",
       "      <td>NaN</td>\n",
       "      <td>NaN</td>\n",
       "      <td>200.000₫</td>\n",
       "    </tr>\n",
       "    <tr>\n",
       "      <th>1824</th>\n",
       "      <td>Mobell M229 (2019)</td>\n",
       "      <td>NaN</td>\n",
       "      <td>NaN</td>\n",
       "      <td>0.8 MP</td>\n",
       "      <td>NaN</td>\n",
       "      <td>NaN</td>\n",
       "      <td>NaN</td>\n",
       "      <td>NaN</td>\n",
       "      <td>190.000₫</td>\n",
       "    </tr>\n",
       "    <tr>\n",
       "      <th>1825</th>\n",
       "      <td>Masstel IZI 120</td>\n",
       "      <td>NaN</td>\n",
       "      <td>NaN</td>\n",
       "      <td>NaN</td>\n",
       "      <td>NaN</td>\n",
       "      <td>NaN</td>\n",
       "      <td>NaN</td>\n",
       "      <td>NaN</td>\n",
       "      <td>190.000₫</td>\n",
       "    </tr>\n",
       "    <tr>\n",
       "      <th>1826</th>\n",
       "      <td>Itel Value 100</td>\n",
       "      <td>NaN</td>\n",
       "      <td>NaN</td>\n",
       "      <td>NaN</td>\n",
       "      <td>NaN</td>\n",
       "      <td>NaN</td>\n",
       "      <td>NaN</td>\n",
       "      <td>NaN</td>\n",
       "      <td>170.000₫</td>\n",
       "    </tr>\n",
       "    <tr>\n",
       "      <th>1827</th>\n",
       "      <td>MOBELL M228</td>\n",
       "      <td>NaN</td>\n",
       "      <td>NaN</td>\n",
       "      <td>VGA (480 x 640 pixels)</td>\n",
       "      <td>NaN</td>\n",
       "      <td>NaN</td>\n",
       "      <td>NaN</td>\n",
       "      <td>NaN</td>\n",
       "      <td>160.000₫</td>\n",
       "    </tr>\n",
       "  </tbody>\n",
       "</table>\n",
       "<p>1828 rows × 9 columns</p>\n",
       "</div>"
      ],
      "text/plain": [
       "                                         Name                     Screen  \\\n",
       "0                 Xiaomi POCO M3 - Chính hãng   IPS LCD, 6.53\", Full HD+   \n",
       "1             Oppo Reno5 8GB/128GB chính hãng            6,43 inch, OLED   \n",
       "2               Redmi Note 9 Pro 5G 6Gb/128Gb                              \n",
       "3                iPhone SE Cũ 16Gb Nguyên Bản        IPS LCD, 4.0\", DVGA   \n",
       "4     Oppo Reno5Pro 8GB/128GB Hàng chính hãng      OLED, 6.55\", Full HD+   \n",
       "...                                       ...                        ...   \n",
       "1823                              Mobell C310                        NaN   \n",
       "1824                       Mobell M229 (2019)                        NaN   \n",
       "1825                          Masstel IZI 120                        NaN   \n",
       "1826                           Itel Value 100                        NaN   \n",
       "1827                              MOBELL M228                        NaN   \n",
       "\n",
       "                                                    Cpu  \\\n",
       "0                                 Snapdragon 662 8 nhân   \n",
       "1                Qualcomm SM7125 Snapdragon 720G (8 nm)   \n",
       "2     Octa-core (2x2.2 GHz Kryo 570 & 6x1.8 GHz Kryo...   \n",
       "3                                              Apple A9   \n",
       "4                                                8 nhân   \n",
       "...                                                 ...   \n",
       "1823                                                NaN   \n",
       "1824                                                NaN   \n",
       "1825                                                NaN   \n",
       "1826                                                NaN   \n",
       "1827                                                NaN   \n",
       "\n",
       "                              MainCamera SelfieCamera         Rom    Ram  \\\n",
       "0           Chính 48 MP & Phụ 2 MP, 2 MP          8MP   128/64 GB    4GB   \n",
       "1     Chính 64 MP & Phụ 8 MP, 2 MP, 2 MP         44MP      128 GB   8 GB   \n",
       "2                Chính 108MP+8MP+2MP+2MP         16MP      128 GB    6GB   \n",
       "3                                  12 MP       1.2 MP       16 GB   2 GB   \n",
       "4     Chính 64 MP & Phụ 8 MP, 2 MP, 2 MP         32MP       256GB   8 GB   \n",
       "...                                  ...          ...         ...    ...   \n",
       "1823                              0.8 MP          NaN         NaN    NaN   \n",
       "1824                              0.8 MP          NaN         NaN    NaN   \n",
       "1825                                 NaN          NaN         NaN    NaN   \n",
       "1826                                 NaN          NaN         NaN    NaN   \n",
       "1827              VGA (480 x 640 pixels)          NaN         NaN    NaN   \n",
       "\n",
       "                            Pin        Price  \n",
       "0                       6000mAh  3.490.000 Đ  \n",
       "1     4.310 mAh + Sạc nhanh 50W  7.990.000 Đ  \n",
       "2                Li-Po 4820 mAh  6.390.000 Đ  \n",
       "3                Li-Po 1624 mAh  2.190.000 Đ  \n",
       "4                  Có sạc ngược      Liên hệ  \n",
       "...                         ...          ...  \n",
       "1823                        NaN     200.000₫  \n",
       "1824                        NaN     190.000₫  \n",
       "1825                        NaN     190.000₫  \n",
       "1826                        NaN     170.000₫  \n",
       "1827                        NaN     160.000₫  \n",
       "\n",
       "[1828 rows x 9 columns]"
      ]
     },
     "execution_count": 6,
     "metadata": {},
     "output_type": "execute_result"
    }
   ],
   "source": [
    "# Xem dữ liệu:\n",
    "df_pre"
   ]
  },
  {
   "cell_type": "code",
   "execution_count": 7,
   "metadata": {},
   "outputs": [
    {
     "data": {
      "text/plain": [
       "111"
      ]
     },
     "execution_count": 7,
     "metadata": {},
     "output_type": "execute_result"
    }
   ],
   "source": [
    "# kiểm tra có trùng lặp dữ liệu không?\n",
    "df_pre.duplicated().sum()"
   ]
  },
  {
   "cell_type": "markdown",
   "metadata": {},
   "source": [
    "#### Nhận xét dữ liệu: \n",
    "- Xóa các dòng dữ liệu bị trùng lắp.\n",
    "- Quan sát những dòng cuối nhận thấy có quá nhiều thuộc tính thiếu giá trị. Do đó nên xóa các dòng này.\n",
    "- Giá điện thoại có các gía trị thiếu và các giá trị 'Liên hệ'. Vì Giá điện thoại và thuộc tính phân lớp nên phải xóa các dòng này.\n",
    "- Các thuộc tính camera, pin, ram, rom có thể chuyển về dạng số.\n",
    "- Thuộc tính Cpu có quá nhiều loại, rất khó khăn trong việc nhận dạng để tách.\n",
    "\n",
    "#### Đặt câu hỏi:\n",
    "- Câu hỏi: Dự đoán mức giá của điện thoại thông qua các thông số kỹ thuật của máy. Các mức giá do nhóm tìm hiểu trên thị trường như sau:\n",
    "    + Điện thoại gía rẽ: Giá dưới 6 triệu vnd.\n",
    "    + Điện thoại tầm trung: Giá dao động từ 6 đến 10 triệu vnd.\n",
    "    + Điện thoại cao cấp: Gía dao động từ 10 đến 18 triệu vnd.\n",
    "    + Điện thoại cao cấp( flagship): Giá trên 18 triệu vnd."
   ]
  },
  {
   "cell_type": "markdown",
   "metadata": {},
   "source": [
    " #### Quan sát các thuộc tính: \n",
    " - Ở thuôc tính Name có thể tách ra hãng sản xuất, do thực tế có thể thấy rằng, mỗi hãng khác nhau sẽ có giá bán khác nhau.\n",
    " - Các thuộc tính Screen, Main Camera, Selfie Camera, Ram, Rom và Pin có thể tách lấy các giá trị dạng số bằng với :\n",
    "     + Screen: lấy kích thước màn hình( đơn vị inchs).\n",
    "     + Main Camera, Selfie Camera: lấy giá trị độ phân giải của camera chính.( đối với giá trị có nhiều giá trị, ví dụ:Chính 48 MP & Phụ 8 MP, 2 MP, 2 MP, thì chỉ lấy giá trị camera chính.\n",
    "     + Đối với Ram và Rom xử lí chuỗi bình thường.\n",
    " - Thuộc tính CPU có thể tách ra loại chip: ví dụ: Qualcomm Snapdragon, MediaTek, Exynos, ... Nhưng trên thị trường có quá nhiều phiên bản khác nhau của chip nên sẽ bỏ qua cột dữ liệu này :(("
   ]
  },
  {
   "cell_type": "markdown",
   "metadata": {},
   "source": [
    "### Tiền xử lý cơ bản dữ liệu: Như đã đề cập ở trên."
   ]
  },
  {
   "cell_type": "code",
   "execution_count": 8,
   "metadata": {},
   "outputs": [],
   "source": [
    "# Xóa dòng dữ liệu thiếu.\n",
    "for idx in df_pre.index:\n",
    "    if df_pre.loc[idx].isna().sum() >= 5:\n",
    "        df_pre.drop(idx, inplace=True)\n",
    "        \n",
    "# Xóa dòng dữ liệu với các giá trị ở thuộc tính giá là 'Liên hệ' hoặc bị thiếu.\n",
    "df_pre.drop(df_pre[df_pre.Price == 'Liên hệ'].index, inplace=True)\n",
    "\n",
    "df_pre.drop(df_pre[df_pre.Price.isna() == True].index, inplace=True)"
   ]
  },
  {
   "cell_type": "code",
   "execution_count": 9,
   "metadata": {},
   "outputs": [
    {
     "data": {
      "text/html": [
       "<div>\n",
       "<style scoped>\n",
       "    .dataframe tbody tr th:only-of-type {\n",
       "        vertical-align: middle;\n",
       "    }\n",
       "\n",
       "    .dataframe tbody tr th {\n",
       "        vertical-align: top;\n",
       "    }\n",
       "\n",
       "    .dataframe thead th {\n",
       "        text-align: right;\n",
       "    }\n",
       "</style>\n",
       "<table border=\"1\" class=\"dataframe\">\n",
       "  <thead>\n",
       "    <tr style=\"text-align: right;\">\n",
       "      <th></th>\n",
       "      <th>Name</th>\n",
       "      <th>Screen</th>\n",
       "      <th>Cpu</th>\n",
       "      <th>MainCamera</th>\n",
       "      <th>SelfieCamera</th>\n",
       "      <th>Rom</th>\n",
       "      <th>Ram</th>\n",
       "      <th>Pin</th>\n",
       "      <th>Price</th>\n",
       "    </tr>\n",
       "  </thead>\n",
       "  <tbody>\n",
       "    <tr>\n",
       "      <th>0</th>\n",
       "      <td>Xiaomi POCO M3 - Chính hãng</td>\n",
       "      <td>IPS LCD, 6.53\", Full HD+</td>\n",
       "      <td>Snapdragon 662 8 nhân</td>\n",
       "      <td>Chính 48 MP &amp; Phụ 2 MP, 2 MP</td>\n",
       "      <td>8MP</td>\n",
       "      <td>128/64 GB</td>\n",
       "      <td>4GB</td>\n",
       "      <td>6000mAh</td>\n",
       "      <td>3.490.000 Đ</td>\n",
       "    </tr>\n",
       "    <tr>\n",
       "      <th>1</th>\n",
       "      <td>Oppo Reno5 8GB/128GB chính hãng</td>\n",
       "      <td>6,43 inch, OLED</td>\n",
       "      <td>Qualcomm SM7125 Snapdragon 720G (8 nm)</td>\n",
       "      <td>Chính 64 MP &amp; Phụ 8 MP, 2 MP, 2 MP</td>\n",
       "      <td>44MP</td>\n",
       "      <td>128 GB</td>\n",
       "      <td>8 GB</td>\n",
       "      <td>4.310 mAh + Sạc nhanh 50W</td>\n",
       "      <td>7.990.000 Đ</td>\n",
       "    </tr>\n",
       "    <tr>\n",
       "      <th>2</th>\n",
       "      <td>Redmi Note 9 Pro 5G 6Gb/128Gb</td>\n",
       "      <td></td>\n",
       "      <td>Octa-core (2x2.2 GHz Kryo 570 &amp; 6x1.8 GHz Kryo...</td>\n",
       "      <td>Chính 108MP+8MP+2MP+2MP</td>\n",
       "      <td>16MP</td>\n",
       "      <td>128 GB</td>\n",
       "      <td>6GB</td>\n",
       "      <td>Li-Po 4820 mAh</td>\n",
       "      <td>6.390.000 Đ</td>\n",
       "    </tr>\n",
       "    <tr>\n",
       "      <th>3</th>\n",
       "      <td>iPhone SE Cũ 16Gb Nguyên Bản</td>\n",
       "      <td>IPS LCD, 4.0\", DVGA</td>\n",
       "      <td>Apple A9</td>\n",
       "      <td>12 MP</td>\n",
       "      <td>1.2 MP</td>\n",
       "      <td>16 GB</td>\n",
       "      <td>2 GB</td>\n",
       "      <td>Li-Po 1624 mAh</td>\n",
       "      <td>2.190.000 Đ</td>\n",
       "    </tr>\n",
       "    <tr>\n",
       "      <th>5</th>\n",
       "      <td>Oppo A15 3GB/32GB Hàng chính hãng</td>\n",
       "      <td>IPS LCD, 6.52\", HD+</td>\n",
       "      <td>MediaTek Helio P35 8 nhân</td>\n",
       "      <td>Chính 13 MP &amp; Phụ 2 MP, 2 MP</td>\n",
       "      <td>5MP</td>\n",
       "      <td>32 GB</td>\n",
       "      <td>3 GB</td>\n",
       "      <td>Li-Po 4230 mAh</td>\n",
       "      <td>3.290.000 Đ</td>\n",
       "    </tr>\n",
       "    <tr>\n",
       "      <th>...</th>\n",
       "      <td>...</td>\n",
       "      <td>...</td>\n",
       "      <td>...</td>\n",
       "      <td>...</td>\n",
       "      <td>...</td>\n",
       "      <td>...</td>\n",
       "      <td>...</td>\n",
       "      <td>...</td>\n",
       "      <td>...</td>\n",
       "    </tr>\n",
       "    <tr>\n",
       "      <th>1786</th>\n",
       "      <td>Masstel HAPI 10 Fami</td>\n",
       "      <td>IPS LCD, 5\", HD</td>\n",
       "      <td>MediaTek MT6739 4 nhân</td>\n",
       "      <td>5 MP</td>\n",
       "      <td>5 MP</td>\n",
       "      <td>16 GB</td>\n",
       "      <td>2 GB</td>\n",
       "      <td>2000 mAh</td>\n",
       "      <td>1.070.000₫</td>\n",
       "    </tr>\n",
       "    <tr>\n",
       "      <th>1788</th>\n",
       "      <td>Itel Alpha Lite</td>\n",
       "      <td>TFT LCD, 5\", FWVGA</td>\n",
       "      <td>Spreadtrum SC7731E 4 nhân</td>\n",
       "      <td>5 MP</td>\n",
       "      <td>2 MP</td>\n",
       "      <td>8 GB</td>\n",
       "      <td>1 GB</td>\n",
       "      <td>2050 mAh</td>\n",
       "      <td>990.000₫</td>\n",
       "    </tr>\n",
       "    <tr>\n",
       "      <th>1789</th>\n",
       "      <td>Mobell P41</td>\n",
       "      <td>IPS LCD, 5.5\", FWVGA+</td>\n",
       "      <td>MediaTek MT6580A 4 nhân</td>\n",
       "      <td>5 MP</td>\n",
       "      <td>2 MP</td>\n",
       "      <td>8 GB</td>\n",
       "      <td>1 GB</td>\n",
       "      <td>3500 mAh</td>\n",
       "      <td>890.000₫</td>\n",
       "    </tr>\n",
       "    <tr>\n",
       "      <th>1790</th>\n",
       "      <td>Masstel X5 Fami</td>\n",
       "      <td>IPS LCD, 5.45\", HD+</td>\n",
       "      <td>Spreadtrum SC7731E 4 nhân</td>\n",
       "      <td>8 MP</td>\n",
       "      <td>5 MP</td>\n",
       "      <td>8 GB</td>\n",
       "      <td>1 GB</td>\n",
       "      <td>3200 mAh</td>\n",
       "      <td>890.000₫</td>\n",
       "    </tr>\n",
       "    <tr>\n",
       "      <th>1798</th>\n",
       "      <td>Mobell S41</td>\n",
       "      <td>LCD, 5\", FWVGA</td>\n",
       "      <td>MediaTek MT6580M 4 nhân</td>\n",
       "      <td>5 MP</td>\n",
       "      <td>2 MP</td>\n",
       "      <td>8 GB</td>\n",
       "      <td>1 GB</td>\n",
       "      <td>2200 mAh</td>\n",
       "      <td>590.000₫</td>\n",
       "    </tr>\n",
       "  </tbody>\n",
       "</table>\n",
       "<p>1518 rows × 9 columns</p>\n",
       "</div>"
      ],
      "text/plain": [
       "                                   Name                     Screen  \\\n",
       "0           Xiaomi POCO M3 - Chính hãng   IPS LCD, 6.53\", Full HD+   \n",
       "1       Oppo Reno5 8GB/128GB chính hãng            6,43 inch, OLED   \n",
       "2         Redmi Note 9 Pro 5G 6Gb/128Gb                              \n",
       "3          iPhone SE Cũ 16Gb Nguyên Bản        IPS LCD, 4.0\", DVGA   \n",
       "5     Oppo A15 3GB/32GB Hàng chính hãng        IPS LCD, 6.52\", HD+   \n",
       "...                                 ...                        ...   \n",
       "1786               Masstel HAPI 10 Fami            IPS LCD, 5\", HD   \n",
       "1788                    Itel Alpha Lite         TFT LCD, 5\", FWVGA   \n",
       "1789                         Mobell P41      IPS LCD, 5.5\", FWVGA+   \n",
       "1790                    Masstel X5 Fami        IPS LCD, 5.45\", HD+   \n",
       "1798                         Mobell S41             LCD, 5\", FWVGA   \n",
       "\n",
       "                                                    Cpu  \\\n",
       "0                                 Snapdragon 662 8 nhân   \n",
       "1                Qualcomm SM7125 Snapdragon 720G (8 nm)   \n",
       "2     Octa-core (2x2.2 GHz Kryo 570 & 6x1.8 GHz Kryo...   \n",
       "3                                              Apple A9   \n",
       "5                             MediaTek Helio P35 8 nhân   \n",
       "...                                                 ...   \n",
       "1786                             MediaTek MT6739 4 nhân   \n",
       "1788                          Spreadtrum SC7731E 4 nhân   \n",
       "1789                            MediaTek MT6580A 4 nhân   \n",
       "1790                          Spreadtrum SC7731E 4 nhân   \n",
       "1798                            MediaTek MT6580M 4 nhân   \n",
       "\n",
       "                              MainCamera SelfieCamera         Rom    Ram  \\\n",
       "0           Chính 48 MP & Phụ 2 MP, 2 MP          8MP   128/64 GB    4GB   \n",
       "1     Chính 64 MP & Phụ 8 MP, 2 MP, 2 MP         44MP      128 GB   8 GB   \n",
       "2                Chính 108MP+8MP+2MP+2MP         16MP      128 GB    6GB   \n",
       "3                                  12 MP       1.2 MP       16 GB   2 GB   \n",
       "5           Chính 13 MP & Phụ 2 MP, 2 MP          5MP       32 GB   3 GB   \n",
       "...                                  ...          ...         ...    ...   \n",
       "1786                                5 MP         5 MP       16 GB   2 GB   \n",
       "1788                                5 MP         2 MP        8 GB   1 GB   \n",
       "1789                                5 MP         2 MP        8 GB   1 GB   \n",
       "1790                                8 MP         5 MP        8 GB   1 GB   \n",
       "1798                                5 MP         2 MP        8 GB   1 GB   \n",
       "\n",
       "                            Pin        Price  \n",
       "0                       6000mAh  3.490.000 Đ  \n",
       "1     4.310 mAh + Sạc nhanh 50W  7.990.000 Đ  \n",
       "2                Li-Po 4820 mAh  6.390.000 Đ  \n",
       "3                Li-Po 1624 mAh  2.190.000 Đ  \n",
       "5                Li-Po 4230 mAh  3.290.000 Đ  \n",
       "...                         ...          ...  \n",
       "1786                   2000 mAh   1.070.000₫  \n",
       "1788                   2050 mAh     990.000₫  \n",
       "1789                   3500 mAh     890.000₫  \n",
       "1790                   3200 mAh     890.000₫  \n",
       "1798                   2200 mAh     590.000₫  \n",
       "\n",
       "[1518 rows x 9 columns]"
      ]
     },
     "execution_count": 9,
     "metadata": {},
     "output_type": "execute_result"
    }
   ],
   "source": [
    "df_pre"
   ]
  },
  {
   "cell_type": "markdown",
   "metadata": {},
   "source": [
    "- Chuyển dữ liệu thuộc tính Price sang dạng dùng để phân lớp."
   ]
  },
  {
   "cell_type": "code",
   "execution_count": 10,
   "metadata": {},
   "outputs": [],
   "source": [
    "for idx in df_pre.Price.index:\n",
    "    price = int(df_pre.Price[idx].replace('.','').replace('Đ','').replace('đ','').replace('₫','').replace(' ',''))\n",
    "    if price < 6000000:\n",
    "        df_pre['Price'][idx] = 1\n",
    "    elif price <10000000:\n",
    "        df_pre['Price'][idx] = 2\n",
    "    elif price < 18000000:\n",
    "        df_pre['Price'][idx] = 3\n",
    "    else:\n",
    "        df_pre['Price'][idx] = 4"
   ]
  },
  {
   "cell_type": "code",
   "execution_count": 11,
   "metadata": {},
   "outputs": [
    {
     "data": {
      "text/html": [
       "<div>\n",
       "<style scoped>\n",
       "    .dataframe tbody tr th:only-of-type {\n",
       "        vertical-align: middle;\n",
       "    }\n",
       "\n",
       "    .dataframe tbody tr th {\n",
       "        vertical-align: top;\n",
       "    }\n",
       "\n",
       "    .dataframe thead th {\n",
       "        text-align: right;\n",
       "    }\n",
       "</style>\n",
       "<table border=\"1\" class=\"dataframe\">\n",
       "  <thead>\n",
       "    <tr style=\"text-align: right;\">\n",
       "      <th></th>\n",
       "      <th>Name</th>\n",
       "      <th>Screen</th>\n",
       "      <th>Cpu</th>\n",
       "      <th>MainCamera</th>\n",
       "      <th>SelfieCamera</th>\n",
       "      <th>Rom</th>\n",
       "      <th>Ram</th>\n",
       "      <th>Pin</th>\n",
       "      <th>Price</th>\n",
       "    </tr>\n",
       "  </thead>\n",
       "  <tbody>\n",
       "    <tr>\n",
       "      <th>0</th>\n",
       "      <td>Xiaomi POCO M3 - Chính hãng</td>\n",
       "      <td>IPS LCD, 6.53\", Full HD+</td>\n",
       "      <td>Snapdragon 662 8 nhân</td>\n",
       "      <td>Chính 48 MP &amp; Phụ 2 MP, 2 MP</td>\n",
       "      <td>8MP</td>\n",
       "      <td>128/64 GB</td>\n",
       "      <td>4GB</td>\n",
       "      <td>6000mAh</td>\n",
       "      <td>1</td>\n",
       "    </tr>\n",
       "    <tr>\n",
       "      <th>1</th>\n",
       "      <td>Oppo Reno5 8GB/128GB chính hãng</td>\n",
       "      <td>6,43 inch, OLED</td>\n",
       "      <td>Qualcomm SM7125 Snapdragon 720G (8 nm)</td>\n",
       "      <td>Chính 64 MP &amp; Phụ 8 MP, 2 MP, 2 MP</td>\n",
       "      <td>44MP</td>\n",
       "      <td>128 GB</td>\n",
       "      <td>8 GB</td>\n",
       "      <td>4.310 mAh + Sạc nhanh 50W</td>\n",
       "      <td>2</td>\n",
       "    </tr>\n",
       "    <tr>\n",
       "      <th>2</th>\n",
       "      <td>Redmi Note 9 Pro 5G 6Gb/128Gb</td>\n",
       "      <td></td>\n",
       "      <td>Octa-core (2x2.2 GHz Kryo 570 &amp; 6x1.8 GHz Kryo...</td>\n",
       "      <td>Chính 108MP+8MP+2MP+2MP</td>\n",
       "      <td>16MP</td>\n",
       "      <td>128 GB</td>\n",
       "      <td>6GB</td>\n",
       "      <td>Li-Po 4820 mAh</td>\n",
       "      <td>2</td>\n",
       "    </tr>\n",
       "    <tr>\n",
       "      <th>3</th>\n",
       "      <td>iPhone SE Cũ 16Gb Nguyên Bản</td>\n",
       "      <td>IPS LCD, 4.0\", DVGA</td>\n",
       "      <td>Apple A9</td>\n",
       "      <td>12 MP</td>\n",
       "      <td>1.2 MP</td>\n",
       "      <td>16 GB</td>\n",
       "      <td>2 GB</td>\n",
       "      <td>Li-Po 1624 mAh</td>\n",
       "      <td>1</td>\n",
       "    </tr>\n",
       "    <tr>\n",
       "      <th>5</th>\n",
       "      <td>Oppo A15 3GB/32GB Hàng chính hãng</td>\n",
       "      <td>IPS LCD, 6.52\", HD+</td>\n",
       "      <td>MediaTek Helio P35 8 nhân</td>\n",
       "      <td>Chính 13 MP &amp; Phụ 2 MP, 2 MP</td>\n",
       "      <td>5MP</td>\n",
       "      <td>32 GB</td>\n",
       "      <td>3 GB</td>\n",
       "      <td>Li-Po 4230 mAh</td>\n",
       "      <td>1</td>\n",
       "    </tr>\n",
       "    <tr>\n",
       "      <th>...</th>\n",
       "      <td>...</td>\n",
       "      <td>...</td>\n",
       "      <td>...</td>\n",
       "      <td>...</td>\n",
       "      <td>...</td>\n",
       "      <td>...</td>\n",
       "      <td>...</td>\n",
       "      <td>...</td>\n",
       "      <td>...</td>\n",
       "    </tr>\n",
       "    <tr>\n",
       "      <th>1786</th>\n",
       "      <td>Masstel HAPI 10 Fami</td>\n",
       "      <td>IPS LCD, 5\", HD</td>\n",
       "      <td>MediaTek MT6739 4 nhân</td>\n",
       "      <td>5 MP</td>\n",
       "      <td>5 MP</td>\n",
       "      <td>16 GB</td>\n",
       "      <td>2 GB</td>\n",
       "      <td>2000 mAh</td>\n",
       "      <td>1</td>\n",
       "    </tr>\n",
       "    <tr>\n",
       "      <th>1788</th>\n",
       "      <td>Itel Alpha Lite</td>\n",
       "      <td>TFT LCD, 5\", FWVGA</td>\n",
       "      <td>Spreadtrum SC7731E 4 nhân</td>\n",
       "      <td>5 MP</td>\n",
       "      <td>2 MP</td>\n",
       "      <td>8 GB</td>\n",
       "      <td>1 GB</td>\n",
       "      <td>2050 mAh</td>\n",
       "      <td>1</td>\n",
       "    </tr>\n",
       "    <tr>\n",
       "      <th>1789</th>\n",
       "      <td>Mobell P41</td>\n",
       "      <td>IPS LCD, 5.5\", FWVGA+</td>\n",
       "      <td>MediaTek MT6580A 4 nhân</td>\n",
       "      <td>5 MP</td>\n",
       "      <td>2 MP</td>\n",
       "      <td>8 GB</td>\n",
       "      <td>1 GB</td>\n",
       "      <td>3500 mAh</td>\n",
       "      <td>1</td>\n",
       "    </tr>\n",
       "    <tr>\n",
       "      <th>1790</th>\n",
       "      <td>Masstel X5 Fami</td>\n",
       "      <td>IPS LCD, 5.45\", HD+</td>\n",
       "      <td>Spreadtrum SC7731E 4 nhân</td>\n",
       "      <td>8 MP</td>\n",
       "      <td>5 MP</td>\n",
       "      <td>8 GB</td>\n",
       "      <td>1 GB</td>\n",
       "      <td>3200 mAh</td>\n",
       "      <td>1</td>\n",
       "    </tr>\n",
       "    <tr>\n",
       "      <th>1798</th>\n",
       "      <td>Mobell S41</td>\n",
       "      <td>LCD, 5\", FWVGA</td>\n",
       "      <td>MediaTek MT6580M 4 nhân</td>\n",
       "      <td>5 MP</td>\n",
       "      <td>2 MP</td>\n",
       "      <td>8 GB</td>\n",
       "      <td>1 GB</td>\n",
       "      <td>2200 mAh</td>\n",
       "      <td>1</td>\n",
       "    </tr>\n",
       "  </tbody>\n",
       "</table>\n",
       "<p>1518 rows × 9 columns</p>\n",
       "</div>"
      ],
      "text/plain": [
       "                                   Name                     Screen  \\\n",
       "0           Xiaomi POCO M3 - Chính hãng   IPS LCD, 6.53\", Full HD+   \n",
       "1       Oppo Reno5 8GB/128GB chính hãng            6,43 inch, OLED   \n",
       "2         Redmi Note 9 Pro 5G 6Gb/128Gb                              \n",
       "3          iPhone SE Cũ 16Gb Nguyên Bản        IPS LCD, 4.0\", DVGA   \n",
       "5     Oppo A15 3GB/32GB Hàng chính hãng        IPS LCD, 6.52\", HD+   \n",
       "...                                 ...                        ...   \n",
       "1786               Masstel HAPI 10 Fami            IPS LCD, 5\", HD   \n",
       "1788                    Itel Alpha Lite         TFT LCD, 5\", FWVGA   \n",
       "1789                         Mobell P41      IPS LCD, 5.5\", FWVGA+   \n",
       "1790                    Masstel X5 Fami        IPS LCD, 5.45\", HD+   \n",
       "1798                         Mobell S41             LCD, 5\", FWVGA   \n",
       "\n",
       "                                                    Cpu  \\\n",
       "0                                 Snapdragon 662 8 nhân   \n",
       "1                Qualcomm SM7125 Snapdragon 720G (8 nm)   \n",
       "2     Octa-core (2x2.2 GHz Kryo 570 & 6x1.8 GHz Kryo...   \n",
       "3                                              Apple A9   \n",
       "5                             MediaTek Helio P35 8 nhân   \n",
       "...                                                 ...   \n",
       "1786                             MediaTek MT6739 4 nhân   \n",
       "1788                          Spreadtrum SC7731E 4 nhân   \n",
       "1789                            MediaTek MT6580A 4 nhân   \n",
       "1790                          Spreadtrum SC7731E 4 nhân   \n",
       "1798                            MediaTek MT6580M 4 nhân   \n",
       "\n",
       "                              MainCamera SelfieCamera         Rom    Ram  \\\n",
       "0           Chính 48 MP & Phụ 2 MP, 2 MP          8MP   128/64 GB    4GB   \n",
       "1     Chính 64 MP & Phụ 8 MP, 2 MP, 2 MP         44MP      128 GB   8 GB   \n",
       "2                Chính 108MP+8MP+2MP+2MP         16MP      128 GB    6GB   \n",
       "3                                  12 MP       1.2 MP       16 GB   2 GB   \n",
       "5           Chính 13 MP & Phụ 2 MP, 2 MP          5MP       32 GB   3 GB   \n",
       "...                                  ...          ...         ...    ...   \n",
       "1786                                5 MP         5 MP       16 GB   2 GB   \n",
       "1788                                5 MP         2 MP        8 GB   1 GB   \n",
       "1789                                5 MP         2 MP        8 GB   1 GB   \n",
       "1790                                8 MP         5 MP        8 GB   1 GB   \n",
       "1798                                5 MP         2 MP        8 GB   1 GB   \n",
       "\n",
       "                            Pin Price  \n",
       "0                       6000mAh     1  \n",
       "1     4.310 mAh + Sạc nhanh 50W     2  \n",
       "2                Li-Po 4820 mAh     2  \n",
       "3                Li-Po 1624 mAh     1  \n",
       "5                Li-Po 4230 mAh     1  \n",
       "...                         ...   ...  \n",
       "1786                   2000 mAh     1  \n",
       "1788                   2050 mAh     1  \n",
       "1789                   3500 mAh     1  \n",
       "1790                   3200 mAh     1  \n",
       "1798                   2200 mAh     1  \n",
       "\n",
       "[1518 rows x 9 columns]"
      ]
     },
     "execution_count": 11,
     "metadata": {},
     "output_type": "execute_result"
    }
   ],
   "source": [
    "df_pre"
   ]
  },
  {
   "cell_type": "code",
   "execution_count": 12,
   "metadata": {},
   "outputs": [],
   "source": [
    "# Tiếp theo lưu dataframe và 1 file csv có tên là phone_data.csv để làm tiếp giai đoạn mô hình hóa và dự đoán.\n",
    "export_csv = df_pre.to_csv ('phone_data.csv', index = None, header=True)"
   ]
  },
  {
   "cell_type": "markdown",
   "metadata": {},
   "source": [
    "# Tiền xử lí và mô hình hóa"
   ]
  },
  {
   "cell_type": "markdown",
   "metadata": {},
   "source": [
    "### Đọc file dữ liệu."
   ]
  },
  {
   "cell_type": "code",
   "execution_count": 2,
   "metadata": {
    "scrolled": false
   },
   "outputs": [
    {
     "data": {
      "text/html": [
       "<div>\n",
       "<style scoped>\n",
       "    .dataframe tbody tr th:only-of-type {\n",
       "        vertical-align: middle;\n",
       "    }\n",
       "\n",
       "    .dataframe tbody tr th {\n",
       "        vertical-align: top;\n",
       "    }\n",
       "\n",
       "    .dataframe thead th {\n",
       "        text-align: right;\n",
       "    }\n",
       "</style>\n",
       "<table border=\"1\" class=\"dataframe\">\n",
       "  <thead>\n",
       "    <tr style=\"text-align: right;\">\n",
       "      <th></th>\n",
       "      <th>Name</th>\n",
       "      <th>Screen</th>\n",
       "      <th>Cpu</th>\n",
       "      <th>MainCamera</th>\n",
       "      <th>SelfieCamera</th>\n",
       "      <th>Rom</th>\n",
       "      <th>Ram</th>\n",
       "      <th>Pin</th>\n",
       "      <th>Price</th>\n",
       "    </tr>\n",
       "  </thead>\n",
       "  <tbody>\n",
       "    <tr>\n",
       "      <th>0</th>\n",
       "      <td>Xiaomi POCO M3 - Chính hãng</td>\n",
       "      <td>IPS LCD, 6.53\", Full HD+</td>\n",
       "      <td>Snapdragon 662 8 nhân</td>\n",
       "      <td>Chính 48 MP &amp; Phụ 2 MP, 2 MP</td>\n",
       "      <td>8MP</td>\n",
       "      <td>128/64 GB</td>\n",
       "      <td>4GB</td>\n",
       "      <td>6000mAh</td>\n",
       "      <td>1</td>\n",
       "    </tr>\n",
       "    <tr>\n",
       "      <th>1</th>\n",
       "      <td>Oppo Reno5 8GB/128GB chính hãng</td>\n",
       "      <td>6,43 inch, OLED</td>\n",
       "      <td>Qualcomm SM7125 Snapdragon 720G (8 nm)</td>\n",
       "      <td>Chính 64 MP &amp; Phụ 8 MP, 2 MP, 2 MP</td>\n",
       "      <td>44MP</td>\n",
       "      <td>128 GB</td>\n",
       "      <td>8 GB</td>\n",
       "      <td>4.310 mAh + Sạc nhanh 50W</td>\n",
       "      <td>2</td>\n",
       "    </tr>\n",
       "    <tr>\n",
       "      <th>2</th>\n",
       "      <td>Redmi Note 9 Pro 5G 6Gb/128Gb</td>\n",
       "      <td></td>\n",
       "      <td>Octa-core (2x2.2 GHz Kryo 570 &amp; 6x1.8 GHz Kryo...</td>\n",
       "      <td>Chính 108MP+8MP+2MP+2MP</td>\n",
       "      <td>16MP</td>\n",
       "      <td>128 GB</td>\n",
       "      <td>6GB</td>\n",
       "      <td>Li-Po 4820 mAh</td>\n",
       "      <td>2</td>\n",
       "    </tr>\n",
       "    <tr>\n",
       "      <th>3</th>\n",
       "      <td>iPhone SE Cũ 16Gb Nguyên Bản</td>\n",
       "      <td>IPS LCD, 4.0\", DVGA</td>\n",
       "      <td>Apple A9</td>\n",
       "      <td>12 MP</td>\n",
       "      <td>1.2 MP</td>\n",
       "      <td>16 GB</td>\n",
       "      <td>2 GB</td>\n",
       "      <td>Li-Po 1624 mAh</td>\n",
       "      <td>1</td>\n",
       "    </tr>\n",
       "    <tr>\n",
       "      <th>4</th>\n",
       "      <td>Oppo A15 3GB/32GB Hàng chính hãng</td>\n",
       "      <td>IPS LCD, 6.52\", HD+</td>\n",
       "      <td>MediaTek Helio P35 8 nhân</td>\n",
       "      <td>Chính 13 MP &amp; Phụ 2 MP, 2 MP</td>\n",
       "      <td>5MP</td>\n",
       "      <td>32 GB</td>\n",
       "      <td>3 GB</td>\n",
       "      <td>Li-Po 4230 mAh</td>\n",
       "      <td>1</td>\n",
       "    </tr>\n",
       "    <tr>\n",
       "      <th>...</th>\n",
       "      <td>...</td>\n",
       "      <td>...</td>\n",
       "      <td>...</td>\n",
       "      <td>...</td>\n",
       "      <td>...</td>\n",
       "      <td>...</td>\n",
       "      <td>...</td>\n",
       "      <td>...</td>\n",
       "      <td>...</td>\n",
       "    </tr>\n",
       "    <tr>\n",
       "      <th>1513</th>\n",
       "      <td>Masstel HAPI 10 Fami</td>\n",
       "      <td>IPS LCD, 5\", HD</td>\n",
       "      <td>MediaTek MT6739 4 nhân</td>\n",
       "      <td>5 MP</td>\n",
       "      <td>5 MP</td>\n",
       "      <td>16 GB</td>\n",
       "      <td>2 GB</td>\n",
       "      <td>2000 mAh</td>\n",
       "      <td>1</td>\n",
       "    </tr>\n",
       "    <tr>\n",
       "      <th>1514</th>\n",
       "      <td>Itel Alpha Lite</td>\n",
       "      <td>TFT LCD, 5\", FWVGA</td>\n",
       "      <td>Spreadtrum SC7731E 4 nhân</td>\n",
       "      <td>5 MP</td>\n",
       "      <td>2 MP</td>\n",
       "      <td>8 GB</td>\n",
       "      <td>1 GB</td>\n",
       "      <td>2050 mAh</td>\n",
       "      <td>1</td>\n",
       "    </tr>\n",
       "    <tr>\n",
       "      <th>1515</th>\n",
       "      <td>Mobell P41</td>\n",
       "      <td>IPS LCD, 5.5\", FWVGA+</td>\n",
       "      <td>MediaTek MT6580A 4 nhân</td>\n",
       "      <td>5 MP</td>\n",
       "      <td>2 MP</td>\n",
       "      <td>8 GB</td>\n",
       "      <td>1 GB</td>\n",
       "      <td>3500 mAh</td>\n",
       "      <td>1</td>\n",
       "    </tr>\n",
       "    <tr>\n",
       "      <th>1516</th>\n",
       "      <td>Masstel X5 Fami</td>\n",
       "      <td>IPS LCD, 5.45\", HD+</td>\n",
       "      <td>Spreadtrum SC7731E 4 nhân</td>\n",
       "      <td>8 MP</td>\n",
       "      <td>5 MP</td>\n",
       "      <td>8 GB</td>\n",
       "      <td>1 GB</td>\n",
       "      <td>3200 mAh</td>\n",
       "      <td>1</td>\n",
       "    </tr>\n",
       "    <tr>\n",
       "      <th>1517</th>\n",
       "      <td>Mobell S41</td>\n",
       "      <td>LCD, 5\", FWVGA</td>\n",
       "      <td>MediaTek MT6580M 4 nhân</td>\n",
       "      <td>5 MP</td>\n",
       "      <td>2 MP</td>\n",
       "      <td>8 GB</td>\n",
       "      <td>1 GB</td>\n",
       "      <td>2200 mAh</td>\n",
       "      <td>1</td>\n",
       "    </tr>\n",
       "  </tbody>\n",
       "</table>\n",
       "<p>1518 rows × 9 columns</p>\n",
       "</div>"
      ],
      "text/plain": [
       "                                   Name                     Screen  \\\n",
       "0           Xiaomi POCO M3 - Chính hãng   IPS LCD, 6.53\", Full HD+   \n",
       "1       Oppo Reno5 8GB/128GB chính hãng            6,43 inch, OLED   \n",
       "2         Redmi Note 9 Pro 5G 6Gb/128Gb                              \n",
       "3          iPhone SE Cũ 16Gb Nguyên Bản        IPS LCD, 4.0\", DVGA   \n",
       "4     Oppo A15 3GB/32GB Hàng chính hãng        IPS LCD, 6.52\", HD+   \n",
       "...                                 ...                        ...   \n",
       "1513               Masstel HAPI 10 Fami            IPS LCD, 5\", HD   \n",
       "1514                    Itel Alpha Lite         TFT LCD, 5\", FWVGA   \n",
       "1515                         Mobell P41      IPS LCD, 5.5\", FWVGA+   \n",
       "1516                    Masstel X5 Fami        IPS LCD, 5.45\", HD+   \n",
       "1517                         Mobell S41             LCD, 5\", FWVGA   \n",
       "\n",
       "                                                    Cpu  \\\n",
       "0                                 Snapdragon 662 8 nhân   \n",
       "1                Qualcomm SM7125 Snapdragon 720G (8 nm)   \n",
       "2     Octa-core (2x2.2 GHz Kryo 570 & 6x1.8 GHz Kryo...   \n",
       "3                                              Apple A9   \n",
       "4                             MediaTek Helio P35 8 nhân   \n",
       "...                                                 ...   \n",
       "1513                             MediaTek MT6739 4 nhân   \n",
       "1514                          Spreadtrum SC7731E 4 nhân   \n",
       "1515                            MediaTek MT6580A 4 nhân   \n",
       "1516                          Spreadtrum SC7731E 4 nhân   \n",
       "1517                            MediaTek MT6580M 4 nhân   \n",
       "\n",
       "                              MainCamera SelfieCamera         Rom    Ram  \\\n",
       "0           Chính 48 MP & Phụ 2 MP, 2 MP          8MP   128/64 GB    4GB   \n",
       "1     Chính 64 MP & Phụ 8 MP, 2 MP, 2 MP         44MP      128 GB   8 GB   \n",
       "2                Chính 108MP+8MP+2MP+2MP         16MP      128 GB    6GB   \n",
       "3                                  12 MP       1.2 MP       16 GB   2 GB   \n",
       "4           Chính 13 MP & Phụ 2 MP, 2 MP          5MP       32 GB   3 GB   \n",
       "...                                  ...          ...         ...    ...   \n",
       "1513                                5 MP         5 MP       16 GB   2 GB   \n",
       "1514                                5 MP         2 MP        8 GB   1 GB   \n",
       "1515                                5 MP         2 MP        8 GB   1 GB   \n",
       "1516                                8 MP         5 MP        8 GB   1 GB   \n",
       "1517                                5 MP         2 MP        8 GB   1 GB   \n",
       "\n",
       "                            Pin  Price  \n",
       "0                       6000mAh      1  \n",
       "1     4.310 mAh + Sạc nhanh 50W      2  \n",
       "2                Li-Po 4820 mAh      2  \n",
       "3                Li-Po 1624 mAh      1  \n",
       "4                Li-Po 4230 mAh      1  \n",
       "...                         ...    ...  \n",
       "1513                   2000 mAh      1  \n",
       "1514                   2050 mAh      1  \n",
       "1515                   3500 mAh      1  \n",
       "1516                   3200 mAh      1  \n",
       "1517                   2200 mAh      1  \n",
       "\n",
       "[1518 rows x 9 columns]"
      ]
     },
     "execution_count": 2,
     "metadata": {},
     "output_type": "execute_result"
    }
   ],
   "source": [
    "data_df = pd.read_csv('phone_data.csv')\n",
    "data_df"
   ]
  },
  {
   "cell_type": "markdown",
   "metadata": {},
   "source": [
    "- Số lượng các giá trị thiếu trong dữ liệu"
   ]
  },
  {
   "cell_type": "code",
   "execution_count": 3,
   "metadata": {
    "scrolled": true
   },
   "outputs": [
    {
     "data": {
      "text/plain": [
       "(1518, 9)"
      ]
     },
     "execution_count": 3,
     "metadata": {},
     "output_type": "execute_result"
    }
   ],
   "source": [
    "data_df.shape"
   ]
  },
  {
   "cell_type": "markdown",
   "metadata": {},
   "source": [
    "### Tách các tập."
   ]
  },
  {
   "cell_type": "code",
   "execution_count": 4,
   "metadata": {},
   "outputs": [],
   "source": [
    "# Tách X và y\n",
    "y = data_df[\"Price\"]\n",
    "X = data_df.drop(\"Price\", axis=1)"
   ]
  },
  {
   "cell_type": "markdown",
   "metadata": {},
   "source": [
    "- Tách tập Train, Validation và Test với tỉ lệ 60:20:20"
   ]
  },
  {
   "cell_type": "code",
   "execution_count": 5,
   "metadata": {},
   "outputs": [],
   "source": [
    "# tách tập train(train và val) và tập test với tỉ lệ 80:20\n",
    "train_X, test_X, train_y, test_y = train_test_split(X, y, test_size=0.2, random_state=0)"
   ]
  },
  {
   "cell_type": "code",
   "execution_count": 6,
   "metadata": {},
   "outputs": [],
   "source": [
    "# từ tập train tách ra tập train và tập validation với tỉ lệ 75:25 để ứng với 60:20 ở tập dữ liệu ban đâu.\n",
    "tr_X, val_X, tr_y, val_y = train_test_split(train_X, train_y, test_size=0.25, random_state=0)"
   ]
  },
  {
   "cell_type": "code",
   "execution_count": 7,
   "metadata": {},
   "outputs": [
    {
     "data": {
      "text/plain": [
       "(910, 8)"
      ]
     },
     "execution_count": 7,
     "metadata": {},
     "output_type": "execute_result"
    }
   ],
   "source": [
    "# tập train( dùng để huấn luyện)\n",
    "tr_X.shape"
   ]
  },
  {
   "cell_type": "code",
   "execution_count": 8,
   "metadata": {},
   "outputs": [
    {
     "data": {
      "text/plain": [
       "(304, 8)"
      ]
     },
     "execution_count": 8,
     "metadata": {},
     "output_type": "execute_result"
    }
   ],
   "source": [
    "val_X.shape"
   ]
  },
  {
   "cell_type": "code",
   "execution_count": 9,
   "metadata": {},
   "outputs": [
    {
     "data": {
      "text/plain": [
       "(304, 8)"
      ]
     },
     "execution_count": 9,
     "metadata": {},
     "output_type": "execute_result"
    }
   ],
   "source": [
    "test_X.shape"
   ]
  },
  {
   "cell_type": "markdown",
   "metadata": {},
   "source": [
    "### Tiền xử lí"
   ]
  },
  {
   "cell_type": "markdown",
   "metadata": {},
   "source": [
    "- Class ColAdderDropper sẽ xử lý thuộc tính Name của dữ liệu, thay thế thuộc tính Name bằng thuốc tính Phone_Maker, chỉ ra rằng giá trị của thuộc tính này là hãng điện thoại."
   ]
  },
  {
   "cell_type": "code",
   "execution_count": 10,
   "metadata": {},
   "outputs": [],
   "source": [
    "# xóa cột Name và thêm cột Phone Maker, xóa cột Cpu\n",
    "class ColAdderDropper(BaseEstimator, TransformerMixin):\n",
    "    def __init__(self, num_top_pmakers=1):\n",
    "        self.num_top_pmakers = num_top_pmakers\n",
    "    def fit(self, tr_X, y=None):\n",
    "        pmakers_col = pd.Series([name.split()[0].upper() for name in tr_X.Name])\n",
    "        self.pmaker_counts_ = pmakers_col.value_counts()\n",
    "        pmakers = list(self.pmaker_counts_.index)\n",
    "        self.top_pmakers_ = pmakers[:max(1, min(self.num_top_pmakers, len(pmakers)))]\n",
    "        return self\n",
    "    def transform(self, X_df, y=None):\n",
    "        name = X_df.Name\n",
    "        df = X_df.drop([\"Cpu\",\"Name\"], axis = 1)\n",
    "        Pmakers = []\n",
    "        for val in name:\n",
    "            pmaker = 'OTHERS'\n",
    "            for p in self.top_pmakers_:\n",
    "                if p in val.upper():\n",
    "                    pmaker = p\n",
    "                    break\n",
    "            Pmakers.append(pmaker)\n",
    "        df['PhoneMaker'] = pd.Series(Pmakers, index = df.index)\n",
    "        return df"
   ]
  },
  {
   "cell_type": "markdown",
   "metadata": {},
   "source": [
    "- Xem số lượng các hãng sản xuất điện thoại phổ biến nhất ở Việt Nam."
   ]
  },
  {
   "cell_type": "code",
   "execution_count": 11,
   "metadata": {
    "scrolled": true
   },
   "outputs": [
    {
     "name": "stdout",
     "output_type": "stream",
     "text": [
      "XIAOMI        169\n",
      "SAMSUNG       136\n",
      "IPHONE        121\n",
      "OPPO           79\n",
      "VIVO           55\n",
      "VSMART         50\n",
      "REALME         36\n",
      "SONY           32\n",
      "HTC            23\n",
      "BLACKBERRY     22\n",
      "ASUS           22\n",
      "LENOVO         17\n",
      "NOKIA          17\n",
      "PHILIPS        16\n",
      "SKY            14\n",
      "LG             12\n",
      "HUAWEI         10\n",
      "GIONEE         10\n",
      "MOTOROLA        9\n",
      "SHARP           8\n",
      "MASSGO          5\n",
      "NOMI            4\n",
      "ONEPLUS         4\n",
      "KYOCERA         4\n",
      "WIKO            4\n",
      "ITEL            3\n",
      "MEIZU           3\n",
      "GOOGLE          2\n",
      "ĐIỆN            2\n",
      "INFINIX         2\n",
      "OBI             2\n",
      "INFOCUS         2\n",
      "TECNO           2\n",
      "MASSTEL         2\n",
      "NUBIA           2\n",
      "REDMI           1\n",
      "PHILIP          1\n",
      "HP              1\n",
      "WMOBILE         1\n",
      "PANTECH         1\n",
      "MÁY             1\n",
      "BPHONE          1\n",
      "W               1\n",
      "ANOKA           1\n",
      "dtype: int64\n",
      "\n",
      "['XIAOMI', 'SAMSUNG', 'IPHONE', 'OPPO', 'VIVO', 'VSMART', 'REALME', 'SONY', 'HTC', 'BLACKBERRY']\n"
     ]
    }
   ],
   "source": [
    "col_adderdropper = ColAdderDropper(num_top_pmakers=10)\n",
    "col_adderdropper.fit(tr_X)\n",
    "print(col_adderdropper.pmaker_counts_)\n",
    "print()\n",
    "print(col_adderdropper.top_pmakers_)"
   ]
  },
  {
   "cell_type": "code",
   "execution_count": 12,
   "metadata": {
    "scrolled": false
   },
   "outputs": [
    {
     "data": {
      "text/html": [
       "<div>\n",
       "<style scoped>\n",
       "    .dataframe tbody tr th:only-of-type {\n",
       "        vertical-align: middle;\n",
       "    }\n",
       "\n",
       "    .dataframe tbody tr th {\n",
       "        vertical-align: top;\n",
       "    }\n",
       "\n",
       "    .dataframe thead th {\n",
       "        text-align: right;\n",
       "    }\n",
       "</style>\n",
       "<table border=\"1\" class=\"dataframe\">\n",
       "  <thead>\n",
       "    <tr style=\"text-align: right;\">\n",
       "      <th></th>\n",
       "      <th>Screen</th>\n",
       "      <th>MainCamera</th>\n",
       "      <th>SelfieCamera</th>\n",
       "      <th>Rom</th>\n",
       "      <th>Ram</th>\n",
       "      <th>Pin</th>\n",
       "      <th>PhoneMaker</th>\n",
       "    </tr>\n",
       "  </thead>\n",
       "  <tbody>\n",
       "    <tr>\n",
       "      <th>1052</th>\n",
       "      <td>5.5 inches, 82.6 cm2</td>\n",
       "      <td>16 MP</td>\n",
       "      <td>5.0 MP</td>\n",
       "      <td>16/32 GB</td>\n",
       "      <td>2 GB</td>\n",
       "      <td>bản Helio x10 pin 4000 mAh</td>\n",
       "      <td>XIAOMI</td>\n",
       "    </tr>\n",
       "    <tr>\n",
       "      <th>854</th>\n",
       "      <td>IPS LCD, 5.2\", Full HD</td>\n",
       "      <td>13 MP</td>\n",
       "      <td>2.1 MP</td>\n",
       "      <td>16/32 GB</td>\n",
       "      <td>2 GB</td>\n",
       "      <td>Li-Ion 3000 mAh</td>\n",
       "      <td>OTHERS</td>\n",
       "    </tr>\n",
       "    <tr>\n",
       "      <th>92</th>\n",
       "      <td>6.55 inches, 103.6 cm2</td>\n",
       "      <td>1080p@30fps</td>\n",
       "      <td>1080p@30fps</td>\n",
       "      <td>32/64GB</td>\n",
       "      <td>3GB</td>\n",
       "      <td>Non-removable Li-Po 5000 mAh battery</td>\n",
       "      <td>SAMSUNG</td>\n",
       "    </tr>\n",
       "    <tr>\n",
       "      <th>787</th>\n",
       "      <td>IPS LCD, 5.0\", HD</td>\n",
       "      <td>8.0 MP</td>\n",
       "      <td>2.0 MP</td>\n",
       "      <td>8 GB</td>\n",
       "      <td>1 GB</td>\n",
       "      <td>Li-Ion 2040 mAh</td>\n",
       "      <td>OTHERS</td>\n",
       "    </tr>\n",
       "    <tr>\n",
       "      <th>923</th>\n",
       "      <td>IPS LCD, 5.2\", Full HD</td>\n",
       "      <td>20.7 MP</td>\n",
       "      <td>5.0 MP</td>\n",
       "      <td>32/64 GB</td>\n",
       "      <td>3 GB</td>\n",
       "      <td>Li-Ion 2930 mAh</td>\n",
       "      <td>SONY</td>\n",
       "    </tr>\n",
       "    <tr>\n",
       "      <th>...</th>\n",
       "      <td>...</td>\n",
       "      <td>...</td>\n",
       "      <td>...</td>\n",
       "      <td>...</td>\n",
       "      <td>...</td>\n",
       "      <td>...</td>\n",
       "      <td>...</td>\n",
       "    </tr>\n",
       "    <tr>\n",
       "      <th>1513</th>\n",
       "      <td>IPS LCD, 5\", HD</td>\n",
       "      <td>5 MP</td>\n",
       "      <td>5 MP</td>\n",
       "      <td>16 GB</td>\n",
       "      <td>2 GB</td>\n",
       "      <td>2000 mAh</td>\n",
       "      <td>OTHERS</td>\n",
       "    </tr>\n",
       "    <tr>\n",
       "      <th>702</th>\n",
       "      <td>IPS LCD, 6.0\", Full HD</td>\n",
       "      <td>13 MP</td>\n",
       "      <td>5.0 MP</td>\n",
       "      <td>16 GB</td>\n",
       "      <td>2 GB</td>\n",
       "      <td>Li-Po 4500 mAh</td>\n",
       "      <td>OTHERS</td>\n",
       "    </tr>\n",
       "    <tr>\n",
       "      <th>1009</th>\n",
       "      <td>IPS LCD, 5.0\", Full HD</td>\n",
       "      <td>13 MP</td>\n",
       "      <td>5.0 MP</td>\n",
       "      <td>128/16/64 GB</td>\n",
       "      <td>3 GB</td>\n",
       "      <td>Li-Po 3000 mAh</td>\n",
       "      <td>OTHERS</td>\n",
       "    </tr>\n",
       "    <tr>\n",
       "      <th>306</th>\n",
       "      <td>6.53 inches, 103.6 cm2 (~90.9% screen-to-body...</td>\n",
       "      <td>48MP + 5MP</td>\n",
       "      <td>16 MP</td>\n",
       "      <td>128 GB</td>\n",
       "      <td>6GB</td>\n",
       "      <td>Non-removable Li-Po 4000 mAh battery</td>\n",
       "      <td>OPPO</td>\n",
       "    </tr>\n",
       "    <tr>\n",
       "      <th>396</th>\n",
       "      <td>6,4 inches, Super AMOLED</td>\n",
       "      <td>Tripple 48 MP, f/1.8, 1/2\", 0.8µm, PDAF 12 MP,...</td>\n",
       "      <td>24 MP</td>\n",
       "      <td>64 GB</td>\n",
       "      <td>6 GB</td>\n",
       "      <td>Non-removable Li-Po 3300 mAh battery</td>\n",
       "      <td>XIAOMI</td>\n",
       "    </tr>\n",
       "  </tbody>\n",
       "</table>\n",
       "<p>910 rows × 7 columns</p>\n",
       "</div>"
      ],
      "text/plain": [
       "                                                 Screen  \\\n",
       "1052                               5.5 inches, 82.6 cm2   \n",
       "854                              IPS LCD, 5.2\", Full HD   \n",
       "92                               6.55 inches, 103.6 cm2   \n",
       "787                                   IPS LCD, 5.0\", HD   \n",
       "923                              IPS LCD, 5.2\", Full HD   \n",
       "...                                                 ...   \n",
       "1513                                    IPS LCD, 5\", HD   \n",
       "702                              IPS LCD, 6.0\", Full HD   \n",
       "1009                             IPS LCD, 5.0\", Full HD   \n",
       "306    6.53 inches, 103.6 cm2 (~90.9% screen-to-body...   \n",
       "396                            6,4 inches, Super AMOLED   \n",
       "\n",
       "                                             MainCamera SelfieCamera  \\\n",
       "1052                                              16 MP       5.0 MP   \n",
       "854                                               13 MP       2.1 MP   \n",
       "92                                          1080p@30fps  1080p@30fps   \n",
       "787                                              8.0 MP       2.0 MP   \n",
       "923                                             20.7 MP       5.0 MP   \n",
       "...                                                 ...          ...   \n",
       "1513                                               5 MP         5 MP   \n",
       "702                                               13 MP       5.0 MP   \n",
       "1009                                              13 MP       5.0 MP   \n",
       "306                                          48MP + 5MP        16 MP   \n",
       "396   Tripple 48 MP, f/1.8, 1/2\", 0.8µm, PDAF 12 MP,...        24 MP   \n",
       "\n",
       "                Rom    Ram                                   Pin PhoneMaker  \n",
       "1052       16/32 GB   2 GB            bản Helio x10 pin 4000 mAh     XIAOMI  \n",
       "854        16/32 GB   2 GB                       Li-Ion 3000 mAh     OTHERS  \n",
       "92          32/64GB    3GB  Non-removable Li-Po 5000 mAh battery    SAMSUNG  \n",
       "787            8 GB   1 GB                       Li-Ion 2040 mAh     OTHERS  \n",
       "923        32/64 GB   3 GB                       Li-Ion 2930 mAh       SONY  \n",
       "...             ...    ...                                   ...        ...  \n",
       "1513          16 GB   2 GB                              2000 mAh     OTHERS  \n",
       "702           16 GB   2 GB                        Li-Po 4500 mAh     OTHERS  \n",
       "1009   128/16/64 GB   3 GB                        Li-Po 3000 mAh     OTHERS  \n",
       "306          128 GB    6GB  Non-removable Li-Po 4000 mAh battery       OPPO  \n",
       "396           64 GB   6 GB  Non-removable Li-Po 3300 mAh battery     XIAOMI  \n",
       "\n",
       "[910 rows x 7 columns]"
      ]
     },
     "execution_count": 12,
     "metadata": {},
     "output_type": "execute_result"
    }
   ],
   "source": [
    "col_adderdropper.transform(tr_X)"
   ]
  },
  {
   "cell_type": "markdown",
   "metadata": {},
   "source": [
    "- Tiền xử lý dữ liệu Camere, Ram, Rom, Pin: Tạo một Class EncodingString thực hiện việc tiền xử lý này."
   ]
  },
  {
   "cell_type": "code",
   "execution_count": 13,
   "metadata": {
    "scrolled": true
   },
   "outputs": [],
   "source": [
    "# chuyển giá trị màn hình từ chuỗi sang số theo kích thước màn hình lọc được từ thông số màn hình.\n",
    "# Camera trước và Selfie camera lấy theo giá trị camera chính.\n",
    "\n",
    "class EncodingString(BaseEstimator, TransformerMixin):\n",
    "    def __init__(self, cols = None):\n",
    "        self. cols = cols\n",
    "    def fit(self,X_df,y =None):\n",
    "        encode = []\n",
    "        for col in self.cols:\n",
    "            encode.append((col,X_df[col].str.extract(r'([0-9][0-9][0-9][0-9]|[0-9][0-9][0-9]|[0-9][0-9]|[0-9][.,][0-9]|[0-9])', expand=False).str.replace(',','.')))\n",
    "        self.encode = dict(encode)\n",
    "        return self\n",
    "    def transform(self, X_df, y=None):\n",
    "        df = X_df.drop(self.cols, axis = 1)\n",
    "        for col in self.cols:\n",
    "            df[col] = pd.Series(pd.to_numeric(self.encode[col]), index = df.index)\n",
    "        return df"
   ]
  },
  {
   "cell_type": "markdown",
   "metadata": {},
   "source": [
    "### Tạo một pipeline dùng để gộp tất cả các quá trình tiền xử lý.\n",
    "- tạo một pipeline có tên là preprocess_pipeline gộp các quá trình : \n",
    "    1. Xóa thuộc tính Cpu, chuyển đổi tên điện thoại thành hãng điện thoại ( ColAdderDropper).\n",
    "    2. Chuyển dữ liệu dạng string sang dạng số ( EncodingString).\n",
    "    3. Các phương pháp xử lý dữ liệu sau:\n",
    "        + Xử lý dữ liệu thiếu: dùng SimpleImputer của Sklearn để điền gía trị thiếu bằng mean đối với các cột dữ liệu số ( num_cols), và mode đối với các cột không phải dạng số(cate_cols).\n",
    "        + Chuyển thành dạng số bằng phương pháp OneHotEncoder của Sklearn đối với các dữ liệu không phải dạng số.\n",
    "        + Cuối cùng là chuẩn hóa dữ liêu bằng StandardScaler của Sklearn"
   ]
  },
  {
   "cell_type": "code",
   "execution_count": 84,
   "metadata": {},
   "outputs": [],
   "source": [
    "num_cols = [\"Screen\",\"MainCamera\",\"SelfieCamera\",\"Rom\",\"Ram\",\"Pin\"]\n",
    "cate_cols=[\"PhoneMaker\"]\n",
    "\n",
    "preprocess=ColumnTransformer(\n",
    "    transformers=[\n",
    "        ('nume_cols',SimpleImputer(strategy='mean'),num_cols),\n",
    "        ('cate_cols',make_pipeline(\n",
    "            (SimpleImputer(strategy='most_frequent')),\n",
    "             (OneHotEncoder(handle_unknown='ignore',sparse=False))\n",
    "        )\n",
    "         ,cate_cols)]\n",
    ")\n",
    "\n",
    "preprocess_pipeline=Pipeline(steps=[\n",
    "    ('coladderdropper',ColAdderDropper(num_top_pmakers=4)),\n",
    "    ('encodingstring',EncodingString(cols = num_cols)),\n",
    "    ('preprocess',preprocess),\n",
    "    ('standardscaler',StandardScaler())\n",
    "\n",
    "]\n",
    ")"
   ]
  },
  {
   "cell_type": "code",
   "execution_count": 85,
   "metadata": {
    "scrolled": false
   },
   "outputs": [
    {
     "data": {
      "text/plain": [
       "array([[-0.18370752, -0.17058781, -0.1782522 , ..., -0.89553347,\n",
       "        -0.41917848,  2.09394732],\n",
       "       [-0.18523117, -0.23972373, -0.23533689, ...,  1.11665285,\n",
       "        -0.41917848, -0.47756693],\n",
       "       [-0.17862867, 24.34961666, 20.98245173, ..., -0.89553347,\n",
       "         2.38561868, -0.47756693],\n",
       "       ...,\n",
       "       [-0.18624694, -0.23972373, -0.1782522 , ...,  1.11665285,\n",
       "        -0.41917848, -0.47756693],\n",
       "       [-0.17862867,  0.56686195,  0.03827594, ..., -0.89553347,\n",
       "        -0.41917848, -0.47756693],\n",
       "       [-0.17913656,  0.56686195,  0.19575094, ..., -0.89553347,\n",
       "        -0.41917848,  2.09394732]])"
      ]
     },
     "execution_count": 85,
     "metadata": {},
     "output_type": "execute_result"
    }
   ],
   "source": [
    "preprocess_pipeline.fit_transform(tr_X)"
   ]
  },
  {
   "cell_type": "code",
   "execution_count": 86,
   "metadata": {},
   "outputs": [
    {
     "data": {
      "text/plain": [
       "array([[-0.18370752, -0.17058781, -0.1782522 , ..., -0.89553347,\n",
       "        -0.41917848,  2.09394732],\n",
       "       [-0.18523117, -0.23972373, -0.23533689, ...,  1.11665285,\n",
       "        -0.41917848, -0.47756693],\n",
       "       [-0.17862867, 24.34961666, 20.98245173, ..., -0.89553347,\n",
       "         2.38561868, -0.47756693],\n",
       "       ...,\n",
       "       [-0.18624694, -0.23972373, -0.1782522 , ...,  1.11665285,\n",
       "        -0.41917848, -0.47756693],\n",
       "       [-0.17862867,  0.56686195,  0.03827594, ..., -0.89553347,\n",
       "        -0.41917848, -0.47756693],\n",
       "       [-0.17913656,  0.56686195,  0.19575094, ..., -0.89553347,\n",
       "        -0.41917848,  2.09394732]])"
      ]
     },
     "execution_count": 86,
     "metadata": {},
     "output_type": "execute_result"
    }
   ],
   "source": [
    "preprocess_pipeline.transform(tr_X)"
   ]
  },
  {
   "cell_type": "markdown",
   "metadata": {},
   "source": [
    "### Dự đoán mức giá bằng mô hình MLPClassifier\n",
    "- Tạo một pipeline có tên là: full_pipeline_mlpclassifier để thực hiện phân lớp bằng mô hình MLPClassifier của scikit-learn"
   ]
  },
  {
   "cell_type": "code",
   "execution_count": 87,
   "metadata": {},
   "outputs": [],
   "source": [
    "full_pipeline_mlpclassifier = make_pipeline(\n",
    "    (preprocess_pipeline),\n",
    "    (MLPClassifier(hidden_layer_sizes=(20,20),activation= 'tanh', solver='lbfgs', random_state=0, max_iter=15000))\n",
    "\n",
    ")"
   ]
  },
  {
   "cell_type": "markdown",
   "metadata": {},
   "source": [
    "- Tìm mô hình tốt nhất: Cho nhiều giá trị alpha, và nhiều giá trị num_top_pmakes để thử mô hình, từ đó chọn ra các giá trị best_alpha và best_num_top_pmakers để xây dựng mô hình và dự đoán trên tập test.\n",
    "  "
   ]
  },
  {
   "cell_type": "code",
   "execution_count": 88,
   "metadata": {},
   "outputs": [
    {
     "data": {
      "text/plain": [
       "'Finish!'"
      ]
     },
     "execution_count": 88,
     "metadata": {},
     "output_type": "execute_result"
    }
   ],
   "source": [
    "train_errs = []\n",
    "val_errs = []\n",
    "\n",
    "alphas = [1, 2, 5, 10, 100, 500, 1000]\n",
    "num_top_pmakers_s = [1, 3, 5, 6, 8,10,12]\n",
    "\n",
    "best_val_err = float('inf')\n",
    "best_alpha = None\n",
    "best_num_top_pmakers = None\n",
    "\n",
    "for alpha in alphas:\n",
    "    for num_top_pmakers in num_top_pmakers_s:\n",
    "        full_pipeline_mlpclassifier.set_params(pipeline__coladderdropper__num_top_pmakers=num_top_pmakers,mlpclassifier__alpha = alpha)\n",
    "        \n",
    "        s = full_pipeline_mlpclassifier.fit(tr_X,tr_y)\n",
    "\n",
    "        train_err = (1-s.score(tr_X,tr_y))*100\n",
    "        val_err = (1-s.score(val_X,val_y))*100\n",
    "\n",
    "        train_errs.append(train_err)\n",
    "        val_errs.append(val_err)\n",
    "        if val_err <= min(val_errs):\n",
    "            best_alpha = alpha\n",
    "            best_num_top_pmakers = num_top_pmakers\n",
    "best_val_err = min(val_errs)\n",
    "\n",
    "'Finish!'"
   ]
  },
  {
   "cell_type": "code",
   "execution_count": 89,
   "metadata": {
    "scrolled": false
   },
   "outputs": [
    {
     "name": "stdout",
     "output_type": "stream",
     "text": [
      "best_val_err:  34.86842105263158\n",
      "\n",
      "best_num_top_pmakers:  6\n",
      "\n",
      "best_alpha:  10\n"
     ]
    }
   ],
   "source": [
    "# Các giá trị tốt nhất của alpha và num_top_pmakers mà mô hình MLPClassifier chọn ra được. \n",
    "print('best_val_err: ', best_val_err)\n",
    "print()\n",
    "print('best_num_top_pmakers: ',best_num_top_pmakers)\n",
    "print()\n",
    "print('best_alpha: ',best_alpha)"
   ]
  },
  {
   "cell_type": "code",
   "execution_count": 90,
   "metadata": {},
   "outputs": [
    {
     "data": {
      "image/png": "[encoded data removed]",
      "text/plain": [
       "<Figure size 720x360 with 2 Axes>"
      ]
     },
     "metadata": {
      "needs_background": "light"
     },
     "output_type": "display_data"
    }
   ],
   "source": [
    "# Trực quan hóa kết quả\n",
    "train_errs_df = pd.DataFrame(data=np.array(train_errs).reshape(len(alphas), -1),\n",
    "                             index=alphas, columns=num_top_pmakers_s)\n",
    "val_errs_df = pd.DataFrame(data=np.array(val_errs).reshape(len(alphas), -1), \n",
    "                           index=alphas, columns=num_top_pmakers_s)\n",
    "min_err = min(min(train_errs), min(val_errs))\n",
    "max_err = max(max(train_errs), max(val_errs))\n",
    "plt.figure(figsize=(10, 5))\n",
    "plt.subplot(1, 2, 1)\n",
    "sns.heatmap(train_errs_df, vmin=min_err, vmax=max_err, square=True, annot=True, \n",
    "            cbar=False, fmt='.1f', cmap='Reds')\n",
    "plt.title('train errors'); plt.xlabel('num_top_pmakers'); plt.ylabel('alpha')\n",
    "plt.subplot(1, 2, 2)\n",
    "sns.heatmap(val_errs_df, vmin=min_err, vmax=max_err, square=True, annot=True, \n",
    "            cbar=False, fmt='.1f', cmap='Reds')\n",
    "plt.title('validation errors'); plt.xlabel('num_top_pmakers'); plt.ylabel('alpha');"
   ]
  },
  {
   "cell_type": "markdown",
   "metadata": {},
   "source": [
    "- Biểu đồ lỗi của hai tập tr_X và val_X"
   ]
  },
  {
   "cell_type": "code",
   "execution_count": 91,
   "metadata": {
    "scrolled": true
   },
   "outputs": [
    {
     "data": {
      "image/png": "[encoded data removed]",
      "text/plain": [
       "<Figure size 2160x720 with 1 Axes>"
      ]
     },
     "metadata": {
      "needs_background": "light"
     },
     "output_type": "display_data"
    }
   ],
   "source": [
    "plt.figure(figsize=(30,10))\n",
    "\n",
    "plt.plot(train_errs)\n",
    "\n",
    "plt.plot(val_errs)\n",
    "plt.show()"
   ]
  },
  {
   "cell_type": "markdown",
   "metadata": {},
   "source": [
    "- Mô hình hóa tập dữ liệu train với các giá trị best_alpha và best_num_top_pmakers nhận được từ trên:"
   ]
  },
  {
   "cell_type": "code",
   "execution_count": 92,
   "metadata": {},
   "outputs": [],
   "source": [
    "full_pipeline_mlpclassifier.set_params(pipeline__coladderdropper__num_top_pmakers=best_num_top_pmakers,mlpclassifier__alpha = best_alpha)\n",
    "m_mlpclassifier=full_pipeline_mlpclassifier.fit(train_X,train_y)"
   ]
  },
  {
   "cell_type": "code",
   "execution_count": 93,
   "metadata": {},
   "outputs": [
    {
     "name": "stdout",
     "output_type": "stream",
     "text": [
      "Test error:  36.51315789473685\n"
     ]
    }
   ],
   "source": [
    "# Độ lỗi của mô hình dự đoán trên tập test.\n",
    "print('Test error: ', (1- m_mlpclassifier.score(test_X,test_y))*100)"
   ]
  },
  {
   "cell_type": "markdown",
   "metadata": {},
   "source": [
    "- Nhận xét: Tỉ lệ dự đoán điện thoại ở mức giá rẻ ở lớp dự đoán cao hơn nhiều so với ban đầu"
   ]
  },
  {
   "cell_type": "markdown",
   "metadata": {},
   "source": [
    "### Dự đoán mức giá bằng mô hình LogisticRegression\n",
    "- Tạo pipeline có tên là: full_pipeline_logisticregression để tiến hành tiền xử lí và mô hình hóa."
   ]
  },
  {
   "cell_type": "code",
   "execution_count": 94,
   "metadata": {},
   "outputs": [],
   "source": [
    "full_pipeline_logisticregression = make_pipeline(\n",
    "    (preprocess_pipeline),\n",
    "    (LogisticRegression(multi_class='multinomial',random_state = 0)))"
   ]
  },
  {
   "cell_type": "code",
   "execution_count": 126,
   "metadata": {},
   "outputs": [
    {
     "data": {
      "text/plain": [
       "'Finish!'"
      ]
     },
     "execution_count": 126,
     "metadata": {},
     "output_type": "execute_result"
    }
   ],
   "source": [
    "train_errs = []\n",
    "val_errs = []\n",
    "num_top_pmakers_s = range(1,20)\n",
    "\n",
    "best_val_err = float('inf')\n",
    "best_num_top_pmakers = num_top_pmakers_s[0]\n",
    "\n",
    "for num_top_pmakers in num_top_pmakers_s:\n",
    "    full_pipeline_logisticregression.set_params(pipeline__coladderdropper__num_top_pmakers=num_top_pmakers)\n",
    "\n",
    "    s = full_pipeline_logisticregression.fit(tr_X,tr_y)\n",
    "\n",
    "    train_err = (1-s.score(tr_X,tr_y))*100\n",
    "    val_err = (1-s.score(val_X,val_y))*100\n",
    "\n",
    "    train_errs.append(train_err)\n",
    "    val_errs.append(val_err)\n",
    "best_val_err = min(val_errs)\n",
    "\n",
    "'Finish!'"
   ]
  },
  {
   "cell_type": "code",
   "execution_count": 127,
   "metadata": {},
   "outputs": [
    {
     "name": "stdout",
     "output_type": "stream",
     "text": [
      "best_val_err:  35.19736842105263\n",
      "\n"
     ]
    }
   ],
   "source": [
    "# Các giá trị tốt nhất của num_top_pmakers mà mô hình LogisticRegression chọn ra được. \n",
    "print('best_val_err: ', best_val_err)\n",
    "print()"
   ]
  },
  {
   "cell_type": "code",
   "execution_count": 129,
   "metadata": {},
   "outputs": [],
   "source": [
    "# chỉ số của min val_err\n",
    "best_num_top_pmakers = pd.Series(val_errs).argmin()"
   ]
  },
  {
   "cell_type": "code",
   "execution_count": 131,
   "metadata": {
    "scrolled": false
   },
   "outputs": [
    {
     "data": {
      "text/plain": [
       "[<matplotlib.lines.Line2D at 0x1bfd402bca0>]"
      ]
     },
     "execution_count": 131,
     "metadata": {},
     "output_type": "execute_result"
    },
    {
     "data": {
      "image/png": "[encoded data removed]",
      "text/plain": [
       "<Figure size 432x288 with 1 Axes>"
      ]
     },
     "metadata": {
      "needs_background": "light"
     },
     "output_type": "display_data"
    }
   ],
   "source": [
    "# biểu đồ hóa tập val_err\n",
    "plt.plot(val_errs)"
   ]
  },
  {
   "cell_type": "markdown",
   "metadata": {},
   "source": [
    "- Nhận xét: Khi giá trị của num_top_pmakers tăng dần thì độ lỗi gỉam dần, tuy nhiên khi tới mức num_top_pmakers = 7 thì độ lỗi k gảm nữa."
   ]
  },
  {
   "cell_type": "markdown",
   "metadata": {},
   "source": [
    "- Mô hình hóa với tập train"
   ]
  },
  {
   "cell_type": "code",
   "execution_count": 132,
   "metadata": {},
   "outputs": [],
   "source": [
    "full_pipeline_logisticregression.set_params(pipeline__coladderdropper__num_top_pmakers=best_num_top_pmakers)\n",
    "\n",
    "m_logisticregression=full_pipeline_logisticregression.fit(train_X,train_y)"
   ]
  },
  {
   "cell_type": "code",
   "execution_count": 133,
   "metadata": {},
   "outputs": [
    {
     "name": "stdout",
     "output_type": "stream",
     "text": [
      "Train error:  29.571663920922575\n"
     ]
    }
   ],
   "source": [
    "# Tính độ lỗi trên tập Train.\n",
    "print('Train error: ',(1-m_logisticregression.score(train_X,train_y))*100)"
   ]
  },
  {
   "cell_type": "code",
   "execution_count": 134,
   "metadata": {},
   "outputs": [
    {
     "name": "stdout",
     "output_type": "stream",
     "text": [
      "Test error:  36.51315789473685\n"
     ]
    }
   ],
   "source": [
    "# Tính độ lỗi trên tập test\n",
    "print('Test error: ',(1-m_logisticregression.score(test_X,test_y))*100)"
   ]
  },
  {
   "cell_type": "markdown",
   "metadata": {},
   "source": [
    "# Tổng kết:\n",
    "\n",
    "#### Khó khăn: \n",
    "- Dữ liệu thu thập từ các trang web bán hàng ở Việt Nam nên dữ định dạng dữ liệu ở mỗi trang mỗi khác nhau, khó khăn trong quá trình xử lí.\n",
    "- Chưa thành thạo Visualize nên phải thao khảo nhiều từ ví dụ của thầy.\n",
    "\n",
    "#### Nội dung học được từ việc làm đồ án:\n",
    "- Nắm được nhiều kiến thức hơn về github, jupyter notebook, hiểu hơn các mô hình neural network\n",
    "\n",
    "#### Cải tiến đồ án:\n",
    "- Thu thập nhiều dữ liệu hơn để dự đoán giá sản phẩm, chứ không chỉ dừng ở việc phân loại mức giá cho sản phẩm."
   ]
  },
  {
   "cell_type": "markdown",
   "metadata": {},
   "source": [
    "### Tham khảo:\n",
    "1. MPLClassifier: https://scikit-learn.org/stable/modules/generated/sklearn.neural_network.MLPClassifier.html \n",
    "\n",
    "2. LogistcRegression: https://scikit-learn.org/stable/modules/generated/sklearn.linear_model.LogisticRegression.html\n",
    "\n",
    "3. Trực quan hóa dữ liệu và tiền xử lí dữ liệu: File bài tập 3 : Tiền xử lí và mô hình hóa."
   ]
  }
 ],
 "metadata": {
  "kernelspec": {
   "display_name": "Python 3",
   "language": "python",
   "name": "python3"
  },
  "language_info": {
   "codemirror_mode": {
    "name": "ipython",
    "version": 3
   },
   "file_extension": ".py",
   "mimetype": "text/x-python",
   "name": "python",
   "nbconvert_exporter": "python",
   "pygments_lexer": "ipython3",
   "version": "3.8.3"
  }
 },
 "nbformat": 4,
 "nbformat_minor": 4
}
