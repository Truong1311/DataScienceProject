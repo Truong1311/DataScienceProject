{
 "cells": [
  {
   "cell_type": "code",
   "execution_count": 23,
   "metadata": {},
   "outputs": [],
   "source": [
    "import pandas as pd"
   ]
  },
  {
   "cell_type": "code",
   "execution_count": 24,
   "metadata": {},
   "outputs": [],
   "source": [
    "df = pd.read_csv('data_colection.csv')"
   ]
  },
  {
   "cell_type": "code",
   "execution_count": 25,
   "metadata": {
    "scrolled": false
   },
   "outputs": [
    {
     "data": {
      "text/html": [
       "<div>\n",
       "<style scoped>\n",
       "    .dataframe tbody tr th:only-of-type {\n",
       "        vertical-align: middle;\n",
       "    }\n",
       "\n",
       "    .dataframe tbody tr th {\n",
       "        vertical-align: top;\n",
       "    }\n",
       "\n",
       "    .dataframe thead th {\n",
       "        text-align: right;\n",
       "    }\n",
       "</style>\n",
       "<table border=\"1\" class=\"dataframe\">\n",
       "  <thead>\n",
       "    <tr style=\"text-align: right;\">\n",
       "      <th></th>\n",
       "      <th>Name</th>\n",
       "      <th>Screen</th>\n",
       "      <th>Cpu</th>\n",
       "      <th>MainCamera</th>\n",
       "      <th>SelfieCamera</th>\n",
       "      <th>Rom</th>\n",
       "      <th>Ram</th>\n",
       "      <th>Pin</th>\n",
       "      <th>Price</th>\n",
       "    </tr>\n",
       "  </thead>\n",
       "  <tbody>\n",
       "    <tr>\n",
       "      <th>0</th>\n",
       "      <td>Xiaomi POCO M3 - Chính hãng</td>\n",
       "      <td>IPS LCD, 6.53\", Full HD+</td>\n",
       "      <td>Snapdragon 662 8 nhân</td>\n",
       "      <td>Chính 48 MP &amp; Phụ 2 MP, 2 MP</td>\n",
       "      <td>8MP</td>\n",
       "      <td>128/64 GB</td>\n",
       "      <td>4GB</td>\n",
       "      <td>6000mAh</td>\n",
       "      <td>3.490.000 Đ</td>\n",
       "    </tr>\n",
       "    <tr>\n",
       "      <th>1</th>\n",
       "      <td>Oppo Reno5 8GB/128GB chính hãng</td>\n",
       "      <td>6,43 inch, OLED</td>\n",
       "      <td>Qualcomm SM7125 Snapdragon 720G (8 nm)</td>\n",
       "      <td>Chính 64 MP &amp; Phụ 8 MP, 2 MP, 2 MP</td>\n",
       "      <td>44MP</td>\n",
       "      <td>128 GB</td>\n",
       "      <td>8 GB</td>\n",
       "      <td>4.310 mAh + Sạc nhanh 50W</td>\n",
       "      <td>7.990.000 Đ</td>\n",
       "    </tr>\n",
       "    <tr>\n",
       "      <th>2</th>\n",
       "      <td>Redmi Note 9 Pro 5G 6Gb/128Gb</td>\n",
       "      <td></td>\n",
       "      <td>Octa-core (2x2.2 GHz Kryo 570 &amp; 6x1.8 GHz Kryo...</td>\n",
       "      <td>Chính 108MP+8MP+2MP+2MP</td>\n",
       "      <td>16MP</td>\n",
       "      <td>128 GB</td>\n",
       "      <td>6GB</td>\n",
       "      <td>Li-Po 4820 mAh</td>\n",
       "      <td>6.390.000 Đ</td>\n",
       "    </tr>\n",
       "    <tr>\n",
       "      <th>3</th>\n",
       "      <td>iPhone SE Cũ 16Gb Nguyên Bản</td>\n",
       "      <td>IPS LCD, 4.0\", DVGA</td>\n",
       "      <td>Apple A9</td>\n",
       "      <td>12 MP</td>\n",
       "      <td>1.2 MP</td>\n",
       "      <td>16 GB</td>\n",
       "      <td>2 GB</td>\n",
       "      <td>Li-Po 1624 mAh</td>\n",
       "      <td>2.190.000 Đ</td>\n",
       "    </tr>\n",
       "    <tr>\n",
       "      <th>4</th>\n",
       "      <td>Oppo Reno5Pro 8GB/128GB Hàng chính hãng</td>\n",
       "      <td>OLED, 6.55\", Full HD+</td>\n",
       "      <td>8 nhân</td>\n",
       "      <td>Chính 64 MP &amp; Phụ 8 MP, 2 MP, 2 MP</td>\n",
       "      <td>32MP</td>\n",
       "      <td>256GB</td>\n",
       "      <td>8 GB</td>\n",
       "      <td>Có sạc ngược</td>\n",
       "      <td>Liên hệ</td>\n",
       "    </tr>\n",
       "    <tr>\n",
       "      <th>...</th>\n",
       "      <td>...</td>\n",
       "      <td>...</td>\n",
       "      <td>...</td>\n",
       "      <td>...</td>\n",
       "      <td>...</td>\n",
       "      <td>...</td>\n",
       "      <td>...</td>\n",
       "      <td>...</td>\n",
       "      <td>...</td>\n",
       "    </tr>\n",
       "    <tr>\n",
       "      <th>1823</th>\n",
       "      <td>Mobell C310</td>\n",
       "      <td>NaN</td>\n",
       "      <td>NaN</td>\n",
       "      <td>0.8 MP</td>\n",
       "      <td>NaN</td>\n",
       "      <td>NaN</td>\n",
       "      <td>NaN</td>\n",
       "      <td>NaN</td>\n",
       "      <td>200.000₫</td>\n",
       "    </tr>\n",
       "    <tr>\n",
       "      <th>1824</th>\n",
       "      <td>Mobell M229 (2019)</td>\n",
       "      <td>NaN</td>\n",
       "      <td>NaN</td>\n",
       "      <td>0.8 MP</td>\n",
       "      <td>NaN</td>\n",
       "      <td>NaN</td>\n",
       "      <td>NaN</td>\n",
       "      <td>NaN</td>\n",
       "      <td>190.000₫</td>\n",
       "    </tr>\n",
       "    <tr>\n",
       "      <th>1825</th>\n",
       "      <td>Masstel IZI 120</td>\n",
       "      <td>NaN</td>\n",
       "      <td>NaN</td>\n",
       "      <td>NaN</td>\n",
       "      <td>NaN</td>\n",
       "      <td>NaN</td>\n",
       "      <td>NaN</td>\n",
       "      <td>NaN</td>\n",
       "      <td>190.000₫</td>\n",
       "    </tr>\n",
       "    <tr>\n",
       "      <th>1826</th>\n",
       "      <td>Itel Value 100</td>\n",
       "      <td>NaN</td>\n",
       "      <td>NaN</td>\n",
       "      <td>NaN</td>\n",
       "      <td>NaN</td>\n",
       "      <td>NaN</td>\n",
       "      <td>NaN</td>\n",
       "      <td>NaN</td>\n",
       "      <td>170.000₫</td>\n",
       "    </tr>\n",
       "    <tr>\n",
       "      <th>1827</th>\n",
       "      <td>MOBELL M228</td>\n",
       "      <td>NaN</td>\n",
       "      <td>NaN</td>\n",
       "      <td>VGA (480 x 640 pixels)</td>\n",
       "      <td>NaN</td>\n",
       "      <td>NaN</td>\n",
       "      <td>NaN</td>\n",
       "      <td>NaN</td>\n",
       "      <td>160.000₫</td>\n",
       "    </tr>\n",
       "  </tbody>\n",
       "</table>\n",
       "<p>1828 rows × 9 columns</p>\n",
       "</div>"
      ],
      "text/plain": [
       "                                         Name                     Screen  \\\n",
       "0                 Xiaomi POCO M3 - Chính hãng   IPS LCD, 6.53\", Full HD+   \n",
       "1             Oppo Reno5 8GB/128GB chính hãng            6,43 inch, OLED   \n",
       "2               Redmi Note 9 Pro 5G 6Gb/128Gb                              \n",
       "3                iPhone SE Cũ 16Gb Nguyên Bản        IPS LCD, 4.0\", DVGA   \n",
       "4     Oppo Reno5Pro 8GB/128GB Hàng chính hãng      OLED, 6.55\", Full HD+   \n",
       "...                                       ...                        ...   \n",
       "1823                              Mobell C310                        NaN   \n",
       "1824                       Mobell M229 (2019)                        NaN   \n",
       "1825                          Masstel IZI 120                        NaN   \n",
       "1826                           Itel Value 100                        NaN   \n",
       "1827                              MOBELL M228                        NaN   \n",
       "\n",
       "                                                    Cpu  \\\n",
       "0                                 Snapdragon 662 8 nhân   \n",
       "1                Qualcomm SM7125 Snapdragon 720G (8 nm)   \n",
       "2     Octa-core (2x2.2 GHz Kryo 570 & 6x1.8 GHz Kryo...   \n",
       "3                                              Apple A9   \n",
       "4                                                8 nhân   \n",
       "...                                                 ...   \n",
       "1823                                                NaN   \n",
       "1824                                                NaN   \n",
       "1825                                                NaN   \n",
       "1826                                                NaN   \n",
       "1827                                                NaN   \n",
       "\n",
       "                              MainCamera SelfieCamera         Rom    Ram  \\\n",
       "0           Chính 48 MP & Phụ 2 MP, 2 MP          8MP   128/64 GB    4GB   \n",
       "1     Chính 64 MP & Phụ 8 MP, 2 MP, 2 MP         44MP      128 GB   8 GB   \n",
       "2                Chính 108MP+8MP+2MP+2MP         16MP      128 GB    6GB   \n",
       "3                                  12 MP       1.2 MP       16 GB   2 GB   \n",
       "4     Chính 64 MP & Phụ 8 MP, 2 MP, 2 MP         32MP       256GB   8 GB   \n",
       "...                                  ...          ...         ...    ...   \n",
       "1823                              0.8 MP          NaN         NaN    NaN   \n",
       "1824                              0.8 MP          NaN         NaN    NaN   \n",
       "1825                                 NaN          NaN         NaN    NaN   \n",
       "1826                                 NaN          NaN         NaN    NaN   \n",
       "1827              VGA (480 x 640 pixels)          NaN         NaN    NaN   \n",
       "\n",
       "                            Pin        Price  \n",
       "0                       6000mAh  3.490.000 Đ  \n",
       "1     4.310 mAh + Sạc nhanh 50W  7.990.000 Đ  \n",
       "2                Li-Po 4820 mAh  6.390.000 Đ  \n",
       "3                Li-Po 1624 mAh  2.190.000 Đ  \n",
       "4                  Có sạc ngược      Liên hệ  \n",
       "...                         ...          ...  \n",
       "1823                        NaN     200.000₫  \n",
       "1824                        NaN     190.000₫  \n",
       "1825                        NaN     190.000₫  \n",
       "1826                        NaN     170.000₫  \n",
       "1827                        NaN     160.000₫  \n",
       "\n",
       "[1828 rows x 9 columns]"
      ]
     },
     "execution_count": 25,
     "metadata": {},
     "output_type": "execute_result"
    }
   ],
   "source": [
    "df"
   ]
  },
  {
   "cell_type": "code",
   "execution_count": 26,
   "metadata": {},
   "outputs": [
    {
     "data": {
      "text/plain": [
       "111"
      ]
     },
     "execution_count": 26,
     "metadata": {},
     "output_type": "execute_result"
    }
   ],
   "source": [
    "df.duplicated().sum()"
   ]
  },
  {
   "cell_type": "markdown",
   "metadata": {},
   "source": [
    "- Khám phá tập dữ liệu ta thấy các dòng cuối có quá nhiều thuộc tính bị thiếu, nếu để như vậy thì rất có thể dự đoán sẽ dễ bị sai lệch, do đó cần loại bỏ những dòng này.\n",
    "Xóa những điện thoại có những thuộc tính bị thiếu hơn 50% ( thiếu hơn 5 thuộc tính)"
   ]
  },
  {
   "cell_type": "code",
   "execution_count": 27,
   "metadata": {},
   "outputs": [],
   "source": [
    "for idx in df.index:\n",
    "    if df.loc[idx].isna().sum() >= 5:\n",
    "        df.drop(idx, inplace=True)"
   ]
  },
  {
   "cell_type": "markdown",
   "metadata": {},
   "source": [
    "- Vì mục đích là dự đoán giá điện thoại nên cần phải xóa những dữ liệu không có giá trị. Suy ra, phải xóa những dòng của thuộc tính Price ( giá cả) với các giá trị \"Liên hệ\", và các giá trị thiếu."
   ]
  },
  {
   "cell_type": "code",
   "execution_count": 28,
   "metadata": {},
   "outputs": [],
   "source": [
    "df.drop(df[df.Price == 'Liên hệ'].index, inplace=True)"
   ]
  },
  {
   "cell_type": "code",
   "execution_count": 29,
   "metadata": {},
   "outputs": [],
   "source": [
    "df.drop(df[df.Price.isna() == True].index, inplace=True)"
   ]
  },
  {
   "cell_type": "code",
   "execution_count": 30,
   "metadata": {
    "scrolled": true
   },
   "outputs": [
    {
     "data": {
      "text/plain": [
       "0       3.490.000 Đ\n",
       "1       7.990.000 Đ\n",
       "2       6.390.000 Đ\n",
       "3       2.190.000 Đ\n",
       "5       3.290.000 Đ\n",
       "           ...     \n",
       "1786     1.070.000₫\n",
       "1788       990.000₫\n",
       "1789       890.000₫\n",
       "1790       890.000₫\n",
       "1798       590.000₫\n",
       "Name: Price, Length: 1518, dtype: object"
      ]
     },
     "execution_count": 30,
     "metadata": {},
     "output_type": "execute_result"
    }
   ],
   "source": [
    "df.Price"
   ]
  },
  {
   "cell_type": "markdown",
   "metadata": {},
   "source": [
    "- Chuyển Price sang dạng số."
   ]
  },
  {
   "cell_type": "code",
   "execution_count": 31,
   "metadata": {},
   "outputs": [],
   "source": [
    "for idx in df.Price.index:\n",
    "    price = int(df.Price[idx].replace('.','').replace('Đ','').replace('đ','').replace('₫','').replace(' ',''))\n",
    "    if price < 6000000:\n",
    "        df['Price'][idx] = 1\n",
    "    elif price <10000000:\n",
    "        df['Price'][idx] = 2\n",
    "    elif price < 18000000:\n",
    "        df['Price'][idx] = 3\n",
    "    else:\n",
    "        df['Price'][idx] = 4"
   ]
  },
  {
   "cell_type": "markdown",
   "metadata": {},
   "source": [
    "- Tiếp theo lưu dataframe và 1 file csv có tên là data02.csv để làm tiếp giai đoạn mô hình hóa và dự đoán."
   ]
  },
  {
   "cell_type": "code",
   "execution_count": 10,
   "metadata": {},
   "outputs": [],
   "source": [
    "export_csv = df.to_csv ('phone_data.csv', index = None, header=True)"
   ]
  }
 ],
 "metadata": {
  "kernelspec": {
   "display_name": "Python 3",
   "language": "python",
   "name": "python3"
  },
  "language_info": {
   "codemirror_mode": {
    "name": "ipython",
    "version": 3
   },
   "file_extension": ".py",
   "mimetype": "text/x-python",
   "name": "python",
   "nbconvert_exporter": "python",
   "pygments_lexer": "ipython3",
   "version": "3.8.3"
  }
 },
 "nbformat": 4,
 "nbformat_minor": 4
}
